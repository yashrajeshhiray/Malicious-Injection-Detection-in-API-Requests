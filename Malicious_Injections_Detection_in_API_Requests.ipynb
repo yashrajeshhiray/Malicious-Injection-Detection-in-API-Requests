{
  "cells": [
    {
      "cell_type": "markdown",
      "metadata": {
        "id": "19iwQLsayyrw"
      },
      "source": [
        "### Preprocessing"
      ]
    },
    {
      "cell_type": "code",
      "execution_count": null,
      "metadata": {
        "id": "QmNZSZHqfiVI"
      },
      "outputs": [],
      "source": [
        "#df = pd.read_csv('C:/Users/Yash/Desktop/ML_Playing_with_Data/CYB_ML/train_info.csv')\n",
        "#df.head()"
      ]
    },
    {
      "cell_type": "code",
      "execution_count": null,
      "metadata": {
        "id": "TGfs-O97fiVL"
      },
      "outputs": [],
      "source": [
        "#df.shape"
      ]
    },
    {
      "cell_type": "code",
      "execution_count": null,
      "metadata": {
        "id": "_fENYSjofiVM"
      },
      "outputs": [],
      "source": [
        "#df.injection.value_counts()"
      ]
    },
    {
      "cell_type": "code",
      "execution_count": null,
      "metadata": {
        "id": "-3PkiOgTfiVO"
      },
      "outputs": [],
      "source": [
        "from collections import Counter\n",
        "Counter(df['injection'])"
      ]
    },
    {
      "cell_type": "code",
      "execution_count": null,
      "metadata": {
        "id": "AZv4bIgffiVP"
      },
      "outputs": [],
      "source": [
        "import msgpack"
      ]
    },
    {
      "cell_type": "code",
      "execution_count": null,
      "metadata": {
        "id": "cP7uE1E5fiVQ",
        "scrolled": true
      },
      "outputs": [],
      "source": [
        "with open('C:/Users/Yash/Desktop/ML_Playing_with_Data/CYB_ML/train.msgpack', 'rb') as data_file:\n",
        "    train = msgpack.unpack(data_file)"
      ]
    },
    {
      "cell_type": "code",
      "execution_count": null,
      "metadata": {
        "id": "4HP2miX1fiVT"
      },
      "outputs": [],
      "source": [
        "train = pd.DataFrame(train)\n",
        "#train.columns = ['id', 'text']"
      ]
    },
    {
      "cell_type": "code",
      "execution_count": null,
      "metadata": {
        "id": "VuGYgVGnfiVU",
        "outputId": "5b623c82-c976-446e-c8b8-753ad0f79e70"
      },
      "outputs": [
        {
          "data": {
            "text/html": [
              "<div>\n",
              "<style scoped>\n",
              "    .dataframe tbody tr th:only-of-type {\n",
              "        vertical-align: middle;\n",
              "    }\n",
              "\n",
              "    .dataframe tbody tr th {\n",
              "        vertical-align: top;\n",
              "    }\n",
              "\n",
              "    .dataframe thead th {\n",
              "        text-align: right;\n",
              "    }\n",
              "</style>\n",
              "<table border=\"1\" class=\"dataframe\">\n",
              "  <thead>\n",
              "    <tr style=\"text-align: right;\">\n",
              "      <th></th>\n",
              "      <th>0</th>\n",
              "      <th>1</th>\n",
              "    </tr>\n",
              "  </thead>\n",
              "  <tbody>\n",
              "    <tr>\n",
              "      <th>0</th>\n",
              "      <td>59290</td>\n",
              "      <td>b\"' and/**/38&gt;( select\\t(622)/**/from/*362 emh...</td>\n",
              "    </tr>\n",
              "    <tr>\n",
              "      <th>1</th>\n",
              "      <td>54992</td>\n",
              "      <td>b'shqpkt\" union /*!426 all\\t*/(select kwicwt(\\...</td>\n",
              "    </tr>\n",
              "    <tr>\n",
              "      <th>2</th>\n",
              "      <td>64287</td>\n",
              "      <td>b'nhnqag\" uniondistinct--154 298 plhlre exaloq...</td>\n",
              "    </tr>\n",
              "    <tr>\n",
              "      <th>3</th>\n",
              "      <td>28821</td>\n",
              "      <td>b'D8j+oNbylTIGw='</td>\n",
              "    </tr>\n",
              "    <tr>\n",
              "      <th>4</th>\n",
              "      <td>27825</td>\n",
              "      <td>b'ened \\\\\"&gt;\\\\n  &lt;head&gt;\\\\n    &lt;script data-reac...</td>\n",
              "    </tr>\n",
              "    <tr>\n",
              "      <th>5</th>\n",
              "      <td>74446</td>\n",
              "      <td>b'\" union/*M!719 */'</td>\n",
              "    </tr>\n",
              "    <tr>\n",
              "      <th>6</th>\n",
              "      <td>71873</td>\n",
              "      <td>b'194 union#93 yguxsk 669 393 \\r\\tselect\\t\\tex...</td>\n",
              "    </tr>\n",
              "    <tr>\n",
              "      <th>7</th>\n",
              "      <td>87153</td>\n",
              "      <td>b'/example.example?%7Cmeta%82http-equiv=Set-Co...</td>\n",
              "    </tr>\n",
              "    <tr>\n",
              "      <th>8</th>\n",
              "      <td>76096</td>\n",
              "      <td>b'\"  /*M!union*/'</td>\n",
              "    </tr>\n",
              "    <tr>\n",
              "      <th>9</th>\n",
              "      <td>42354</td>\n",
              "      <td>b'/handler_sync_example.example?i=j4sR/mhZpekz...</td>\n",
              "    </tr>\n",
              "    <tr>\n",
              "      <th>10</th>\n",
              "      <td>41055</td>\n",
              "      <td>b'/search?string=EPSON EXPRESSION HOME XP-794&amp;...</td>\n",
              "    </tr>\n",
              "    <tr>\n",
              "      <th>11</th>\n",
              "      <td>33516</td>\n",
              "      <td>b'kEC+oNOwUkgJOk4bn7Jm9wOWOT6V ... f9g='</td>\n",
              "    </tr>\n",
              "    <tr>\n",
              "      <th>12</th>\n",
              "      <td>101157</td>\n",
              "      <td>b'%24%3E%7Cscript%3Ealert(%12sap_its_urlmime_e...</td>\n",
              "    </tr>\n",
              "    <tr>\n",
              "      <th>13</th>\n",
              "      <td>74110</td>\n",
              "      <td>b'794  and bjwdqp((318), \\t/*M!354 932, (625),...</td>\n",
              "    </tr>\n",
              "    <tr>\n",
              "      <th>14</th>\n",
              "      <td>44176</td>\n",
              "      <td>b'https://example.example.ru/krasota/massage/?...</td>\n",
              "    </tr>\n",
              "    <tr>\n",
              "      <th>15</th>\n",
              "      <td>16094</td>\n",
              "      <td>b'/handler_sync_example.example?i=Ypg//ONuVSKG...</td>\n",
              "    </tr>\n",
              "    <tr>\n",
              "      <th>16</th>\n",
              "      <td>83110</td>\n",
              "      <td>b'ru1527924556435\" UNION SELECT CHAR(78,655,28...</td>\n",
              "    </tr>\n",
              "    <tr>\n",
              "      <th>17</th>\n",
              "      <td>76039</td>\n",
              "      <td>b\"' union/*M!*/\"</td>\n",
              "    </tr>\n",
              "    <tr>\n",
              "      <th>18</th>\n",
              "      <td>43379</td>\n",
              "      <td>b'm\\xc2\\xa4\\x0c..dEv\\xc3\\x83\\x0e\\x085\\x1d'</td>\n",
              "    </tr>\n",
              "    <tr>\n",
              "      <th>19</th>\n",
              "      <td>20021</td>\n",
              "      <td>b'If at least one response to *Race* (*America...</td>\n",
              "    </tr>\n",
              "    <tr>\n",
              "      <th>20</th>\n",
              "      <td>53171</td>\n",
              "      <td>b'%F3%3F%74%BF'</td>\n",
              "    </tr>\n",
              "    <tr>\n",
              "      <th>21</th>\n",
              "      <td>100344</td>\n",
              "      <td>b\"%1C!--%16BEGIN%79JIVOSITE%58CODE%34%1Blitera...</td>\n",
              "    </tr>\n",
              "    <tr>\n",
              "      <th>22</th>\n",
              "      <td>94425</td>\n",
              "      <td>b'%5Ca%65HrEf=VbScRiPt:MsgBox(14527)%7E'</td>\n",
              "    </tr>\n",
              "    <tr>\n",
              "      <th>23</th>\n",
              "      <td>88449</td>\n",
              "      <td>b\"'%23@--%4E%4C/style%4E%3C/scRipt%6E%5CscRipt...</td>\n",
              "    </tr>\n",
              "    <tr>\n",
              "      <th>24</th>\n",
              "      <td>78054</td>\n",
              "      <td>b\"235548452427489' UNION SELECT CHAR(53,272,24...</td>\n",
              "    </tr>\n",
              "    <tr>\n",
              "      <th>25</th>\n",
              "      <td>97498</td>\n",
              "      <td>b\"'%28--%9E%5C/style%2E%3C/scRipt%9E%9CscRipt%...</td>\n",
              "    </tr>\n",
              "    <tr>\n",
              "      <th>26</th>\n",
              "      <td>71720</td>\n",
              "      <td>b'893 union--anynpq mrrllu 556 55 \\rall/*annaw...</td>\n",
              "    </tr>\n",
              "    <tr>\n",
              "      <th>27</th>\n",
              "      <td>81271</td>\n",
              "      <td>b\"view' aNd '8'='6\"</td>\n",
              "    </tr>\n",
              "    <tr>\n",
              "      <th>28</th>\n",
              "      <td>60015</td>\n",
              "      <td>b'755 union/*mgjrer qqypxc */distinct\\tselectd...</td>\n",
              "    </tr>\n",
              "    <tr>\n",
              "      <th>29</th>\n",
              "      <td>53814</td>\n",
              "      <td>b'Sequoia F.3L Falco'</td>\n",
              "    </tr>\n",
              "    <tr>\n",
              "      <th>...</th>\n",
              "      <td>...</td>\n",
              "      <td>...</td>\n",
              "    </tr>\n",
              "    <tr>\n",
              "      <th>65824</th>\n",
              "      <td>60237</td>\n",
              "      <td>b'276 unionselect\\t(wcsgyl/*882 bedfcf */((778...</td>\n",
              "    </tr>\n",
              "    <tr>\n",
              "      <th>65825</th>\n",
              "      <td>7198</td>\n",
              "      <td>b'y6C/NyocX/C+V ... +or+7CBG7BF7aFsdTRNl4zjWSr...</td>\n",
              "    </tr>\n",
              "    <tr>\n",
              "      <th>65826</th>\n",
              "      <td>28332</td>\n",
              "      <td>b'/handler_sync_example.example?i=xA27jrbUywGL...</td>\n",
              "    </tr>\n",
              "    <tr>\n",
              "      <th>65827</th>\n",
              "      <td>93122</td>\n",
              "      <td>b\"left'%79()&amp;%94%4Cacx%4E%6CScRiPt%27%9EvQez(4...</td>\n",
              "    </tr>\n",
              "    <tr>\n",
              "      <th>65828</th>\n",
              "      <td>2791</td>\n",
              "      <td>b'/suggest?q=snmp telnet&amp;cat=2&amp;locationId=835347'</td>\n",
              "    </tr>\n",
              "    <tr>\n",
              "      <th>65829</th>\n",
              "      <td>54636</td>\n",
              "      <td>b'58  union /*!*/select(eindxb\\t()), (woilds(8...</td>\n",
              "    </tr>\n",
              "    <tr>\n",
              "      <th>65830</th>\n",
              "      <td>55601</td>\n",
              "      <td>b'\"  union /*!select( pokxla(*/(jltoft ()), (v...</td>\n",
              "    </tr>\n",
              "    <tr>\n",
              "      <th>65831</th>\n",
              "      <td>19108</td>\n",
              "      <td>b'/handler_sync_example.example?i=MmxEFa915Xkh...</td>\n",
              "    </tr>\n",
              "    <tr>\n",
              "      <th>65832</th>\n",
              "      <td>21528</td>\n",
              "      <td>b'/catalog/tovari/akkumuliator-avtomobilnyi-mo...</td>\n",
              "    </tr>\n",
              "    <tr>\n",
              "      <th>65833</th>\n",
              "      <td>11731</td>\n",
              "      <td>b'/handler_sync_example.example?i=7kCYG4rhJWFt...</td>\n",
              "    </tr>\n",
              "    <tr>\n",
              "      <th>65834</th>\n",
              "      <td>62624</td>\n",
              "      <td>b'\" or/*!932 93&lt;( select\\t*/rqxhua(13)\\tfrom e...</td>\n",
              "    </tr>\n",
              "    <tr>\n",
              "      <th>65835</th>\n",
              "      <td>96676</td>\n",
              "      <td>b'wiki:example.example%18%9E%8Ca%82HrEf=VbScRi...</td>\n",
              "    </tr>\n",
              "    <tr>\n",
              "      <th>65836</th>\n",
              "      <td>32300</td>\n",
              "      <td>b'{\"taskId\":898496643,\"userUid\":\"bot-142454935...</td>\n",
              "    </tr>\n",
              "    <tr>\n",
              "      <th>65837</th>\n",
              "      <td>50749</td>\n",
              "      <td>b'Cambarus montanus'</td>\n",
              "    </tr>\n",
              "    <tr>\n",
              "      <th>65838</th>\n",
              "      <td>103381</td>\n",
              "      <td>b'/web/registration?passwordConfirmation=364%6...</td>\n",
              "    </tr>\n",
              "    <tr>\n",
              "      <th>65839</th>\n",
              "      <td>50555</td>\n",
              "      <td>b'Bryni of Sussex'</td>\n",
              "    </tr>\n",
              "    <tr>\n",
              "      <th>65840</th>\n",
              "      <td>67100</td>\n",
              "      <td>b'478  /*M!union*/'</td>\n",
              "    </tr>\n",
              "    <tr>\n",
              "      <th>65841</th>\n",
              "      <td>75956</td>\n",
              "      <td>b'241  union/*!*/'</td>\n",
              "    </tr>\n",
              "    <tr>\n",
              "      <th>65842</th>\n",
              "      <td>39011</td>\n",
              "      <td>b'/admarvel/?referrer=http://example.exampleex...</td>\n",
              "    </tr>\n",
              "    <tr>\n",
              "      <th>65843</th>\n",
              "      <td>5928</td>\n",
              "      <td>b'fde/OnuGqHfjaA4mHsp2jSxUCfOP ... XwY='</td>\n",
              "    </tr>\n",
              "    <tr>\n",
              "      <th>65844</th>\n",
              "      <td>35499</td>\n",
              "      <td>b'2 pm: Ferry boards from EDIC Pier for Friday...</td>\n",
              "    </tr>\n",
              "    <tr>\n",
              "      <th>65845</th>\n",
              "      <td>51457</td>\n",
              "      <td>b'Methanocorpusculum'</td>\n",
              "    </tr>\n",
              "    <tr>\n",
              "      <th>65846</th>\n",
              "      <td>96598</td>\n",
              "      <td>b'%5Ca%64HrEf=VbScRiPt:MsgBox(84858)%9E'</td>\n",
              "    </tr>\n",
              "    <tr>\n",
              "      <th>65847</th>\n",
              "      <td>94569</td>\n",
              "      <td>b'/example.example?Session=NWG6BNXVW8OXL&amp;View=...</td>\n",
              "    </tr>\n",
              "    <tr>\n",
              "      <th>65848</th>\n",
              "      <td>67199</td>\n",
              "      <td>b'65  union/*M!*/'</td>\n",
              "    </tr>\n",
              "    <tr>\n",
              "      <th>65849</th>\n",
              "      <td>101752</td>\n",
              "      <td>b'/ar/oman/jobs/business-development-manager-....</td>\n",
              "    </tr>\n",
              "    <tr>\n",
              "      <th>65850</th>\n",
              "      <td>1268</td>\n",
              "      <td>b'/handler_sync_example.example?i=R6h7gDYJou38...</td>\n",
              "    </tr>\n",
              "    <tr>\n",
              "      <th>65851</th>\n",
              "      <td>59965</td>\n",
              "      <td>b\"'union distinctselect ('touujd'), (rcgbfl), ...</td>\n",
              "    </tr>\n",
              "    <tr>\n",
              "      <th>65852</th>\n",
              "      <td>26176</td>\n",
              "      <td>b'/handler_sync_example.example?i=PHqomsUPFgwT...</td>\n",
              "    </tr>\n",
              "    <tr>\n",
              "      <th>65853</th>\n",
              "      <td>1762</td>\n",
              "      <td>b'na/&lt;object wid'</td>\n",
              "    </tr>\n",
              "  </tbody>\n",
              "</table>\n",
              "<p>65854 rows × 2 columns</p>\n",
              "</div>"
            ],
            "text/plain": [
              "            0                                                  1\n",
              "0       59290  b\"' and/**/38>( select\\t(622)/**/from/*362 emh...\n",
              "1       54992  b'shqpkt\" union /*!426 all\\t*/(select kwicwt(\\...\n",
              "2       64287  b'nhnqag\" uniondistinct--154 298 plhlre exaloq...\n",
              "3       28821                                  b'D8j+oNbylTIGw='\n",
              "4       27825  b'ened \\\\\">\\\\n  <head>\\\\n    <script data-reac...\n",
              "5       74446                               b'\" union/*M!719 */'\n",
              "6       71873  b'194 union#93 yguxsk 669 393 \\r\\tselect\\t\\tex...\n",
              "7       87153  b'/example.example?%7Cmeta%82http-equiv=Set-Co...\n",
              "8       76096                                  b'\"  /*M!union*/'\n",
              "9       42354  b'/handler_sync_example.example?i=j4sR/mhZpekz...\n",
              "10      41055  b'/search?string=EPSON EXPRESSION HOME XP-794&...\n",
              "11      33516           b'kEC+oNOwUkgJOk4bn7Jm9wOWOT6V ... f9g='\n",
              "12     101157  b'%24%3E%7Cscript%3Ealert(%12sap_its_urlmime_e...\n",
              "13      74110  b'794  and bjwdqp((318), \\t/*M!354 932, (625),...\n",
              "14      44176  b'https://example.example.ru/krasota/massage/?...\n",
              "15      16094  b'/handler_sync_example.example?i=Ypg//ONuVSKG...\n",
              "16      83110  b'ru1527924556435\" UNION SELECT CHAR(78,655,28...\n",
              "17      76039                                   b\"' union/*M!*/\"\n",
              "18      43379         b'm\\xc2\\xa4\\x0c..dEv\\xc3\\x83\\x0e\\x085\\x1d'\n",
              "19      20021  b'If at least one response to *Race* (*America...\n",
              "20      53171                                    b'%F3%3F%74%BF'\n",
              "21     100344  b\"%1C!--%16BEGIN%79JIVOSITE%58CODE%34%1Blitera...\n",
              "22      94425           b'%5Ca%65HrEf=VbScRiPt:MsgBox(14527)%7E'\n",
              "23      88449  b\"'%23@--%4E%4C/style%4E%3C/scRipt%6E%5CscRipt...\n",
              "24      78054  b\"235548452427489' UNION SELECT CHAR(53,272,24...\n",
              "25      97498  b\"'%28--%9E%5C/style%2E%3C/scRipt%9E%9CscRipt%...\n",
              "26      71720  b'893 union--anynpq mrrllu 556 55 \\rall/*annaw...\n",
              "27      81271                                b\"view' aNd '8'='6\"\n",
              "28      60015  b'755 union/*mgjrer qqypxc */distinct\\tselectd...\n",
              "29      53814                              b'Sequoia F.3L Falco'\n",
              "...       ...                                                ...\n",
              "65824   60237  b'276 unionselect\\t(wcsgyl/*882 bedfcf */((778...\n",
              "65825    7198  b'y6C/NyocX/C+V ... +or+7CBG7BF7aFsdTRNl4zjWSr...\n",
              "65826   28332  b'/handler_sync_example.example?i=xA27jrbUywGL...\n",
              "65827   93122  b\"left'%79()&%94%4Cacx%4E%6CScRiPt%27%9EvQez(4...\n",
              "65828    2791  b'/suggest?q=snmp telnet&cat=2&locationId=835347'\n",
              "65829   54636  b'58  union /*!*/select(eindxb\\t()), (woilds(8...\n",
              "65830   55601  b'\"  union /*!select( pokxla(*/(jltoft ()), (v...\n",
              "65831   19108  b'/handler_sync_example.example?i=MmxEFa915Xkh...\n",
              "65832   21528  b'/catalog/tovari/akkumuliator-avtomobilnyi-mo...\n",
              "65833   11731  b'/handler_sync_example.example?i=7kCYG4rhJWFt...\n",
              "65834   62624  b'\" or/*!932 93<( select\\t*/rqxhua(13)\\tfrom e...\n",
              "65835   96676  b'wiki:example.example%18%9E%8Ca%82HrEf=VbScRi...\n",
              "65836   32300  b'{\"taskId\":898496643,\"userUid\":\"bot-142454935...\n",
              "65837   50749                               b'Cambarus montanus'\n",
              "65838  103381  b'/web/registration?passwordConfirmation=364%6...\n",
              "65839   50555                                 b'Bryni of Sussex'\n",
              "65840   67100                                b'478  /*M!union*/'\n",
              "65841   75956                                 b'241  union/*!*/'\n",
              "65842   39011  b'/admarvel/?referrer=http://example.exampleex...\n",
              "65843    5928           b'fde/OnuGqHfjaA4mHsp2jSxUCfOP ... XwY='\n",
              "65844   35499  b'2 pm: Ferry boards from EDIC Pier for Friday...\n",
              "65845   51457                              b'Methanocorpusculum'\n",
              "65846   96598           b'%5Ca%64HrEf=VbScRiPt:MsgBox(84858)%9E'\n",
              "65847   94569  b'/example.example?Session=NWG6BNXVW8OXL&View=...\n",
              "65848   67199                                 b'65  union/*M!*/'\n",
              "65849  101752  b'/ar/oman/jobs/business-development-manager-....\n",
              "65850    1268  b'/handler_sync_example.example?i=R6h7gDYJou38...\n",
              "65851   59965  b\"'union distinctselect ('touujd'), (rcgbfl), ...\n",
              "65852   26176  b'/handler_sync_example.example?i=PHqomsUPFgwT...\n",
              "65853    1762                                  b'na/<object wid'\n",
              "\n",
              "[65854 rows x 2 columns]"
            ]
          },
          "execution_count": 10,
          "metadata": {},
          "output_type": "execute_result"
        }
      ],
      "source": [
        "train"
      ]
    },
    {
      "cell_type": "code",
      "execution_count": null,
      "metadata": {
        "id": "ueCEl2e6fiVW"
      },
      "outputs": [],
      "source": [
        "train.columns = ['id', 'text']"
      ]
    },
    {
      "cell_type": "code",
      "execution_count": null,
      "metadata": {
        "id": "EGeYnMe4fiVX",
        "outputId": "b95c2125-f258-45b4-ec34-a7474a4e9e23"
      },
      "outputs": [
        {
          "data": {
            "text/html": [
              "<div>\n",
              "<style scoped>\n",
              "    .dataframe tbody tr th:only-of-type {\n",
              "        vertical-align: middle;\n",
              "    }\n",
              "\n",
              "    .dataframe tbody tr th {\n",
              "        vertical-align: top;\n",
              "    }\n",
              "\n",
              "    .dataframe thead th {\n",
              "        text-align: right;\n",
              "    }\n",
              "</style>\n",
              "<table border=\"1\" class=\"dataframe\">\n",
              "  <thead>\n",
              "    <tr style=\"text-align: right;\">\n",
              "      <th></th>\n",
              "      <th>id</th>\n",
              "      <th>text</th>\n",
              "    </tr>\n",
              "  </thead>\n",
              "  <tbody>\n",
              "    <tr>\n",
              "      <th>0</th>\n",
              "      <td>59290</td>\n",
              "      <td>b\"' and/**/38&gt;( select\\t(622)/**/from/*362 emh...</td>\n",
              "    </tr>\n",
              "    <tr>\n",
              "      <th>1</th>\n",
              "      <td>54992</td>\n",
              "      <td>b'shqpkt\" union /*!426 all\\t*/(select kwicwt(\\...</td>\n",
              "    </tr>\n",
              "    <tr>\n",
              "      <th>2</th>\n",
              "      <td>64287</td>\n",
              "      <td>b'nhnqag\" uniondistinct--154 298 plhlre exaloq...</td>\n",
              "    </tr>\n",
              "    <tr>\n",
              "      <th>3</th>\n",
              "      <td>28821</td>\n",
              "      <td>b'D8j+oNbylTIGw='</td>\n",
              "    </tr>\n",
              "    <tr>\n",
              "      <th>4</th>\n",
              "      <td>27825</td>\n",
              "      <td>b'ened \\\\\"&gt;\\\\n  &lt;head&gt;\\\\n    &lt;script data-reac...</td>\n",
              "    </tr>\n",
              "    <tr>\n",
              "      <th>5</th>\n",
              "      <td>74446</td>\n",
              "      <td>b'\" union/*M!719 */'</td>\n",
              "    </tr>\n",
              "    <tr>\n",
              "      <th>6</th>\n",
              "      <td>71873</td>\n",
              "      <td>b'194 union#93 yguxsk 669 393 \\r\\tselect\\t\\tex...</td>\n",
              "    </tr>\n",
              "    <tr>\n",
              "      <th>7</th>\n",
              "      <td>87153</td>\n",
              "      <td>b'/example.example?%7Cmeta%82http-equiv=Set-Co...</td>\n",
              "    </tr>\n",
              "    <tr>\n",
              "      <th>8</th>\n",
              "      <td>76096</td>\n",
              "      <td>b'\"  /*M!union*/'</td>\n",
              "    </tr>\n",
              "    <tr>\n",
              "      <th>9</th>\n",
              "      <td>42354</td>\n",
              "      <td>b'/handler_sync_example.example?i=j4sR/mhZpekz...</td>\n",
              "    </tr>\n",
              "    <tr>\n",
              "      <th>10</th>\n",
              "      <td>41055</td>\n",
              "      <td>b'/search?string=EPSON EXPRESSION HOME XP-794&amp;...</td>\n",
              "    </tr>\n",
              "    <tr>\n",
              "      <th>11</th>\n",
              "      <td>33516</td>\n",
              "      <td>b'kEC+oNOwUkgJOk4bn7Jm9wOWOT6V ... f9g='</td>\n",
              "    </tr>\n",
              "    <tr>\n",
              "      <th>12</th>\n",
              "      <td>101157</td>\n",
              "      <td>b'%24%3E%7Cscript%3Ealert(%12sap_its_urlmime_e...</td>\n",
              "    </tr>\n",
              "    <tr>\n",
              "      <th>13</th>\n",
              "      <td>74110</td>\n",
              "      <td>b'794  and bjwdqp((318), \\t/*M!354 932, (625),...</td>\n",
              "    </tr>\n",
              "    <tr>\n",
              "      <th>14</th>\n",
              "      <td>44176</td>\n",
              "      <td>b'https://example.example.ru/krasota/massage/?...</td>\n",
              "    </tr>\n",
              "    <tr>\n",
              "      <th>15</th>\n",
              "      <td>16094</td>\n",
              "      <td>b'/handler_sync_example.example?i=Ypg//ONuVSKG...</td>\n",
              "    </tr>\n",
              "    <tr>\n",
              "      <th>16</th>\n",
              "      <td>83110</td>\n",
              "      <td>b'ru1527924556435\" UNION SELECT CHAR(78,655,28...</td>\n",
              "    </tr>\n",
              "    <tr>\n",
              "      <th>17</th>\n",
              "      <td>76039</td>\n",
              "      <td>b\"' union/*M!*/\"</td>\n",
              "    </tr>\n",
              "    <tr>\n",
              "      <th>18</th>\n",
              "      <td>43379</td>\n",
              "      <td>b'm\\xc2\\xa4\\x0c..dEv\\xc3\\x83\\x0e\\x085\\x1d'</td>\n",
              "    </tr>\n",
              "    <tr>\n",
              "      <th>19</th>\n",
              "      <td>20021</td>\n",
              "      <td>b'If at least one response to *Race* (*America...</td>\n",
              "    </tr>\n",
              "    <tr>\n",
              "      <th>20</th>\n",
              "      <td>53171</td>\n",
              "      <td>b'%F3%3F%74%BF'</td>\n",
              "    </tr>\n",
              "    <tr>\n",
              "      <th>21</th>\n",
              "      <td>100344</td>\n",
              "      <td>b\"%1C!--%16BEGIN%79JIVOSITE%58CODE%34%1Blitera...</td>\n",
              "    </tr>\n",
              "    <tr>\n",
              "      <th>22</th>\n",
              "      <td>94425</td>\n",
              "      <td>b'%5Ca%65HrEf=VbScRiPt:MsgBox(14527)%7E'</td>\n",
              "    </tr>\n",
              "    <tr>\n",
              "      <th>23</th>\n",
              "      <td>88449</td>\n",
              "      <td>b\"'%23@--%4E%4C/style%4E%3C/scRipt%6E%5CscRipt...</td>\n",
              "    </tr>\n",
              "    <tr>\n",
              "      <th>24</th>\n",
              "      <td>78054</td>\n",
              "      <td>b\"235548452427489' UNION SELECT CHAR(53,272,24...</td>\n",
              "    </tr>\n",
              "    <tr>\n",
              "      <th>25</th>\n",
              "      <td>97498</td>\n",
              "      <td>b\"'%28--%9E%5C/style%2E%3C/scRipt%9E%9CscRipt%...</td>\n",
              "    </tr>\n",
              "    <tr>\n",
              "      <th>26</th>\n",
              "      <td>71720</td>\n",
              "      <td>b'893 union--anynpq mrrllu 556 55 \\rall/*annaw...</td>\n",
              "    </tr>\n",
              "    <tr>\n",
              "      <th>27</th>\n",
              "      <td>81271</td>\n",
              "      <td>b\"view' aNd '8'='6\"</td>\n",
              "    </tr>\n",
              "    <tr>\n",
              "      <th>28</th>\n",
              "      <td>60015</td>\n",
              "      <td>b'755 union/*mgjrer qqypxc */distinct\\tselectd...</td>\n",
              "    </tr>\n",
              "    <tr>\n",
              "      <th>29</th>\n",
              "      <td>53814</td>\n",
              "      <td>b'Sequoia F.3L Falco'</td>\n",
              "    </tr>\n",
              "    <tr>\n",
              "      <th>...</th>\n",
              "      <td>...</td>\n",
              "      <td>...</td>\n",
              "    </tr>\n",
              "    <tr>\n",
              "      <th>65824</th>\n",
              "      <td>60237</td>\n",
              "      <td>b'276 unionselect\\t(wcsgyl/*882 bedfcf */((778...</td>\n",
              "    </tr>\n",
              "    <tr>\n",
              "      <th>65825</th>\n",
              "      <td>7198</td>\n",
              "      <td>b'y6C/NyocX/C+V ... +or+7CBG7BF7aFsdTRNl4zjWSr...</td>\n",
              "    </tr>\n",
              "    <tr>\n",
              "      <th>65826</th>\n",
              "      <td>28332</td>\n",
              "      <td>b'/handler_sync_example.example?i=xA27jrbUywGL...</td>\n",
              "    </tr>\n",
              "    <tr>\n",
              "      <th>65827</th>\n",
              "      <td>93122</td>\n",
              "      <td>b\"left'%79()&amp;%94%4Cacx%4E%6CScRiPt%27%9EvQez(4...</td>\n",
              "    </tr>\n",
              "    <tr>\n",
              "      <th>65828</th>\n",
              "      <td>2791</td>\n",
              "      <td>b'/suggest?q=snmp telnet&amp;cat=2&amp;locationId=835347'</td>\n",
              "    </tr>\n",
              "    <tr>\n",
              "      <th>65829</th>\n",
              "      <td>54636</td>\n",
              "      <td>b'58  union /*!*/select(eindxb\\t()), (woilds(8...</td>\n",
              "    </tr>\n",
              "    <tr>\n",
              "      <th>65830</th>\n",
              "      <td>55601</td>\n",
              "      <td>b'\"  union /*!select( pokxla(*/(jltoft ()), (v...</td>\n",
              "    </tr>\n",
              "    <tr>\n",
              "      <th>65831</th>\n",
              "      <td>19108</td>\n",
              "      <td>b'/handler_sync_example.example?i=MmxEFa915Xkh...</td>\n",
              "    </tr>\n",
              "    <tr>\n",
              "      <th>65832</th>\n",
              "      <td>21528</td>\n",
              "      <td>b'/catalog/tovari/akkumuliator-avtomobilnyi-mo...</td>\n",
              "    </tr>\n",
              "    <tr>\n",
              "      <th>65833</th>\n",
              "      <td>11731</td>\n",
              "      <td>b'/handler_sync_example.example?i=7kCYG4rhJWFt...</td>\n",
              "    </tr>\n",
              "    <tr>\n",
              "      <th>65834</th>\n",
              "      <td>62624</td>\n",
              "      <td>b'\" or/*!932 93&lt;( select\\t*/rqxhua(13)\\tfrom e...</td>\n",
              "    </tr>\n",
              "    <tr>\n",
              "      <th>65835</th>\n",
              "      <td>96676</td>\n",
              "      <td>b'wiki:example.example%18%9E%8Ca%82HrEf=VbScRi...</td>\n",
              "    </tr>\n",
              "    <tr>\n",
              "      <th>65836</th>\n",
              "      <td>32300</td>\n",
              "      <td>b'{\"taskId\":898496643,\"userUid\":\"bot-142454935...</td>\n",
              "    </tr>\n",
              "    <tr>\n",
              "      <th>65837</th>\n",
              "      <td>50749</td>\n",
              "      <td>b'Cambarus montanus'</td>\n",
              "    </tr>\n",
              "    <tr>\n",
              "      <th>65838</th>\n",
              "      <td>103381</td>\n",
              "      <td>b'/web/registration?passwordConfirmation=364%6...</td>\n",
              "    </tr>\n",
              "    <tr>\n",
              "      <th>65839</th>\n",
              "      <td>50555</td>\n",
              "      <td>b'Bryni of Sussex'</td>\n",
              "    </tr>\n",
              "    <tr>\n",
              "      <th>65840</th>\n",
              "      <td>67100</td>\n",
              "      <td>b'478  /*M!union*/'</td>\n",
              "    </tr>\n",
              "    <tr>\n",
              "      <th>65841</th>\n",
              "      <td>75956</td>\n",
              "      <td>b'241  union/*!*/'</td>\n",
              "    </tr>\n",
              "    <tr>\n",
              "      <th>65842</th>\n",
              "      <td>39011</td>\n",
              "      <td>b'/admarvel/?referrer=http://example.exampleex...</td>\n",
              "    </tr>\n",
              "    <tr>\n",
              "      <th>65843</th>\n",
              "      <td>5928</td>\n",
              "      <td>b'fde/OnuGqHfjaA4mHsp2jSxUCfOP ... XwY='</td>\n",
              "    </tr>\n",
              "    <tr>\n",
              "      <th>65844</th>\n",
              "      <td>35499</td>\n",
              "      <td>b'2 pm: Ferry boards from EDIC Pier for Friday...</td>\n",
              "    </tr>\n",
              "    <tr>\n",
              "      <th>65845</th>\n",
              "      <td>51457</td>\n",
              "      <td>b'Methanocorpusculum'</td>\n",
              "    </tr>\n",
              "    <tr>\n",
              "      <th>65846</th>\n",
              "      <td>96598</td>\n",
              "      <td>b'%5Ca%64HrEf=VbScRiPt:MsgBox(84858)%9E'</td>\n",
              "    </tr>\n",
              "    <tr>\n",
              "      <th>65847</th>\n",
              "      <td>94569</td>\n",
              "      <td>b'/example.example?Session=NWG6BNXVW8OXL&amp;View=...</td>\n",
              "    </tr>\n",
              "    <tr>\n",
              "      <th>65848</th>\n",
              "      <td>67199</td>\n",
              "      <td>b'65  union/*M!*/'</td>\n",
              "    </tr>\n",
              "    <tr>\n",
              "      <th>65849</th>\n",
              "      <td>101752</td>\n",
              "      <td>b'/ar/oman/jobs/business-development-manager-....</td>\n",
              "    </tr>\n",
              "    <tr>\n",
              "      <th>65850</th>\n",
              "      <td>1268</td>\n",
              "      <td>b'/handler_sync_example.example?i=R6h7gDYJou38...</td>\n",
              "    </tr>\n",
              "    <tr>\n",
              "      <th>65851</th>\n",
              "      <td>59965</td>\n",
              "      <td>b\"'union distinctselect ('touujd'), (rcgbfl), ...</td>\n",
              "    </tr>\n",
              "    <tr>\n",
              "      <th>65852</th>\n",
              "      <td>26176</td>\n",
              "      <td>b'/handler_sync_example.example?i=PHqomsUPFgwT...</td>\n",
              "    </tr>\n",
              "    <tr>\n",
              "      <th>65853</th>\n",
              "      <td>1762</td>\n",
              "      <td>b'na/&lt;object wid'</td>\n",
              "    </tr>\n",
              "  </tbody>\n",
              "</table>\n",
              "<p>65854 rows × 2 columns</p>\n",
              "</div>"
            ],
            "text/plain": [
              "           id                                               text\n",
              "0       59290  b\"' and/**/38>( select\\t(622)/**/from/*362 emh...\n",
              "1       54992  b'shqpkt\" union /*!426 all\\t*/(select kwicwt(\\...\n",
              "2       64287  b'nhnqag\" uniondistinct--154 298 plhlre exaloq...\n",
              "3       28821                                  b'D8j+oNbylTIGw='\n",
              "4       27825  b'ened \\\\\">\\\\n  <head>\\\\n    <script data-reac...\n",
              "5       74446                               b'\" union/*M!719 */'\n",
              "6       71873  b'194 union#93 yguxsk 669 393 \\r\\tselect\\t\\tex...\n",
              "7       87153  b'/example.example?%7Cmeta%82http-equiv=Set-Co...\n",
              "8       76096                                  b'\"  /*M!union*/'\n",
              "9       42354  b'/handler_sync_example.example?i=j4sR/mhZpekz...\n",
              "10      41055  b'/search?string=EPSON EXPRESSION HOME XP-794&...\n",
              "11      33516           b'kEC+oNOwUkgJOk4bn7Jm9wOWOT6V ... f9g='\n",
              "12     101157  b'%24%3E%7Cscript%3Ealert(%12sap_its_urlmime_e...\n",
              "13      74110  b'794  and bjwdqp((318), \\t/*M!354 932, (625),...\n",
              "14      44176  b'https://example.example.ru/krasota/massage/?...\n",
              "15      16094  b'/handler_sync_example.example?i=Ypg//ONuVSKG...\n",
              "16      83110  b'ru1527924556435\" UNION SELECT CHAR(78,655,28...\n",
              "17      76039                                   b\"' union/*M!*/\"\n",
              "18      43379         b'm\\xc2\\xa4\\x0c..dEv\\xc3\\x83\\x0e\\x085\\x1d'\n",
              "19      20021  b'If at least one response to *Race* (*America...\n",
              "20      53171                                    b'%F3%3F%74%BF'\n",
              "21     100344  b\"%1C!--%16BEGIN%79JIVOSITE%58CODE%34%1Blitera...\n",
              "22      94425           b'%5Ca%65HrEf=VbScRiPt:MsgBox(14527)%7E'\n",
              "23      88449  b\"'%23@--%4E%4C/style%4E%3C/scRipt%6E%5CscRipt...\n",
              "24      78054  b\"235548452427489' UNION SELECT CHAR(53,272,24...\n",
              "25      97498  b\"'%28--%9E%5C/style%2E%3C/scRipt%9E%9CscRipt%...\n",
              "26      71720  b'893 union--anynpq mrrllu 556 55 \\rall/*annaw...\n",
              "27      81271                                b\"view' aNd '8'='6\"\n",
              "28      60015  b'755 union/*mgjrer qqypxc */distinct\\tselectd...\n",
              "29      53814                              b'Sequoia F.3L Falco'\n",
              "...       ...                                                ...\n",
              "65824   60237  b'276 unionselect\\t(wcsgyl/*882 bedfcf */((778...\n",
              "65825    7198  b'y6C/NyocX/C+V ... +or+7CBG7BF7aFsdTRNl4zjWSr...\n",
              "65826   28332  b'/handler_sync_example.example?i=xA27jrbUywGL...\n",
              "65827   93122  b\"left'%79()&%94%4Cacx%4E%6CScRiPt%27%9EvQez(4...\n",
              "65828    2791  b'/suggest?q=snmp telnet&cat=2&locationId=835347'\n",
              "65829   54636  b'58  union /*!*/select(eindxb\\t()), (woilds(8...\n",
              "65830   55601  b'\"  union /*!select( pokxla(*/(jltoft ()), (v...\n",
              "65831   19108  b'/handler_sync_example.example?i=MmxEFa915Xkh...\n",
              "65832   21528  b'/catalog/tovari/akkumuliator-avtomobilnyi-mo...\n",
              "65833   11731  b'/handler_sync_example.example?i=7kCYG4rhJWFt...\n",
              "65834   62624  b'\" or/*!932 93<( select\\t*/rqxhua(13)\\tfrom e...\n",
              "65835   96676  b'wiki:example.example%18%9E%8Ca%82HrEf=VbScRi...\n",
              "65836   32300  b'{\"taskId\":898496643,\"userUid\":\"bot-142454935...\n",
              "65837   50749                               b'Cambarus montanus'\n",
              "65838  103381  b'/web/registration?passwordConfirmation=364%6...\n",
              "65839   50555                                 b'Bryni of Sussex'\n",
              "65840   67100                                b'478  /*M!union*/'\n",
              "65841   75956                                 b'241  union/*!*/'\n",
              "65842   39011  b'/admarvel/?referrer=http://example.exampleex...\n",
              "65843    5928           b'fde/OnuGqHfjaA4mHsp2jSxUCfOP ... XwY='\n",
              "65844   35499  b'2 pm: Ferry boards from EDIC Pier for Friday...\n",
              "65845   51457                              b'Methanocorpusculum'\n",
              "65846   96598           b'%5Ca%64HrEf=VbScRiPt:MsgBox(84858)%9E'\n",
              "65847   94569  b'/example.example?Session=NWG6BNXVW8OXL&View=...\n",
              "65848   67199                                 b'65  union/*M!*/'\n",
              "65849  101752  b'/ar/oman/jobs/business-development-manager-....\n",
              "65850    1268  b'/handler_sync_example.example?i=R6h7gDYJou38...\n",
              "65851   59965  b\"'union distinctselect ('touujd'), (rcgbfl), ...\n",
              "65852   26176  b'/handler_sync_example.example?i=PHqomsUPFgwT...\n",
              "65853    1762                                  b'na/<object wid'\n",
              "\n",
              "[65854 rows x 2 columns]"
            ]
          },
          "execution_count": 12,
          "metadata": {},
          "output_type": "execute_result"
        }
      ],
      "source": [
        "train"
      ]
    },
    {
      "cell_type": "code",
      "execution_count": null,
      "metadata": {
        "id": "r4Bfszn-fiVY",
        "outputId": "6e552163-db1b-44a5-9322-5b761779b6da"
      },
      "outputs": [
        {
          "data": {
            "text/plain": [
              "array([[59290,\n",
              "        b\"' and/**/38>( select\\t(622)/**/from/*362 emhgpv gpnqdn odpxkn qgnoyb */htipaw)\"],\n",
              "       [54992,\n",
              "        b'shqpkt\" union /*!426 all\\t*/(select kwicwt(\\t(\\tyaaoda\\t()), (236), (konjlq()),  619, nyknas ()), byamlo (), \\txfsesf( (\\tdqoyrp()), (sbecbl()), (\\tlhnjpg()), (kkicjp()), (udkygv()), hoewxv\\t()))'],\n",
              "       [64287,\n",
              "        b'nhnqag\" uniondistinct--154 298 plhlre exaloq unyote \\r(select (rpfeir#15 256 15 rttlat 66 gsjxjq 44 819 \\r()), kuoopt(), (#\\rvxhuha), (116), (--kfbvww 193 \\r\"mkhkjq\"), 271, (omqjmj), gvdira--\\r((--\\r325), --mcrgew oqrhwp jhseux 55 xpayss 88 \\rfctnjs (), (794), 3, #58 14 114 vdqoyq \\r\\'apxkvx\\', (\\tmhjblm())), #yxnynl \\r\"lllpue\"/**/from#\\rexample.example)'],\n",
              "       [28821, b'D8j+oNbylTIGw='],\n",
              "       [27825,\n",
              "        b'ened \\\\\">\\\\n  <head>\\\\n    <script data-react-helmet=\\\\\"true\\\\\" type=\\\\\"text/javascript\\\\\">(function(w...<some bytes>....getTime(),event:\\'example.example\\'});var f=d.getElementsByTag...<some bytes>...re(j,f);\\\\n    })(window,document,\\'script\\',\\'dataLayer\\',\\'GTM...<some bytes>...ype=\\\\\"text/javascript\\\\\" src=\\\\\"//example.example.co...<some bytes>...\"async\\\\\"></script>\\\\n    <meta charset=\\\\\"utf-6\\\\\">\\\\...<some bytes>...g\\\\\" />\\\\n    <link rel=\\\\\"stylesheet\\\\\" href=\\\\\"/static/css/main....<some bytes>...example.example\\\\\" />\\\\n    <title data-react-helmet=\\\\\"true...<some bytes>...    <script type=\\\\\"text/javascript\\\\\">\\\\n         ...<some bytes>...75-36T78:49:47.238Z\\\\\",\\\\\"location\\\\\":{\\\\\"hash\\\\\":\\\\\"\\\\...<some bytes>...></span></a><div class=\\\\\"drop\\\\\" data-reactid=\\\\\"55...<some bytes>...\\\\\"centered-title green2-style\\\\\" data-reactid=\\\\\"6...<some bytes>... data-reactid=\\\\\"428\\\\\"><!-- react-empty: 133 --><'],\n",
              "       [74446, b'\" union/*M!719 */'],\n",
              "       [71873,\n",
              "        b'194 union#93 yguxsk 669 393 \\r\\tselect\\t\\texlgjh(), cirwsi((\\t616), (#\\r\\'qbtidf\\'), (#\\r\\'xhqujm\\'), (\"xwfefv\"), /*523 87 jvxefn rfkgml rpkpyn 42 eacbcl 627 */267, (\"xfofsu\"), (311), (\\t\\'ciadln\\'), \\'fhsunl\\'), purljs(), isakxn( (959), --oorhfc \\r42, #\\rbchwnn#\\r(), ktbbku(), (\\'aflkgq\\'), (hwdrpd())), (qxaslw(--16 574 rwgwov xcaoca 448 ntwgbk 653 \\r--521 gwqebq 869 frtumq 1 482 jeetey wnonvn \\r65, #\\r752, #\\rvyarfb(), lxodwk(), 971))'],\n",
              "       [87153,\n",
              "        b'/example.example?%7Cmeta%82http-equiv=Set-Cookie%59content=%11testizfx=5232%28%6E'],\n",
              "       [76096, b'\"  /*M!union*/'],\n",
              "       [42354,\n",
              "        b'/handler_sync_example.example?i=j4sR/mhZpekzcpKcC5cUoFHo5e42TQeA6YzVZuR3mhhuaivOgsA/oncCkpo=']],\n",
              "      dtype=object)"
            ]
          },
          "execution_count": 13,
          "metadata": {},
          "output_type": "execute_result"
        }
      ],
      "source": [
        "train.head(10).values"
      ]
    },
    {
      "cell_type": "code",
      "execution_count": null,
      "metadata": {
        "id": "6K6YqSP-fiVY"
      },
      "outputs": [],
      "source": [
        "train['text'] = train['text'].astype(str)"
      ]
    },
    {
      "cell_type": "code",
      "execution_count": null,
      "metadata": {
        "id": "eoheKTtgfiVZ",
        "outputId": "bd60b6b5-8e85-4a53-eacb-4c87bebae4a3"
      },
      "outputs": [
        {
          "data": {
            "text/plain": [
              "(65854, 2)"
            ]
          },
          "execution_count": 225,
          "metadata": {},
          "output_type": "execute_result"
        }
      ],
      "source": [
        "train.shape"
      ]
    },
    {
      "cell_type": "code",
      "execution_count": null,
      "metadata": {
        "id": "TswKaMiOfiVZ"
      },
      "outputs": [],
      "source": [
        ""
      ]
    },
    {
      "cell_type": "code",
      "execution_count": null,
      "metadata": {
        "id": "rEkjZhnufiVa"
      },
      "outputs": [],
      "source": [
        "info = pd.merge(train, df, on='id')"
      ]
    },
    {
      "cell_type": "code",
      "execution_count": null,
      "metadata": {
        "id": "7mzQoA8dfiVa"
      },
      "outputs": [],
      "source": [
        "info.to_csv(r'C:\\Users\\Yash\\Desktop\\College_Imp_material\\NLC\\New_proj\\Malicious_injections_text_label_data.csv', index=False)"
      ]
    },
    {
      "cell_type": "code",
      "execution_count": null,
      "metadata": {
        "id": "AiWMHxqhgM0x"
      },
      "outputs": [],
      "source": [
        ""
      ]
    },
    {
      "cell_type": "code",
      "execution_count": null,
      "metadata": {
        "id": "MFaPNt1CgMxy"
      },
      "outputs": [],
      "source": [
        ""
      ]
    },
    {
      "cell_type": "markdown",
      "metadata": {
        "id": "fA1qg3OszDhh"
      },
      "source": [
        "#### Start"
      ]
    },
    {
      "cell_type": "code",
      "execution_count": null,
      "metadata": {
        "id": "n3P6MmIvgMka"
      },
      "outputs": [],
      "source": [
        "from google.colab import drive\n",
        "drive.mount('/content/drive')"
      ]
    },
    {
      "cell_type": "code",
      "execution_count": null,
      "metadata": {
        "id": "pD4Jm1aQfiVA"
      },
      "outputs": [],
      "source": [
        "import numpy as np\n",
        "import pandas as pd\n",
        "import matplotlib.pyplot as plt\n",
        "import seaborn as sns\n",
        "%matplotlib inline"
      ]
    },
    {
      "cell_type": "code",
      "execution_count": null,
      "metadata": {
        "colab": {
          "base_uri": "https://localhost:8080/",
          "height": 206
        },
        "id": "Tp_w5tcShB6V",
        "outputId": "a5b396eb-c4e9-4d30-a847-fe7d68eea9fa"
      },
      "outputs": [
        {
          "output_type": "execute_result",
          "data": {
            "text/html": [
              "<div>\n",
              "<style scoped>\n",
              "    .dataframe tbody tr th:only-of-type {\n",
              "        vertical-align: middle;\n",
              "    }\n",
              "\n",
              "    .dataframe tbody tr th {\n",
              "        vertical-align: top;\n",
              "    }\n",
              "\n",
              "    .dataframe thead th {\n",
              "        text-align: right;\n",
              "    }\n",
              "</style>\n",
              "<table border=\"1\" class=\"dataframe\">\n",
              "  <thead>\n",
              "    <tr style=\"text-align: right;\">\n",
              "      <th></th>\n",
              "      <th>id</th>\n",
              "      <th>text</th>\n",
              "      <th>injection</th>\n",
              "    </tr>\n",
              "  </thead>\n",
              "  <tbody>\n",
              "    <tr>\n",
              "      <th>0</th>\n",
              "      <td>59290</td>\n",
              "      <td>b\"' and/**/38&gt;( select\\t(622)/**/from/*362 emh...</td>\n",
              "      <td>True</td>\n",
              "    </tr>\n",
              "    <tr>\n",
              "      <th>1</th>\n",
              "      <td>54992</td>\n",
              "      <td>b'shqpkt\" union /*!426 all\\t*/(select kwicwt(\\...</td>\n",
              "      <td>True</td>\n",
              "    </tr>\n",
              "    <tr>\n",
              "      <th>2</th>\n",
              "      <td>64287</td>\n",
              "      <td>b'nhnqag\" uniondistinct--154 298 plhlre exaloq...</td>\n",
              "      <td>True</td>\n",
              "    </tr>\n",
              "    <tr>\n",
              "      <th>3</th>\n",
              "      <td>28821</td>\n",
              "      <td>b'D8j+oNbylTIGw='</td>\n",
              "      <td>False</td>\n",
              "    </tr>\n",
              "    <tr>\n",
              "      <th>4</th>\n",
              "      <td>27825</td>\n",
              "      <td>b'ened \\\\\"&gt;\\\\n  &lt;head&gt;\\\\n    &lt;script data-reac...</td>\n",
              "      <td>False</td>\n",
              "    </tr>\n",
              "  </tbody>\n",
              "</table>\n",
              "</div>"
            ],
            "text/plain": [
              "      id                                               text  injection\n",
              "0  59290  b\"' and/**/38>( select\\t(622)/**/from/*362 emh...       True\n",
              "1  54992  b'shqpkt\" union /*!426 all\\t*/(select kwicwt(\\...       True\n",
              "2  64287  b'nhnqag\" uniondistinct--154 298 plhlre exaloq...       True\n",
              "3  28821                                  b'D8j+oNbylTIGw='      False\n",
              "4  27825  b'ened \\\\\">\\\\n  <head>\\\\n    <script data-reac...      False"
            ]
          },
          "metadata": {},
          "execution_count": 3
        }
      ],
      "source": [
        "info = pd.read_csv('/content/drive/MyDrive/ML_files/Malicious_injection_detection/Malicious_injections_text_label_data.csv')\n",
        "info.head()"
      ]
    },
    {
      "cell_type": "code",
      "execution_count": null,
      "metadata": {
        "id": "zziQyZXPfiVb"
      },
      "outputs": [],
      "source": [
        "#info = pd.read_csv('C:/Users/Yash/Desktop/College_Imp_material/NLC/New_proj/Malicious_injections_text_label_data.csv')"
      ]
    },
    {
      "cell_type": "code",
      "execution_count": null,
      "metadata": {
        "colab": {
          "base_uri": "https://localhost:8080/"
        },
        "id": "r2vnNIOafiVb",
        "outputId": "c4c597ca-a45c-4b45-f6f6-429f7d69c931"
      },
      "outputs": [
        {
          "output_type": "stream",
          "name": "stdout",
          "text": [
            "<class 'pandas.core.frame.DataFrame'>\n",
            "RangeIndex: 65854 entries, 0 to 65853\n",
            "Data columns (total 3 columns):\n",
            " #   Column     Non-Null Count  Dtype \n",
            "---  ------     --------------  ----- \n",
            " 0   id         65854 non-null  int64 \n",
            " 1   text       65854 non-null  object\n",
            " 2   injection  65854 non-null  bool  \n",
            "dtypes: bool(1), int64(1), object(1)\n",
            "memory usage: 1.1+ MB\n"
          ]
        }
      ],
      "source": [
        "info.info()"
      ]
    },
    {
      "cell_type": "code",
      "execution_count": null,
      "metadata": {
        "colab": {
          "base_uri": "https://localhost:8080/",
          "height": 206
        },
        "id": "RcgSLs04fiVc",
        "outputId": "79de1902-8aaf-49b3-db6b-178e76938c8a"
      },
      "outputs": [
        {
          "output_type": "execute_result",
          "data": {
            "text/html": [
              "<div>\n",
              "<style scoped>\n",
              "    .dataframe tbody tr th:only-of-type {\n",
              "        vertical-align: middle;\n",
              "    }\n",
              "\n",
              "    .dataframe tbody tr th {\n",
              "        vertical-align: top;\n",
              "    }\n",
              "\n",
              "    .dataframe thead th {\n",
              "        text-align: right;\n",
              "    }\n",
              "</style>\n",
              "<table border=\"1\" class=\"dataframe\">\n",
              "  <thead>\n",
              "    <tr style=\"text-align: right;\">\n",
              "      <th></th>\n",
              "      <th>id</th>\n",
              "      <th>text</th>\n",
              "      <th>injection</th>\n",
              "    </tr>\n",
              "  </thead>\n",
              "  <tbody>\n",
              "    <tr>\n",
              "      <th>0</th>\n",
              "      <td>59290</td>\n",
              "      <td>b\"' and/**/38&gt;( select\\t(622)/**/from/*362 emh...</td>\n",
              "      <td>True</td>\n",
              "    </tr>\n",
              "    <tr>\n",
              "      <th>1</th>\n",
              "      <td>54992</td>\n",
              "      <td>b'shqpkt\" union /*!426 all\\t*/(select kwicwt(\\...</td>\n",
              "      <td>True</td>\n",
              "    </tr>\n",
              "    <tr>\n",
              "      <th>2</th>\n",
              "      <td>64287</td>\n",
              "      <td>b'nhnqag\" uniondistinct--154 298 plhlre exaloq...</td>\n",
              "      <td>True</td>\n",
              "    </tr>\n",
              "    <tr>\n",
              "      <th>3</th>\n",
              "      <td>28821</td>\n",
              "      <td>b'D8j+oNbylTIGw='</td>\n",
              "      <td>False</td>\n",
              "    </tr>\n",
              "    <tr>\n",
              "      <th>4</th>\n",
              "      <td>27825</td>\n",
              "      <td>b'ened \\\\\"&gt;\\\\n  &lt;head&gt;\\\\n    &lt;script data-reac...</td>\n",
              "      <td>False</td>\n",
              "    </tr>\n",
              "  </tbody>\n",
              "</table>\n",
              "</div>"
            ],
            "text/plain": [
              "      id                                               text  injection\n",
              "0  59290  b\"' and/**/38>( select\\t(622)/**/from/*362 emh...       True\n",
              "1  54992  b'shqpkt\" union /*!426 all\\t*/(select kwicwt(\\...       True\n",
              "2  64287  b'nhnqag\" uniondistinct--154 298 plhlre exaloq...       True\n",
              "3  28821                                  b'D8j+oNbylTIGw='      False\n",
              "4  27825  b'ened \\\\\">\\\\n  <head>\\\\n    <script data-reac...      False"
            ]
          },
          "metadata": {},
          "execution_count": 8
        }
      ],
      "source": [
        "info.head()"
      ]
    },
    {
      "cell_type": "markdown",
      "metadata": {
        "id": "PkfoLzJAfiVd"
      },
      "source": [
        "### Representing req_with_injections as list of Malicious Requests"
      ]
    },
    {
      "cell_type": "code",
      "execution_count": null,
      "metadata": {
        "id": "AoH71KolfiVf"
      },
      "outputs": [],
      "source": [
        "req_with_injections = info[info['injection']==True]"
      ]
    },
    {
      "cell_type": "markdown",
      "metadata": {
        "id": "CZ80qYnUfiVg"
      },
      "source": [
        "### Representing req_normal as list of Normal Requests"
      ]
    },
    {
      "cell_type": "code",
      "execution_count": null,
      "metadata": {
        "id": "ghZ0rsK3fiVh"
      },
      "outputs": [],
      "source": [
        "req_normal = info[info['injection']==False]"
      ]
    },
    {
      "cell_type": "markdown",
      "metadata": {
        "id": "Y7QxzTs1fiVi"
      },
      "source": [
        "### Plotting the Data"
      ]
    },
    {
      "cell_type": "code",
      "execution_count": null,
      "metadata": {
        "colab": {
          "base_uri": "https://localhost:8080/",
          "height": 336
        },
        "id": "ZjwqyTjJfiVj",
        "outputId": "02a5802d-d6aa-4c7d-b382-cddeed7fdfe9"
      },
      "outputs": [
        {
          "output_type": "display_data",
          "data": {
            "image/png": "[encoded data removed]",
            "text/plain": [
              "<Figure size 720x360 with 1 Axes>"
            ]
          },
          "metadata": {
            "needs_background": "light"
          }
        }
      ],
      "source": [
        "plt.figure(figsize=(10,5))\n",
        "sns.countplot(x='injection',hue='injection',data=info);\n"
      ]
    },
    {
      "cell_type": "code",
      "execution_count": null,
      "metadata": {
        "colab": {
          "base_uri": "https://localhost:8080/"
        },
        "id": "PjozklBsfiVj",
        "outputId": "5d14c2ee-ca4f-4bc4-b810-212ca45e7555"
      },
      "outputs": [
        {
          "output_type": "execute_result",
          "data": {
            "text/plain": [
              "Counter({False: 33499, True: 32355})"
            ]
          },
          "metadata": {},
          "execution_count": 8
        }
      ],
      "source": [
        "from collections import Counter\n",
        "Counter(info['injection'])"
      ]
    },
    {
      "cell_type": "code",
      "execution_count": null,
      "metadata": {
        "colab": {
          "base_uri": "https://localhost:8080/"
        },
        "id": "Dfhkv6iZfiVk",
        "outputId": "872f68e1-1a3f-456e-b12b-1b4636f929d4"
      },
      "outputs": [
        {
          "output_type": "stream",
          "name": "stdout",
          "text": [
            "49.131411911197496 %\n",
            "50.868588088802504 %\n"
          ]
        }
      ],
      "source": [
        "t = 32355\n",
        "f = 33499\n",
        "sum = t+f\n",
        "t_per = (t*100)/sum\n",
        "f_per = (f*100)/sum\n",
        "print(t_per,\"%\")\n",
        "print(f_per,\"%\")"
      ]
    },
    {
      "cell_type": "code",
      "execution_count": null,
      "metadata": {
        "colab": {
          "base_uri": "https://localhost:8080/",
          "height": 320
        },
        "id": "PPKTKJXYfiVk",
        "outputId": "c4cf3268-a044-4886-eddc-b8016a4525a6"
      },
      "outputs": [
        {
          "output_type": "display_data",
          "data": {
            "text/plain": [
              "<Figure size 432x288 with 0 Axes>"
            ]
          },
          "metadata": {}
        },
        {
          "output_type": "display_data",
          "data": {
            "image/png": "[encoded data removed]",
            "text/plain": [
              "<Figure size 360x360 with 1 Axes>"
            ]
          },
          "metadata": {}
        }
      ],
      "source": [
        "# Pie chart, where the slices will be ordered and plotted counter-clockwise:\n",
        "labels = 'Malicious','Normal'\n",
        "sizes = [49.13,50.86]\n",
        "#explode = (0, 0.1, 0, 0)  # only \"explode\" the 2nd slice (i.e. 'Hogs')\n",
        "plt.figure(f)\n",
        "fig1, ax1 = plt.subplots(figsize=(5, 5))\n",
        "colors = ['#ff9999','#99ff99']\n",
        "#ax1.set_title('Humidity',fontsize= 30) # title of plot\n",
        "\n",
        "#ax1.set_xlabel('xlabel',) #xlabel\n",
        "#ax1.set_ylabel('ylabel', fontsize = 30)#ylabel\n",
        "ax1.pie(sizes, labels=labels, autopct='%1.1f%%',colors=colors,textprops={'fontsize': 14},\n",
        "        shadow=True, startangle=90)\n",
        "#ax1.pie(..., radius=1800, frame=True)\n",
        "ax1.axis('equal')  # Equal aspect ratio ensures that pie is drawn as a circle.\n",
        "\n",
        "plt.show()"
      ]
    },
    {
      "cell_type": "code",
      "execution_count": null,
      "metadata": {
        "colab": {
          "base_uri": "https://localhost:8080/"
        },
        "id": "UsMIsYqDfiVl",
        "outputId": "5f3f4345-7240-46d0-d2d5-25e8f2f18927"
      },
      "outputs": [
        {
          "output_type": "execute_result",
          "data": {
            "text/plain": [
              "(32355, 3)"
            ]
          },
          "metadata": {},
          "execution_count": 11
        }
      ],
      "source": [
        "\n",
        "req_with_injections.shape"
      ]
    },
    {
      "cell_type": "code",
      "execution_count": null,
      "metadata": {
        "colab": {
          "base_uri": "https://localhost:8080/"
        },
        "id": "gQoGwwlTfiVl",
        "outputId": "c6979c94-213c-4a5a-f750-07c7e49d94fd"
      },
      "outputs": [
        {
          "output_type": "execute_result",
          "data": {
            "text/plain": [
              "(33499, 3)"
            ]
          },
          "metadata": {},
          "execution_count": 12
        }
      ],
      "source": [
        "req_normal.shape"
      ]
    },
    {
      "cell_type": "code",
      "execution_count": null,
      "metadata": {
        "id": "21ikRp8JfiVl"
      },
      "outputs": [],
      "source": [
        "#req_with_injections.drop(columns=['id','injection'],axis=1,inplace=True)"
      ]
    },
    {
      "cell_type": "code",
      "execution_count": null,
      "metadata": {
        "id": "vNIrtUSjfiVm"
      },
      "outputs": [],
      "source": [
        "#req_normal.drop(columns=['id','injection'],axis=1,inplace=True)"
      ]
    },
    {
      "cell_type": "code",
      "execution_count": null,
      "metadata": {
        "colab": {
          "base_uri": "https://localhost:8080/",
          "height": 206
        },
        "id": "iUOBhEiDfiVm",
        "outputId": "268025c1-5433-478a-f6ff-376dcd176997"
      },
      "outputs": [
        {
          "output_type": "execute_result",
          "data": {
            "text/html": [
              "<div>\n",
              "<style scoped>\n",
              "    .dataframe tbody tr th:only-of-type {\n",
              "        vertical-align: middle;\n",
              "    }\n",
              "\n",
              "    .dataframe tbody tr th {\n",
              "        vertical-align: top;\n",
              "    }\n",
              "\n",
              "    .dataframe thead th {\n",
              "        text-align: right;\n",
              "    }\n",
              "</style>\n",
              "<table border=\"1\" class=\"dataframe\">\n",
              "  <thead>\n",
              "    <tr style=\"text-align: right;\">\n",
              "      <th></th>\n",
              "      <th>id</th>\n",
              "      <th>text</th>\n",
              "      <th>injection</th>\n",
              "    </tr>\n",
              "  </thead>\n",
              "  <tbody>\n",
              "    <tr>\n",
              "      <th>3</th>\n",
              "      <td>28821</td>\n",
              "      <td>b'D8j+oNbylTIGw='</td>\n",
              "      <td>False</td>\n",
              "    </tr>\n",
              "    <tr>\n",
              "      <th>4</th>\n",
              "      <td>27825</td>\n",
              "      <td>b'ened \\\\\"&gt;\\\\n  &lt;head&gt;\\\\n    &lt;script data-reac...</td>\n",
              "      <td>False</td>\n",
              "    </tr>\n",
              "    <tr>\n",
              "      <th>9</th>\n",
              "      <td>42354</td>\n",
              "      <td>b'/handler_sync_example.example?i=j4sR/mhZpekz...</td>\n",
              "      <td>False</td>\n",
              "    </tr>\n",
              "    <tr>\n",
              "      <th>10</th>\n",
              "      <td>41055</td>\n",
              "      <td>b'/search?string=EPSON EXPRESSION HOME XP-794&amp;...</td>\n",
              "      <td>False</td>\n",
              "    </tr>\n",
              "    <tr>\n",
              "      <th>11</th>\n",
              "      <td>33516</td>\n",
              "      <td>b'kEC+oNOwUkgJOk4bn7Jm9wOWOT6V ... f9g='</td>\n",
              "      <td>False</td>\n",
              "    </tr>\n",
              "  </tbody>\n",
              "</table>\n",
              "</div>"
            ],
            "text/plain": [
              "       id                                               text  injection\n",
              "3   28821                                  b'D8j+oNbylTIGw='      False\n",
              "4   27825  b'ened \\\\\">\\\\n  <head>\\\\n    <script data-reac...      False\n",
              "9   42354  b'/handler_sync_example.example?i=j4sR/mhZpekz...      False\n",
              "10  41055  b'/search?string=EPSON EXPRESSION HOME XP-794&...      False\n",
              "11  33516           b'kEC+oNOwUkgJOk4bn7Jm9wOWOT6V ... f9g='      False"
            ]
          },
          "metadata": {},
          "execution_count": 15
        }
      ],
      "source": [
        "req_normal.head()"
      ]
    },
    {
      "cell_type": "markdown",
      "metadata": {
        "id": "FwK23VcafiVm"
      },
      "source": [
        "### Displaying Wordcloud of Malicious injection's keywords"
      ]
    },
    {
      "cell_type": "code",
      "execution_count": null,
      "metadata": {
        "colab": {
          "base_uri": "https://localhost:8080/",
          "height": 351
        },
        "id": "5LXx15N-fiVn",
        "outputId": "ebf85b65-b0c5-4620-e005-116dcd0d079f"
      },
      "outputs": [
        {
          "output_type": "display_data",
          "data": {
            "image/png": "[encoded data removed]",
            "text/plain": [
              "<Figure size 800x400 with 1 Axes>"
            ]
          },
          "metadata": {
            "needs_background": "light"
          }
        }
      ],
      "source": [
        "from wordcloud import WordCloud\n",
        "wordcloud = WordCloud().generate(req_with_injections['text'][6])\n",
        "\n",
        "# Display the generated image:\n",
        "plt.figure(figsize=(10,5), dpi=80)\n",
        "plt.imshow(wordcloud, interpolation='bilinear')\n",
        "plt.title(\"WordCloud of Malicious Injection's keywords in API Requests\")\n",
        "plt.axis(\"off\")\n",
        "plt.show()"
      ]
    },
    {
      "cell_type": "markdown",
      "metadata": {
        "id": "gS9XI2wafiVn"
      },
      "source": [
        "### Displaying Wordcloud of Normal Request's keywords"
      ]
    },
    {
      "cell_type": "code",
      "execution_count": null,
      "metadata": {
        "colab": {
          "base_uri": "https://localhost:8080/",
          "height": 351
        },
        "id": "yQTEaGO_fiVo",
        "outputId": "d84e28dd-8229-4c77-998f-75c6336bae53"
      },
      "outputs": [
        {
          "output_type": "display_data",
          "data": {
            "image/png": "[encoded data removed]",
            "text/plain": [
              "<Figure size 800x400 with 1 Axes>"
            ]
          },
          "metadata": {
            "needs_background": "light"
          }
        }
      ],
      "source": [
        "from wordcloud import WordCloud\n",
        "wordcloud = WordCloud().generate(req_normal['text'][4])\n",
        "\n",
        "# Display the generated image:\n",
        "plt.figure(figsize=(10,5), dpi=80)\n",
        "plt.imshow(wordcloud, interpolation='bilinear')\n",
        "plt.title(\"WordCloud of Normal Words in API Requests\")\n",
        "plt.axis(\"off\")\n",
        "plt.show()"
      ]
    },
    {
      "cell_type": "code",
      "execution_count": null,
      "metadata": {
        "colab": {
          "base_uri": "https://localhost:8080/"
        },
        "id": "SXQJxYPYfiVp",
        "outputId": "6f1ed5af-19da-406d-9ad1-a8d0e7bc981d"
      },
      "outputs": [
        {
          "output_type": "execute_result",
          "data": {
            "text/plain": [
              "pandas.core.frame.DataFrame"
            ]
          },
          "metadata": {},
          "execution_count": 18
        }
      ],
      "source": [
        "type(req_with_injections)"
      ]
    },
    {
      "cell_type": "code",
      "execution_count": null,
      "metadata": {
        "colab": {
          "base_uri": "https://localhost:8080/"
        },
        "id": "6SAaa1I8fiVp",
        "outputId": "9130a6c9-a835-4980-8418-e68bf74fee7d"
      },
      "outputs": [
        {
          "output_type": "stream",
          "name": "stdout",
          "text": [
            "Displaying Injected Malicious Queries\n",
            "\n",
            "      id                                               text  injection\n",
            "0  59290  b\"' and/**/38>( select\\t(622)/**/from/*362 emh...       True\n",
            "      id                                               text  injection\n",
            "1  54992  b'shqpkt\" union /*!426 all\\t*/(select kwicwt(\\...       True\n",
            "      id                                               text  injection\n",
            "2  64287  b'nhnqag\" uniondistinct--154 298 plhlre exaloq...       True\n",
            "      id                  text  injection\n",
            "5  74446  b'\" union/*M!719 */'       True\n",
            "      id                                               text  injection\n",
            "6  71873  b'194 union#93 yguxsk 669 393 \\r\\tselect\\t\\tex...       True\n"
          ]
        }
      ],
      "source": [
        "print(\"Displaying Injected Malicious Queries\\n\")\n",
        "for i in range(5):\n",
        "    print(req_with_injections.iloc[[i]])"
      ]
    },
    {
      "cell_type": "code",
      "execution_count": null,
      "metadata": {
        "colab": {
          "base_uri": "https://localhost:8080/"
        },
        "id": "pfEfJJDefiVq",
        "outputId": "88a54af8-f0de-4ff5-8787-efb972a466cb"
      },
      "outputs": [
        {
          "output_type": "stream",
          "name": "stdout",
          "text": [
            "b\"' and/**/38>( select\\t(622)/**/from/*362 emhgpv gpnqdn odpxkn qgnoyb */htipaw)\"\n"
          ]
        }
      ],
      "source": [
        "print(req_with_injections['text'][0])"
      ]
    },
    {
      "cell_type": "code",
      "execution_count": null,
      "metadata": {
        "colab": {
          "base_uri": "https://localhost:8080/"
        },
        "id": "6ZFolh9efiVq",
        "outputId": "576180a4-01a8-43d9-b5db-84f8590d93df"
      },
      "outputs": [
        {
          "output_type": "stream",
          "name": "stdout",
          "text": [
            "b'shqpkt\" union /*!426 all\\t*/(select kwicwt(\\t(\\tyaaoda\\t()), (236), (konjlq()),  619, nyknas ()), byamlo (), \\txfsesf( (\\tdqoyrp()), (sbecbl()), (\\tlhnjpg()), (kkicjp()), (udkygv()), hoewxv\\t()))'\n"
          ]
        }
      ],
      "source": [
        "print(req_with_injections['text'][1])"
      ]
    },
    {
      "cell_type": "markdown",
      "metadata": {
        "id": "Y3KprEQffiVq"
      },
      "source": [
        "### Some Malicious API Requests"
      ]
    },
    {
      "cell_type": "code",
      "execution_count": null,
      "metadata": {
        "colab": {
          "base_uri": "https://localhost:8080/"
        },
        "id": "fM02gX2ZfiVr",
        "outputId": "1b0e703c-f82d-4e71-fe0f-08f9862a8011"
      },
      "outputs": [
        {
          "output_type": "execute_result",
          "data": {
            "text/plain": [
              "array([[59290,\n",
              "        'b\"\\' and/**/38>( select\\\\t(622)/**/from/*362 emhgpv gpnqdn odpxkn qgnoyb */htipaw)\"',\n",
              "        True],\n",
              "       [54992,\n",
              "        'b\\'shqpkt\" union /*!426 all\\\\t*/(select kwicwt(\\\\t(\\\\tyaaoda\\\\t()), (236), (konjlq()),  619, nyknas ()), byamlo (), \\\\txfsesf( (\\\\tdqoyrp()), (sbecbl()), (\\\\tlhnjpg()), (kkicjp()), (udkygv()), hoewxv\\\\t()))\\'',\n",
              "        True],\n",
              "       [64287,\n",
              "        'b\\'nhnqag\" uniondistinct--154 298 plhlre exaloq unyote \\\\r(select (rpfeir#15 256 15 rttlat 66 gsjxjq 44 819 \\\\r()), kuoopt(), (#\\\\rvxhuha), (116), (--kfbvww 193 \\\\r\"mkhkjq\"), 271, (omqjmj), gvdira--\\\\r((--\\\\r325), --mcrgew oqrhwp jhseux 55 xpayss 88 \\\\rfctnjs (), (794), 3, #58 14 114 vdqoyq \\\\r\\\\\\'apxkvx\\\\\\', (\\\\tmhjblm())), #yxnynl \\\\r\"lllpue\"/**/from#\\\\rexample.example)\\'',\n",
              "        True],\n",
              "       [74446, 'b\\'\" union/*M!719 */\\'', True],\n",
              "       [71873,\n",
              "        'b\\'194 union#93 yguxsk 669 393 \\\\r\\\\tselect\\\\t\\\\texlgjh(), cirwsi((\\\\t616), (#\\\\r\\\\\\'qbtidf\\\\\\'), (#\\\\r\\\\\\'xhqujm\\\\\\'), (\"xwfefv\"), /*523 87 jvxefn rfkgml rpkpyn 42 eacbcl 627 */267, (\"xfofsu\"), (311), (\\\\t\\\\\\'ciadln\\\\\\'), \\\\\\'fhsunl\\\\\\'), purljs(), isakxn( (959), --oorhfc \\\\r42, #\\\\rbchwnn#\\\\r(), ktbbku(), (\\\\\\'aflkgq\\\\\\'), (hwdrpd())), (qxaslw(--16 574 rwgwov xcaoca 448 ntwgbk 653 \\\\r--521 gwqebq 869 frtumq 1 482 jeetey wnonvn \\\\r65, #\\\\r752, #\\\\rvyarfb(), lxodwk(), 971))\\'',\n",
              "        True],\n",
              "       [87153,\n",
              "        \"b'/example.example?%7Cmeta%82http-equiv=Set-Cookie%59content=%11testizfx=5232%28%6E'\",\n",
              "        True],\n",
              "       [76096, 'b\\'\"  /*M!union*/\\'', True],\n",
              "       [101157,\n",
              "        \"b'%24%3E%7Cscript%3Ealert(%12sap_its_urlmime_example.example%45)%4C/script%5E%1Cimg%78src=%33'\",\n",
              "        True],\n",
              "       [74110,\n",
              "        \"b'794  and bjwdqp((318), \\\\t/*M!354 932, (625),*/ (275), (91), 365, (22))=672'\",\n",
              "        True],\n",
              "       [83110,\n",
              "        'b\\'ru1527924556435\" UNION SELECT CHAR(78,655,28,88,91,84),CHAR(68,568,67,78,68,22),CHAR(35,976,31,53,58,71),CHAR(18,274,61,55,47,29),CHAR(86,288,54,66,82,56),CHAR(25,283,39,85,96,52),CHAR(54,757,25,79,72,39),CHAR(15,186,86,45,78,73),CHAR(84,572,86,31,89,98) -- /* order by \"as /*\\'',\n",
              "        True]], dtype=object)"
            ]
          },
          "metadata": {},
          "execution_count": 22
        }
      ],
      "source": [
        "req_with_injections.head(10).values"
      ]
    },
    {
      "cell_type": "code",
      "execution_count": null,
      "metadata": {
        "colab": {
          "base_uri": "https://localhost:8080/"
        },
        "id": "rQyTAlH4QNy2",
        "outputId": "1813a68c-440d-41a3-d996-9d0e7d7a02eb"
      },
      "outputs": [
        {
          "output_type": "execute_result",
          "data": {
            "text/plain": [
              "0        b\"' and/**/38>( select\\t(622)/**/from/*362 emh...\n",
              "1        b'shqpkt\" union /*!426 all\\t*/(select kwicwt(\\...\n",
              "2        b'nhnqag\" uniondistinct--154 298 plhlre exaloq...\n",
              "5                                     b'\" union/*M!719 */'\n",
              "6        b'194 union#93 yguxsk 669 393 \\r\\tselect\\t\\tex...\n",
              "                               ...                        \n",
              "65846             b'%5Ca%64HrEf=VbScRiPt:MsgBox(84858)%9E'\n",
              "65847    b'/example.example?Session=NWG6BNXVW8OXL&View=...\n",
              "65848                                   b'65  union/*M!*/'\n",
              "65849    b'/ar/oman/jobs/business-development-manager-....\n",
              "65851    b\"'union distinctselect ('touujd'), (rcgbfl), ...\n",
              "Name: text, Length: 32355, dtype: object"
            ]
          },
          "metadata": {},
          "execution_count": 23
        }
      ],
      "source": [
        "req_with_injections['text']"
      ]
    },
    {
      "cell_type": "code",
      "execution_count": null,
      "metadata": {
        "id": "zobVplC4Ah3K"
      },
      "outputs": [],
      "source": [
        "#[1]*10**10"
      ]
    },
    {
      "cell_type": "code",
      "execution_count": null,
      "metadata": {
        "id": "1NPMe48TBeUd"
      },
      "outputs": [],
      "source": [
        "#a = []\n",
        "#while(1):\n",
        " #   a.append('1')"
      ]
    },
    {
      "cell_type": "code",
      "execution_count": null,
      "metadata": {
        "colab": {
          "base_uri": "https://localhost:8080/"
        },
        "id": "uWNLHdfWP1qi",
        "outputId": "ad150e74-4664-4619-dbc9-058d2521337f"
      },
      "outputs": [
        {
          "output_type": "stream",
          "name": "stderr",
          "text": [
            "/usr/local/lib/python3.7/dist-packages/sklearn/utils/deprecation.py:87: FutureWarning: Function get_feature_names is deprecated; get_feature_names is deprecated in 1.0 and will be removed in 1.2. Please use get_feature_names_out instead.\n",
            "  warnings.warn(msg, category=FutureWarning)\n"
          ]
        }
      ],
      "source": [
        "from nltk.util import ngrams\n",
        "from sklearn.feature_extraction.text import TfidfVectorizer\n",
        "\n",
        "injvec = TfidfVectorizer(ngram_range=(1, 5), analyzer='char',max_features=5000)\n",
        "injvec.fit(req_with_injections['text'])\n",
        "injvect = injvec.transform(req_with_injections['text'])\n",
        "#print(injvec.vocabulary_)\n",
        "feature_array = np.array(injvec.get_feature_names())\n",
        "\n",
        "response = injvec.transform(req_with_injections['text'])\n",
        "tfidf_sorting = np.argsort(response.toarray()).flatten()[::-1]\n",
        "\n",
        "n = 1000\n",
        "top_n = feature_array[tfidf_sorting][:n]"
      ]
    },
    {
      "cell_type": "code",
      "execution_count": null,
      "metadata": {
        "colab": {
          "base_uri": "https://localhost:8080/"
        },
        "id": "MSChiw1OFtAH",
        "outputId": "b7b2db81-2620-45cb-cc6c-a3b25b953101"
      },
      "outputs": [
        {
          "output_type": "execute_result",
          "data": {
            "text/plain": [
              "array([' ', 'd', ' d', ' 5', '5', 'yv', 'e', 'nn', 's', ' \\\\r', 'r', 'u ',\n",
              "       'n', ' \\\\', '\\\\r', 'p', '-', 'l', ' (', 't', 'u', '8', 'i', 'g',\n",
              "       '8 ', '2 ', '5 ', '\\\\', ' s', 'a', '), (', ', (', '), ', '2', ', ',\n",
              "       'y', 'm', '),', '979', '567', '86 ', '35 ', '5 \\\\r', '282', '79 ',\n",
              "       '52 ', 'om', '5 \\\\', '(r', ' \\\\rfr', '586', 'rom--', 'rom-',\n",
              "       'from-', 'om--', \"'unio\", \"'uni\", '--', 'om-', \"'un\", ' \\\\rf', 'v',\n",
              "       'm--', '-a', 'vx', \"('\", 'uu', '), (-', 'dq', 'jd', 'rexam',\n",
              "       '\\\\rexa', 'rexa', 'vh', '\\\\rex', 'dn', 'o', \"'), (\", 'qa', 'aj',\n",
              "       'yo', 'py', 'rex', 'hy', 'uj', 'dl', ',', 'sd', 'ect (', 'ds',\n",
              "       '\\\\re', \"'u\", '(', 'gs', ', (-', 'iu', ', (--', 'sq', ')', 'm-',\n",
              "       'ah', 'sn', 'ct (', 'fl', ' (--', ' (-', 'sl', '\\\\rfro', 'rfro',\n",
              "       'rfrom', 'x', '\\\\rfr', 't (', 'pg', 'le', 'rfr', '-9', 'cg', 'sa',\n",
              "       'pp', 'lp', 'i ', 'examp', 'exam', 'xampl', 'ample', 'ampl',\n",
              "       'xamp', '\\\\rf', 'mple', 'exa', 'xam', 'mpl', 'ple', \"'), \", 'j ',\n",
              "       'b ', ' y', \"'),\", 'tsele', 'tsel', 'amp', 'x ', 'p ', 'tse', '9',\n",
              "       'q ', 'xa', 'bf', ' v', ' i', 'pl', 'tu', 'vi', 'ld', 'mp',\n",
              "       'disti', 'istin', 'tinct', 'tinc', 'inct', 'stinc', 'ex', 'dist',\n",
              "       'isti', 'ct', 'inc', 'dis', 'q', 'nct', 'wd', 'am', 'j', 'stin',\n",
              "       '(-', '(--', 'gb', ' w', 'sti', 'ngp', '5)', 'nion ', 'ion ',\n",
              "       'b\"\\'', 'ed', 'on ', 'e\"', 'mg', 'ou', 'c', 'rr', \"')\", 'eb',\n",
              "       '\"\\'', ' 2', ' 8', '\"', 'rf', ' 3', ' 9', 'gp', 'dt', 'ist', 'r ',\n",
              "       'n ', '6 ', '9 ', 'lect ', 'ect ', '7 ', 'he', 'ng', 'ct ', 'ts',\n",
              "       'tin', 'gi', 'h', 'to', \"'\", 'b', 'tr', 'is', 'de', 'f', 'nc',\n",
              "       'rc', '88', 't ', '15', '#', '31', '56', '97', '53', 'di', '86',\n",
              "       '45', '25', '28', '7', '6', '67', '79', '52', '82', 'from', '98',\n",
              "       '35', '3', '58', 'rom', 'fro', 'as', 'fr', 'nt', 'ti', 'ip', 'b\"',\n",
              "       'in', 'st', 'nion', 'union', 'unio', 'uni', 'nio', 'le.e', '.ex',\n",
              "       '.exa', '.exam', 'e.ex', 'ple.', 'e.e', 'mple.', 'ple.e', 'e.exa',\n",
              "       'le.ex', 'le.', 'e.', '.e', 'ro', 're', '.', 'un', 'sele', 'selec',\n",
              "       'lect', 'elect', 'elec', 'lec', 'sel', 'ele', 'ect', 'ni', 'ec',\n",
              "       'ion', 'el', 'io', 'w', 'on', 'se', '1', '4', 'all ', '654', '6,2',\n",
              "       '653', '3n', '3f.', '651', '3f..', '65,', '668', \"6'\", '667',\n",
              "       '3f..%', '6,1', '665', '662', '3h', '661', '6), ', '663', '664',\n",
              "       '6,3', '6)', '6),c', '66,', '6),ch', '6,', '6, ', '66', '6),',\n",
              "       '658', '657', '65', '626', '649', '6,4', '64', '617', '618', '638',\n",
              "       '637', '635', '633', '619', '632', '62', '631', '62,', '621',\n",
              "       '623', '624', '63,', '63', '625', '629', '616', '614', '613',\n",
              "       '643', '648', '646', '6,5', '6,6', '6,7', '6,8', '645', '644',\n",
              "       '6,9', '612', '628', '64,', '6-', '61', '3f', '61 ', '61,', '611',\n",
              "       '642', '41 ', \"3e'\", '7, ', '71', '3a', '3at', '7-', '7,9', 'aler',\n",
              "       '7,8', '7,7', '7,6', '7,5', '7,4', '7,3', '7,2', '7,1', '7,',\n",
              "       '71,', '7),ch', '7),c', '7), ', '7),', '7)', \"7'\", '7%', '7 u',\n",
              "       '7 \\\\r', '7 \\\\', '6x', '6t', '6s', '3att', '71 ', '711', '669',\n",
              "       '737', '748', 'al', '398', '3;', '3;%', '747', '746', '745', '744',\n",
              "       '742', '741', '74,', '74', '738', '735', '713', '731', 'ale',\n",
              "       '73,', '73', '728', '727', '725', '723', '722', '721', '72,', '72',\n",
              "       '718', '714', '3atta', '6r', '6p', '685', '699', '698', '697',\n",
              "       '696', '693', '692', '691', '69,', 'all', '69', '688', '687',\n",
              "       '686', '3e%', '684', '6o', '683', '682', '681', '68,', '68', '679',\n",
              "       '678', '677', '676', '674', '673', '671', '67,', '66c', '3e', '6;',\n",
              "       '6;%', '6a', '6n', '6h', '6f..%', '6f..', '6f.', '6f', \"6e'\",\n",
              "       '6e%', '6e', '6d', '6c/', '3b', '3c', '3c%', '6c..%', '6c..',\n",
              "       '6c.', '6c%', '6c', '3c.', '3c..', '6b', '3c..%', '3c/', '3d',\n",
              "       '6atta', '6att', 'alert', '6at', '6&', '5d', '6%', '4c', '4;%',\n",
              "       '4a', '4at', '4att', '4atta', '4b', '4c%', '48', '4c.', '4c..',\n",
              "       '4c..%', '4, ', '4c/', '4d', 'amma', '4;', '499', '498', 'amman',\n",
              "       '4,1', '497', '495', '494', '492', '49,', '49', '489', '488',\n",
              "       '486', '484', '482', '4e', '4e%', \"4e'\", '4x', '5, ', '5,',\n",
              "       '5),ch', '5),c', '5), ', '5),', \"5'\", '5&', '5%', '5 u', 'ami',\n",
              "       'amin', 'amind', 'amm', '4t', '4,', '4),', '4s', '4r', '4p', '4o',\n",
              "       '4), ', '4n', '4h', '4f..%', '4),c', '4),ch', '4f..', '4f.', '4f',\n",
              "       '48,', '479', '5,2', '439', '43,', '432', '434', '435', '437',\n",
              "       '438', '44', '478', '44,', '443', '444', 'amp;', '4,8', '4,7',\n",
              "       '43', '428', '427', '4,9', '426', '425', '4-', '41', '423', '42,',\n",
              "       '42 ', '42', '418', '416', '415', '414', '412', '445', '446',\n",
              "       '4,6', '467', '477', '476', '475', '474', '4,2', '473', '472',\n",
              "       '4,3', '4,4', '471', '4,5', '47,', '47', '468', '466', '447',\n",
              "       '465', '464', '462', '461', '46,', '46', '458', '457', '456',\n",
              "       '455', '454', '451', '45,', '449', '5,1', '5,3', '6 u', '598',\n",
              "       '59', '59 ', '59,', '592', '596', '597', '5;', '57,', '5;%', '5a',\n",
              "       '5at', '5att', 'ams', '5atta', '589', '588', '587', '584', '583',\n",
              "       '582', '581', '58,', '58 ', '579', '749', '577', '576', '575',\n",
              "       '574', '573', '572', '4 ', '5b', 'amdes', '5f..%', '6 \\\\r', '6 \\\\',\n",
              "       '3o', '3p', '5x', '5t', '5s', '5r', '5p', '5o', '3s', '5n', '3t',\n",
              "       '5h', '5f..', '3x', '5f.', '5f', \"5e'\", '5e%', '5e', 'amd', '41,',\n",
              "       '5c/', '5c..%', 'amde', '5c..', '5c.', '5c%', '5c', '571', '57 ',\n",
              "       '5,4', '526', '518', '519', 'ame_c', '52,', '521', '523', '527',\n",
              "       '4 \\\\', '528', '529', 'ame_', 'ame=', '53 ', '53,', '517', '516',\n",
              "       '515', '514', '513', '512', '51,', '51 ', '51', '5-', '5,9', '5,8',\n",
              "       '5,7', \"4'\", '4)', '5,6', '5,5', '531', '532', 'ame', '549',\n",
              "       '4 \\\\r', '57', '569', '4 u', '566', '564', '56,', '558', '557',\n",
              "       '555', '554', '552', '55,', '55', '547', '4&', '546', '544', '542',\n",
              "       '541', '54,', '54 ', '54', '539', '538', '537', '536', '534',\n",
              "       '533', '4%', 'acce', '7e%', '75', '=%7', '=%', '=%1', '=%11',\n",
              "       '=%12', '=%17', '=%2', '=%28', '=%3', '=%36', '=%4', '=%48', '=%5',\n",
              "       '=%59', '=%6', '=%63', '=\"', '=', '<>', ';%5', ';', ';%', ';%1',\n",
              "       ';%2', ';%3', ';%4', ';%6', '<=', ';%7', ';%8', ';%9', \";'\", ';s',\n",
              "       '<', '=%67', '=%76', ':msg', '=%8', '=5', '=6', '=7', 'acx',\n",
              "       'ackty', '=8', '=9', '=a', '=e', '=j', '=ja', '=jav', '=java',\n",
              "       '=p', '=pr', '=4', '=3', '=2', '=&p', '=%9', '=%95', '=%e', '=%ex',\n",
              "       '=%exa', '=&', '=&pa', '=1', '=&pas', \"='\", '=(', '=(s', '=(se',\n",
              "       '=(sel', ':msgb', ':ms', '=pref', '9atta', '99 ', '99,', '991',\n",
              "       '992', '993', '994', '995', '996', '997', '998', '999', '9;',\n",
              "       '9;%', '9a', '9at', '99', '989', '987', '975', '97 ', '97,', '971',\n",
              "       '972', '973', '974', '977', '986', '98 ', '98,', '981', '982',\n",
              "       '983', '984', '9att', '9b', ':m', '9c', '9t', '9x', ':', ':\"',\n",
              "       ':\"a', ':\"at', ':%', ':/', '://', '://e', '://ex', ':a', ':al',\n",
              "       ':ale', ':aler', '9s', '9p', '9o', '9e', '9c%', '9c.', '9c..',\n",
              "       '9c..%', '9c/', '9d', '9e%', '9n', \"9e'\", '9f', '9f.', '9f..',\n",
              "       '9f..%', '9h', '=pre', '=s', '968', '_t', '_id', '_l', '_li',\n",
              "       '_lis', '_list', '_lo', '_loc', '_loc_', '_m', '_n', '_na', '_nam',\n",
              "       '_name', '_p', '_r', '_i', '_f', '_expo', '_co', '],[\"', '],[\"g',\n",
              "       ']=', '_', 'ackp', '_c', '_con', '_exp', '_cons', '_d', '_e',\n",
              "       '_ex', '_exa', '_exam', '_s', '_u', '],', '_us', 'a4', 'a5', 'a6',\n",
              "       'a7', 'a8', 'a9', 'aa', 'aaa', 'ace', 'aaq', 'ab', 'abb', 'abl',\n",
              "       'able', 'ac', 'a3', 'a2', 'a1', 'a%1', '_use', '_user'],\n",
              "      dtype='<U5')"
            ]
          },
          "metadata": {},
          "execution_count": 27
        }
      ],
      "source": [
        "top_n"
      ]
    },
    {
      "cell_type": "markdown",
      "metadata": {
        "id": "JAPGWq4FfiVr"
      },
      "source": [
        "### Some Normal API Requests"
      ]
    },
    {
      "cell_type": "code",
      "execution_count": null,
      "metadata": {
        "colab": {
          "base_uri": "https://localhost:8080/"
        },
        "id": "pAZIoEqlfiVr",
        "outputId": "8d164612-52b1-429e-8f55-d8723e8e0395"
      },
      "outputs": [
        {
          "output_type": "execute_result",
          "data": {
            "text/plain": [
              "array([[28821, \"b'D8j+oNbylTIGw='\", False],\n",
              "       [27825,\n",
              "        'b\\'ened \\\\\\\\\">\\\\\\\\n  <head>\\\\\\\\n    <script data-react-helmet=\\\\\\\\\"true\\\\\\\\\" type=\\\\\\\\\"text/javascript\\\\\\\\\">(function(w...<some bytes>....getTime(),event:\\\\\\'example.example\\\\\\'});var f=d.getElementsByTag...<some bytes>...re(j,f);\\\\\\\\n    })(window,document,\\\\\\'script\\\\\\',\\\\\\'dataLayer\\\\\\',\\\\\\'GTM...<some bytes>...ype=\\\\\\\\\"text/javascript\\\\\\\\\" src=\\\\\\\\\"//example.example.co...<some bytes>...\"async\\\\\\\\\"></script>\\\\\\\\n    <meta charset=\\\\\\\\\"utf-6\\\\\\\\\">\\\\\\\\...<some bytes>...g\\\\\\\\\" />\\\\\\\\n    <link rel=\\\\\\\\\"stylesheet\\\\\\\\\" href=\\\\\\\\\"/static/css/main....<some bytes>...example.example\\\\\\\\\" />\\\\\\\\n    <title data-react-helmet=\\\\\\\\\"true...<some bytes>...    <script type=\\\\\\\\\"text/javascript\\\\\\\\\">\\\\\\\\n         ...<some bytes>...75-36T78:49:47.238Z\\\\\\\\\",\\\\\\\\\"location\\\\\\\\\":{\\\\\\\\\"hash\\\\\\\\\":\\\\\\\\\"\\\\\\\\...<some bytes>...></span></a><div class=\\\\\\\\\"drop\\\\\\\\\" data-reactid=\\\\\\\\\"55...<some bytes>...\\\\\\\\\"centered-title green2-style\\\\\\\\\" data-reactid=\\\\\\\\\"6...<some bytes>... data-reactid=\\\\\\\\\"428\\\\\\\\\"><!-- react-empty: 133 --><\\'',\n",
              "        False],\n",
              "       [42354,\n",
              "        \"b'/handler_sync_example.example?i=j4sR/mhZpekzcpKcC5cUoFHo5e42TQeA6YzVZuR3mhhuaivOgsA/oncCkpo='\",\n",
              "        False],\n",
              "       [41055,\n",
              "        \"b'/search?string=EPSON EXPRESSION HOME XP-794&rootCategory=&sort=1'\",\n",
              "        False],\n",
              "       [33516, \"b'kEC+oNOwUkgJOk4bn7Jm9wOWOT6V ... f9g='\", False],\n",
              "       [44176,\n",
              "        \"b'https://example.example.ru/krasota/massage/?seamless=7&tabName=ORDER#'\",\n",
              "        False],\n",
              "       [16094,\n",
              "        \"b'/handler_sync_example.example?i=Ypg//ONuVSKGXMnxmNJk8d6NQDTWwBs9OUBxw7FuiARcp4PPJBes4cIR26Q='\",\n",
              "        False],\n",
              "       [43379, \"b'm\\\\xc2\\\\xa4\\\\x0c..dEv\\\\xc3\\\\x83\\\\x0e\\\\x085\\\\x1d'\",\n",
              "        False],\n",
              "       [20021,\n",
              "        \"b'If at least one response to *Race* (*American Indian or Alaskan Native* (RACE_AMERICAN), *Asian* (RACE_ASIAN), *Black or African American* (RACE_BLACK), *Native Hawaiian or Other Pacific Islander* (RACE_HAWAIIAN), *Caucasian* (RACE_WHITE), Hispanic or Latino (RACE_HIS), *Other* (RACE_OTHER)) is not checked, trigger auto-query: Race/Ethnic Origin is missing. Please provide a response.'\",\n",
              "        False],\n",
              "       [53171, \"b'%F3%3F%74%BF'\", False]], dtype=object)"
            ]
          },
          "metadata": {},
          "execution_count": 28
        }
      ],
      "source": [
        "req_normal.head(10).values"
      ]
    },
    {
      "cell_type": "code",
      "execution_count": null,
      "metadata": {
        "id": "NaHkz8crxKeT"
      },
      "outputs": [],
      "source": [
        "#!pip install eli5"
      ]
    },
    {
      "cell_type": "code",
      "execution_count": null,
      "metadata": {
        "id": "jMbO9da9tFfD"
      },
      "outputs": [],
      "source": [
        ""
      ]
    },
    {
      "cell_type": "markdown",
      "metadata": {
        "id": "66u6vKkwfiVs"
      },
      "source": [
        "### Using TfidfVectorizer for Feature Representation"
      ]
    },
    {
      "cell_type": "code",
      "execution_count": null,
      "metadata": {
        "id": "4P8IpWBrfiVt"
      },
      "outputs": [],
      "source": [
        "from nltk.util import ngrams\n",
        "from sklearn.feature_extraction.text import TfidfVectorizer\n",
        "X = info['text']\n",
        "Y = info['injection']\n",
        "vectorizer = TfidfVectorizer(ngram_range=(1, 4), analyzer='char',max_features=100000)\n",
        "#full_text = list(train['text'].values) + list(test['text'].values)\n",
        "vectorizer.fit(X)\n",
        "vectorized = vectorizer.transform(X)\n",
        "#test_vectorized = vectorizer.transform(X_test)"
      ]
    },
    {
      "cell_type": "code",
      "execution_count": null,
      "metadata": {
        "colab": {
          "base_uri": "https://localhost:8080/"
        },
        "id": "IkcJdOI4fiVt",
        "outputId": "b430a309-ae5e-4858-edfb-092be7e5cdb9"
      },
      "outputs": [
        {
          "output_type": "execute_result",
          "data": {
            "text/plain": [
              "(65854, 100000)"
            ]
          },
          "metadata": {},
          "execution_count": 31
        }
      ],
      "source": [
        "vectorized.shape"
      ]
    },
    {
      "cell_type": "code",
      "execution_count": null,
      "metadata": {
        "colab": {
          "base_uri": "https://localhost:8080/"
        },
        "id": "zSAyOJ_jXhrk",
        "outputId": "b36bd36a-f196-43fc-ec4c-7d7311d20cb4"
      },
      "outputs": [
        {
          "output_type": "execute_result",
          "data": {
            "text/plain": [
              "65854"
            ]
          },
          "metadata": {},
          "execution_count": 28
        }
      ],
      "source": [
        "len(Y)"
      ]
    },
    {
      "cell_type": "code",
      "execution_count": null,
      "metadata": {
        "id": "Qp_NlRGqfiVt"
      },
      "outputs": [],
      "source": [
        "#test_vectorized.shape"
      ]
    },
    {
      "cell_type": "markdown",
      "metadata": {
        "id": "mKWroYIgfiVs"
      },
      "source": [
        "### Splitting Data into Train(80%) , Test(10%) and Validation(10%)"
      ]
    },
    {
      "cell_type": "code",
      "execution_count": null,
      "metadata": {
        "id": "HMI_-CPdWiPb"
      },
      "outputs": [],
      "source": [
        "from sklearn.model_selection import train_test_split\n",
        "X_train, X_test, Y_train, Y_test = train_test_split(vectorized,Y, test_size=0.1,shuffle=True)\n"
      ]
    },
    {
      "cell_type": "code",
      "execution_count": null,
      "metadata": {
        "id": "cbanJjb6W11x"
      },
      "outputs": [],
      "source": [
        "x=X_train\n",
        "y=Y_train"
      ]
    },
    {
      "cell_type": "code",
      "execution_count": null,
      "metadata": {
        "colab": {
          "base_uri": "https://localhost:8080/"
        },
        "id": "nY5RtGqCXQyl",
        "outputId": "47137270-14cb-4f3b-d5d5-d5bff78cac2f"
      },
      "outputs": [
        {
          "data": {
            "text/plain": [
              "<59268x100000 sparse matrix of type '<class 'numpy.float64'>'\n",
              "\twith 20593849 stored elements in Compressed Sparse Row format>"
            ]
          },
          "execution_count": 43,
          "metadata": {},
          "output_type": "execute_result"
        }
      ],
      "source": [
        "x"
      ]
    },
    {
      "cell_type": "markdown",
      "metadata": {
        "id": "BxC-B9D1hdlb"
      },
      "source": [
        "#### Cross Validation Method"
      ]
    },
    {
      "cell_type": "code",
      "execution_count": null,
      "metadata": {
        "colab": {
          "background_save": true,
          "base_uri": "https://localhost:8080/"
        },
        "id": "nrRj2EDPfiVs",
        "outputId": "957b7992-ad6b-48e1-f1f9-32d7a8d4ec90"
      },
      "outputs": [
        {
          "name": "stdout",
          "output_type": "stream",
          "text": [
            "0\n",
            "1\n",
            "2\n",
            "3\n",
            "4\n",
            "5\n",
            "6\n",
            "7\n",
            "8\n",
            "9\n"
          ]
        }
      ],
      "source": [
        "\n",
        "from sklearn.linear_model import LogisticRegression\n",
        "from sklearn.svm import LinearSVC,SVC\n",
        "from sklearn.metrics import classification_report \n",
        "from sklearn.naive_bayes import MultinomialNB\n",
        "from sklearn.ensemble import RandomForestClassifier\n",
        "from sklearn.metrics import roc_auc_score\n",
        "from xgboost import XGBClassifier\n",
        "from sklearn.model_selection import StratifiedKFold\n",
        "\n",
        "kf = StratifiedKFold(n_splits=10,shuffle=True)\n",
        "logreg = LogisticRegression(C=100, penalty='l2', solver='newton-cg')\n",
        "#svm = SVC(kernel='rbf')\n",
        "svm1 = LinearSVC(C=1.0)\n",
        "svm2 = LinearSVC(C=10)\n",
        "\n",
        "clf = MultinomialNB()\n",
        "rfc = RandomForestClassifier(random_state=40,n_estimators=20)\n",
        "rfc1 = RandomForestClassifier(random_state=40,n_estimators=100)\n",
        "rfc2 = RandomForestClassifier(random_state=40,n_estimators=1000)\n",
        "\n",
        "xgb = XGBClassifier()\n",
        "\n",
        "#50, 10, 1.0, 0.1, 0.01\n",
        "x = X_train\n",
        "#x.reindex()\n",
        "#x.reset_index()\n",
        "y = Y_train.to_numpy()\n",
        "#y.reindex()\n",
        "#y.reset_index()\n",
        "\n",
        "auc_score1=[]\n",
        "auc_score2=[]\n",
        "auc_score21=[]\n",
        "auc_score3=[]\n",
        "auc_score4=[]\n",
        "auc_score41=[]\n",
        "auc_score42=[]\n",
        "auc_score5=[]\n",
        "ct=0\n",
        "#Y = np.array([1 if i == True else 0 for i in info.injection.values])\n",
        "for train_index,test_index in kf.split(x,y):\n",
        "    #print('{} of KFold {}'.format(i,kf.n_splits))\n",
        "    x_train,x_val = x[train_index],x[test_index]\n",
        "    y_train,y_val = y[train_index],y[test_index]\n",
        "    \n",
        "    logreg.fit(x_train, y_train)\n",
        "    pred_logit=logreg.predict(x_val)\n",
        "    \n",
        "    svm1.fit(x_train,y_train)\n",
        "    svm2.fit(x_train,y_train)\n",
        "    pred_svm1=svm1.predict(x_val)\n",
        "    pred_svm2=svm2.predict(x_val)\n",
        "\n",
        "    clf.fit(x_train,y_train)\n",
        "    pred_clf=clf.predict(x_val)\n",
        "\n",
        "    rfc.fit(x_train,y_train)\n",
        "    rfc1.fit(x_train,y_train)\n",
        "    rfc2.fit(x_train,y_train)\n",
        "    pred_rfc=rfc.predict(x_val)\n",
        "    pred_rfc1=rfc1.predict(x_val)\n",
        "    pred_rfc2=rfc2.predict(x_val)\n",
        "\n",
        "    xgb.fit(x_train,y_train)\n",
        "    pred_xgb=xgb.predict(x_val)\n",
        "\n",
        "    auc_score1.append(roc_auc_score(y_val, pred_logit))\n",
        "    auc_score2.append(roc_auc_score(y_val, pred_svm1))\n",
        "    auc_score21.append(roc_auc_score(y_val, pred_svm2))\n",
        "    auc_score3.append(roc_auc_score(y_val, pred_clf))\n",
        "    auc_score4.append(roc_auc_score(y_val, pred_rfc))\n",
        "    auc_score41.append(roc_auc_score(y_val, pred_rfc1))\n",
        "    auc_score42.append(roc_auc_score(y_val, pred_rfc2))\n",
        "    auc_score5.append(roc_auc_score(y_val, pred_xgb))\n",
        "    print(ct)\n",
        "    ct+=1"
      ]
    },
    {
      "cell_type": "code",
      "source": [
        "from sklearn.svm import LinearSVC,SVC\n",
        "from sklearn.model_selection import StratifiedKFold\n",
        "from sklearn.calibration import CalibratedClassifierCV\n",
        "from sklearn.ensemble import RandomForestClassifier\n",
        "#s1 = LinearSVC(C=1.0)\n",
        "#s2 = LinearSVC(C=10.0)\n",
        "rfc2 = RandomForestClassifier(random_state=40,n_estimators=1000)\n",
        "\n",
        "kf = StratifiedKFold(n_splits=10,shuffle=True)\n",
        "#s1 = SVC(C=1.0,kernel='linear',probability=True)\n",
        "#s2 = SVC(C=10.0,kernel='linear',probability=True)\n",
        "ct=0\n",
        "y=Y_train.to_numpy()\n",
        "for train_index,test_index in kf.split(x,y):\n",
        "    #print('{} of KFold {}'.format(i,kf.n_splits))\n",
        "    x_train,x_val = x[train_index],x[test_index]\n",
        "    y_train,y_val = y[train_index],y[test_index]\n",
        "    \n",
        "    rfc2.fit(x_train,y_train)\n",
        "    #s2.fit(x_train,y_train)\n",
        "    print(ct)\n",
        "    ct+=1"
      ],
      "metadata": {
        "colab": {
          "base_uri": "https://localhost:8080/"
        },
        "id": "cIZA58q_bZA7",
        "outputId": "5fa569e9-821a-432e-de8e-81498132587d"
      },
      "execution_count": null,
      "outputs": [
        {
          "output_type": "stream",
          "name": "stdout",
          "text": [
            "0\n",
            "1\n",
            "2\n",
            "3\n",
            "4\n",
            "5\n",
            "6\n",
            "7\n",
            "8\n",
            "9\n"
          ]
        }
      ]
    },
    {
      "cell_type": "code",
      "source": [
        "import pickle\n",
        "#Pkl_Filename = \"svm1.pkl\"  \n",
        "#with open(Pkl_Filename, 'wb') as file:  \n",
        "#    pickle.dump(s1, file)\n",
        "\n",
        "Pkl_Filename1 = \"rfc2.pkl\"  \n",
        "with open(Pkl_Filename1, 'wb') as file:  \n",
        "    pickle.dump(rfc2, file)"
      ],
      "metadata": {
        "id": "nPncuBxVfm8X"
      },
      "execution_count": null,
      "outputs": []
    },
    {
      "cell_type": "code",
      "execution_count": null,
      "metadata": {
        "colab": {
          "base_uri": "https://localhost:8080/"
        },
        "id": "SVqnWksrc8q9",
        "outputId": "8edb550b-5720-4d02-eeeb-dd82e52b4f1a"
      },
      "outputs": [
        {
          "output_type": "stream",
          "name": "stdout",
          "text": [
            "[0.9929351069742861, 0.9932785135676926, 0.9956292764444493, 0.9939128329154414, 0.9954518802403066, 0.9942273623650335, 0.9942618734724848, 0.9936213108708167, 0.9930996239162297, 0.9941124113113164]\n",
            "[0.9927810011298817, 0.9932785135676926, 0.9951315989394726, 0.9930661148534211, 0.994788310233671, 0.9942331142162756, 0.9941017328220678, 0.9931351370683236, 0.9934314089195477, 0.9936263553964284]\n",
            "[0.9925858345634465, 0.9932667819328267, 0.9944277659741438, 0.9937354367112987, 0.9952802358874059, 0.9945821547733189, 0.9939243366179251, 0.9941247402270352, 0.9935973014212066, 0.9941182221063608]\n",
            "[0.9785264383212144, 0.976430803856177, 0.9816646358645351, 0.9797880516851102, 0.9811094398471397, 0.9811324472521072, 0.9785520301073536, 0.979473522235518, 0.9799043338048813, 0.9794589534553039]\n",
            "[0.992213098882875, 0.990484334280976, 0.9932435110575638, 0.9933576368980461, 0.9921676301302241, 0.9923335226318831, 0.9918358451269064, 0.9937526922650243, 0.992022917775655, 0.9927271633476014]\n",
            "[0.9930774811838246, 0.9918638264720354, 0.9954461283890648, 0.9937181811575732, 0.9942331142162756, 0.9937009256038476, 0.9933748924517715, 0.9941017328220678, 0.9930647591459635, 0.9944267639295014]\n",
            "[0.9932433186630948, 0.9916921231753322, 0.9961269539494261, 0.9942331142162756, 0.9935465368046724, 0.9942043549600661, 0.9930488592996954, 0.9944392696766274, 0.9930589483509191, 0.9940891681311389]\n",
            "[0.9823774898401765, 0.9803405135494688, 0.9835230533058793, 0.9832257794100127, 0.9825104427422002, 0.983866342011681, 0.9817154913413567, 0.9837234569149894, 0.9806466343875103, 0.9835714012265108]\n",
            "0.9940530192078058\n",
            "0.9937573287146781\n",
            "0.9939642810214968\n",
            "0.9796040656429341\n",
            "0.9924138352396754\n",
            "0.9937007805371927\n",
            "0.9937682647227246\n",
            "0.9825500604729787\n"
          ]
        }
      ],
      "source": [
        "import pickle\n",
        "Pkl_Filename = \"logreg.pkl\"  \n",
        "with open(Pkl_Filename, 'wb') as file:  \n",
        "    pickle.dump(logreg, file)\n",
        "\n",
        "Pkl_Filename = \"svm1.pkl\"  \n",
        "with open(Pkl_Filename, 'wb') as file:  \n",
        "    pickle.dump(svm1, file)\n",
        "\n",
        "Pkl_Filename = \"svm2.pkl\"  \n",
        "with open(Pkl_Filename, 'wb') as file:  \n",
        "    pickle.dump(svm2, file)\n",
        "\n",
        "Pkl_Filename = \"rfc.pkl\"  \n",
        "with open(Pkl_Filename, 'wb') as file:  \n",
        "    pickle.dump(rfc, file)\n",
        "\n",
        "Pkl_Filename = \"rfc1.pkl\"  \n",
        "with open(Pkl_Filename, 'wb') as file:  \n",
        "    pickle.dump(rfc1, file)\n",
        "\n",
        "Pkl_Filename = \"rfc2.pkl\"  \n",
        "with open(Pkl_Filename, 'wb') as file:  \n",
        "    pickle.dump(rfc2, file)\n",
        "\n",
        "Pkl_Filename = \"clf.pkl\"  \n",
        "with open(Pkl_Filename, 'wb') as file:  \n",
        "    pickle.dump(clf, file)\n",
        "\n",
        "Pkl_Filename = \"xgb.pkl\"  \n",
        "with open(Pkl_Filename, 'wb') as file:  \n",
        "    pickle.dump(xgb, file)\n",
        "    \n",
        "print(auc_score1)\n",
        "print(auc_score2) \n",
        "print(auc_score21)\n",
        "print(auc_score3)\n",
        "print(auc_score4)\n",
        "print(auc_score41)\n",
        "print(auc_score42)\n",
        "print(auc_score5)\n",
        "print(np.mean(auc_score1))\n",
        "print(np.mean(auc_score2))\n",
        "print(np.mean(auc_score21))\n",
        "print(np.mean(auc_score3))\n",
        "print(np.mean(auc_score4))\n",
        "print(np.mean(auc_score41))\n",
        "print(np.mean(auc_score42))\n",
        "print(np.mean(auc_score5))\n"
      ]
    },
    {
      "cell_type": "code",
      "execution_count": null,
      "metadata": {
        "id": "6YW_ABOsdAdH"
      },
      "outputs": [],
      "source": [
        ""
      ]
    },
    {
      "cell_type": "code",
      "execution_count": null,
      "metadata": {
        "colab": {
          "base_uri": "https://localhost:8080/",
          "height": 235
        },
        "id": "ILKzhCtMsqpx",
        "outputId": "d8d2e341-3959-4d77-e2a9-34840a4aee7c"
      },
      "outputs": [
        {
          "ename": "NameError",
          "evalue": "ignored",
          "output_type": "error",
          "traceback": [
            "\u001b[0;31m---------------------------------------------------------------------------\u001b[0m",
            "\u001b[0;31mNameError\u001b[0m                                 Traceback (most recent call last)",
            "\u001b[0;32m<ipython-input-34-c4b703ea617c>\u001b[0m in \u001b[0;36m<module>\u001b[0;34m()\u001b[0m\n\u001b[1;32m     24\u001b[0m \u001b[0mrfc2\u001b[0m\u001b[0;34m.\u001b[0m\u001b[0mfit\u001b[0m\u001b[0;34m(\u001b[0m\u001b[0mX_train\u001b[0m\u001b[0;34m,\u001b[0m \u001b[0mY_train\u001b[0m\u001b[0;34m)\u001b[0m\u001b[0;34m\u001b[0m\u001b[0;34m\u001b[0m\u001b[0m\n\u001b[1;32m     25\u001b[0m \u001b[0;34m\u001b[0m\u001b[0m\n\u001b[0;32m---> 26\u001b[0;31m \u001b[0mxgb\u001b[0m \u001b[0;34m=\u001b[0m \u001b[0mXGBClassifier\u001b[0m\u001b[0;34m(\u001b[0m\u001b[0;34m)\u001b[0m\u001b[0;34m\u001b[0m\u001b[0;34m\u001b[0m\u001b[0m\n\u001b[0m\u001b[1;32m     27\u001b[0m \u001b[0mxgb\u001b[0m\u001b[0;34m.\u001b[0m\u001b[0mfit\u001b[0m\u001b[0;34m(\u001b[0m\u001b[0mX_train\u001b[0m\u001b[0;34m,\u001b[0m \u001b[0mY_train\u001b[0m\u001b[0;34m)\u001b[0m\u001b[0;34m\u001b[0m\u001b[0;34m\u001b[0m\u001b[0m\n\u001b[1;32m     28\u001b[0m \u001b[0;34m\u001b[0m\u001b[0m\n",
            "\u001b[0;31mNameError\u001b[0m: name 'XGBClassifier' is not defined"
          ]
        }
      ],
      "source": [
        "from sklearn.linear_model import LogisticRegression\n",
        "from sklearn.svm import LinearSVC\n",
        "from sklearn.metrics import classification_report \n",
        "from sklearn.naive_bayes import MultinomialNB\n",
        "from sklearn.ensemble import RandomForestClassifier\n",
        "from xgboost import XGBClassifier\n",
        "\n",
        "logreg = LogisticRegression(C=10.0,solver='liblinear')\n",
        "logreg.fit(X_train, Y_train)\n",
        "\n",
        "svm = LinearSVC(C=1.0)\n",
        "svm1 = LinearSVC(C=10.0)\n",
        "svm.fit(X_train, Y_train)\n",
        "svm1.fit(X_train, Y_train)\n",
        "\n",
        "clf = MultinomialNB()\n",
        "clf.fit(X_train, Y_train)\n",
        "\n",
        "rfc = RandomForestClassifier(random_state=40,n_estimators=20)\n",
        "rfc1 = RandomForestClassifier(random_state=40,n_estimators=100)\n",
        "rfc2 = RandomForestClassifier(random_state=40,n_estimators=1000)\n",
        "\n",
        "rfc.fit(X_train, Y_train)\n",
        "rfc1.fit(X_train, Y_train)\n",
        "rfc2.fit(X_train, Y_train)\n",
        "\n",
        "xgb = XGBClassifier()\n",
        "xgb.fit(X_train, Y_train)\n",
        "\n",
        "pred_logit = logreg.predict(X_test)\n",
        "pred_svm = svm.predict(X_test)\n",
        "pred_svm1 = svm1.predict(X_test)\n",
        "pred_clf = clf.predict(X_test)\n",
        "pred_rfc = rfc.predict(X_test)\n",
        "pred_rfc1 = rfc1.predict(X_test)\n",
        "pred_rfc2 = rfc2.predict(X_test)\n",
        "pred_xgb = xgb.predict(X_test)"
      ]
    },
    {
      "cell_type": "code",
      "execution_count": null,
      "metadata": {
        "id": "FJl_UbyJMXS1"
      },
      "outputs": [],
      "source": [
        "\n",
        "xgb = XGBClassifier()\n",
        "xgb.fit(X_train, Y_train)\n",
        "\n",
        "pred_logit = logreg.predict(X_test)\n",
        "pred_svm = svm.predict(X_test)\n",
        "pred_svm1 = svm1.predict(X_test)\n",
        "pred_clf = clf.predict(X_test)\n",
        "pred_rfc = rfc.predict(X_test)\n",
        "pred_rfc1 = rfc1.predict(X_test)\n",
        "pred_rfc2 = rfc2.predict(X_test)\n",
        "pred_xgb = xgb.predict(X_test)"
      ]
    },
    {
      "cell_type": "code",
      "execution_count": null,
      "metadata": {
        "colab": {
          "base_uri": "https://localhost:8080/"
        },
        "id": "n_-vTbJwfiVu",
        "outputId": "a2bc5b4f-0487-4a05-daba-7912315bcbba"
      },
      "outputs": [
        {
          "name": "stdout",
          "output_type": "stream",
          "text": [
            "0.9937630385480206 0.9948232818638288 0.9945073076757371 0.9804203480734754 0.9920282249363508 0.9932494997690391 0.993875359299554 0.9811795164220319\n"
          ]
        }
      ],
      "source": [
        "from sklearn.metrics import roc_auc_score\n",
        "\n",
        "# auc scores\n",
        "\n",
        "auc_score1 = roc_auc_score(Y_test, pred_logit)\n",
        "auc_score2 = roc_auc_score(Y_test, pred_svm)\n",
        "auc_score21 = roc_auc_score(Y_test, pred_svm1)\n",
        "auc_score3 = roc_auc_score(Y_test, pred_clf)\n",
        "auc_score4 = roc_auc_score(Y_test, pred_rfc)\n",
        "auc_score41 = roc_auc_score(Y_test, pred_rfc1)\n",
        "auc_score42 = roc_auc_score(Y_test, pred_rfc2)\n",
        "auc_score5 = roc_auc_score(Y_test, pred_xgb)\n",
        "\n",
        "print(auc_score1, auc_score2, auc_score21, auc_score3, auc_score4, auc_score41, auc_score42, auc_score5)"
      ]
    },
    {
      "cell_type": "code",
      "execution_count": null,
      "metadata": {
        "colab": {
          "base_uri": "https://localhost:8080/"
        },
        "id": "FVMJGIUbTc2n",
        "outputId": "7c0a4503-59a2-477b-c476-7655730d3e73"
      },
      "outputs": [
        {
          "name": "stdout",
          "output_type": "stream",
          "text": [
            "Best: 0.993358 using {'C': 100, 'penalty': 'l2', 'solver': 'newton-cg'}\n",
            "0.993358 (0.000854) with: {'C': 100, 'penalty': 'l2', 'solver': 'newton-cg'}\n",
            "0.993341 (0.000864) with: {'C': 100, 'penalty': 'l2', 'solver': 'lbfgs'}\n",
            "0.993352 (0.000854) with: {'C': 100, 'penalty': 'l2', 'solver': 'liblinear'}\n",
            "0.992362 (0.001047) with: {'C': 10, 'penalty': 'l2', 'solver': 'newton-cg'}\n",
            "0.992368 (0.001048) with: {'C': 10, 'penalty': 'l2', 'solver': 'lbfgs'}\n",
            "0.992385 (0.001042) with: {'C': 10, 'penalty': 'l2', 'solver': 'liblinear'}\n",
            "0.988251 (0.001183) with: {'C': 1.0, 'penalty': 'l2', 'solver': 'newton-cg'}\n",
            "0.988245 (0.001187) with: {'C': 1.0, 'penalty': 'l2', 'solver': 'lbfgs'}\n",
            "0.988234 (0.001186) with: {'C': 1.0, 'penalty': 'l2', 'solver': 'liblinear'}\n",
            "0.977278 (0.001366) with: {'C': 0.1, 'penalty': 'l2', 'solver': 'newton-cg'}\n",
            "0.977278 (0.001366) with: {'C': 0.1, 'penalty': 'l2', 'solver': 'lbfgs'}\n",
            "0.977306 (0.001365) with: {'C': 0.1, 'penalty': 'l2', 'solver': 'liblinear'}\n",
            "0.952644 (0.001020) with: {'C': 0.01, 'penalty': 'l2', 'solver': 'newton-cg'}\n",
            "0.952644 (0.001020) with: {'C': 0.01, 'penalty': 'l2', 'solver': 'lbfgs'}\n",
            "0.953038 (0.001159) with: {'C': 0.01, 'penalty': 'l2', 'solver': 'liblinear'}\n"
          ]
        }
      ],
      "source": [
        "from sklearn.linear_model import LogisticRegression\n",
        "from sklearn.svm import LinearSVC\n",
        "from sklearn.metrics import classification_report \n",
        "from sklearn.naive_bayes import MultinomialNB\n",
        "from sklearn.ensemble import RandomForestClassifier\n",
        "from sklearn.model_selection import RepeatedStratifiedKFold\n",
        "from sklearn.model_selection import GridSearchCV\n",
        "\n",
        "\n",
        "# define models and parameters\n",
        "model = LogisticRegression()\n",
        "solvers = ['newton-cg', 'lbfgs', 'liblinear']\n",
        "penalty = ['l2']\n",
        "c_values = [100, 10, 1.0, 0.1, 0.01]\n",
        "# define grid search\n",
        "grid = dict(solver=solvers,penalty=penalty,C=c_values)\n",
        "cv = RepeatedStratifiedKFold(n_splits=5, n_repeats=3, random_state=1)\n",
        "grid_search = GridSearchCV(estimator=model, param_grid=grid, n_jobs=-1, cv=cv, scoring='accuracy',error_score=0)\n",
        "grid_result = grid_search.fit(X_train, Y_train)\n",
        "# summarize results\n",
        "print(\"Best: %f using %s\" % (grid_result.best_score_, grid_result.best_params_))\n",
        "means = grid_result.cv_results_['mean_test_score']\n",
        "stds = grid_result.cv_results_['std_test_score']\n",
        "params = grid_result.cv_results_['params']\n",
        "for mean, stdev, param in zip(means, stds, params):\n",
        "    print(\"%f (%f) with: %r\" % (mean, stdev, param))"
      ]
    },
    {
      "cell_type": "code",
      "execution_count": null,
      "metadata": {
        "colab": {
          "base_uri": "https://localhost:8080/"
        },
        "id": "rI-Hp4SGyfAg",
        "outputId": "bda80c2e-6b00-4727-ea4e-fad881043909"
      },
      "outputs": [
        {
          "name": "stderr",
          "output_type": "stream",
          "text": [
            "/usr/local/lib/python3.7/dist-packages/sklearn/model_selection/_validation.py:372: FitFailedWarning: \n",
            "75 fits failed out of a total of 225.\n",
            "The score on these train-test partitions for these parameters will be set to 0.\n",
            "If these failures are not expected, you can try to debug them by setting error_score='raise'.\n",
            "\n",
            "Below are more details about the failures:\n",
            "--------------------------------------------------------------------------------\n",
            "75 fits failed with the following error:\n",
            "Traceback (most recent call last):\n",
            "  File \"/usr/local/lib/python3.7/dist-packages/sklearn/model_selection/_validation.py\", line 681, in _fit_and_score\n",
            "    estimator.fit(X_train, y_train, **fit_params)\n",
            "  File \"/usr/local/lib/python3.7/dist-packages/sklearn/linear_model/_logistic.py\", line 1461, in fit\n",
            "    solver = _check_solver(self.solver, self.penalty, self.dual)\n",
            "  File \"/usr/local/lib/python3.7/dist-packages/sklearn/linear_model/_logistic.py\", line 464, in _check_solver\n",
            "    raise ValueError(\"penalty='none' is not supported for the liblinear solver\")\n",
            "ValueError: penalty='none' is not supported for the liblinear solver\n",
            "\n",
            "  warnings.warn(some_fits_failed_message, FitFailedWarning)\n",
            "/usr/local/lib/python3.7/dist-packages/sklearn/linear_model/_logistic.py:1484: UserWarning: Setting penalty='none' will ignore the C and l1_ratio parameters\n",
            "  \"Setting penalty='none' will ignore the C and l1_ratio parameters\"\n"
          ]
        },
        {
          "name": "stdout",
          "output_type": "stream",
          "text": [
            "Best: 0.991828 using {'C': 100, 'penalty': 'none', 'solver': 'lbfgs'}\n",
            "0.990827 (0.001066) with: {'C': 100, 'penalty': 'none', 'solver': 'newton-cg'}\n",
            "0.991828 (0.000790) with: {'C': 100, 'penalty': 'none', 'solver': 'lbfgs'}\n",
            "0.000000 (0.000000) with: {'C': 100, 'penalty': 'none', 'solver': 'liblinear'}\n",
            "0.990827 (0.001066) with: {'C': 10, 'penalty': 'none', 'solver': 'newton-cg'}\n",
            "0.991828 (0.000790) with: {'C': 10, 'penalty': 'none', 'solver': 'lbfgs'}\n",
            "0.000000 (0.000000) with: {'C': 10, 'penalty': 'none', 'solver': 'liblinear'}\n",
            "0.990827 (0.001066) with: {'C': 1.0, 'penalty': 'none', 'solver': 'newton-cg'}\n",
            "0.991828 (0.000790) with: {'C': 1.0, 'penalty': 'none', 'solver': 'lbfgs'}\n",
            "0.000000 (0.000000) with: {'C': 1.0, 'penalty': 'none', 'solver': 'liblinear'}\n",
            "0.990827 (0.001066) with: {'C': 0.1, 'penalty': 'none', 'solver': 'newton-cg'}\n",
            "0.991828 (0.000790) with: {'C': 0.1, 'penalty': 'none', 'solver': 'lbfgs'}\n",
            "0.000000 (0.000000) with: {'C': 0.1, 'penalty': 'none', 'solver': 'liblinear'}\n",
            "0.990827 (0.001066) with: {'C': 0.01, 'penalty': 'none', 'solver': 'newton-cg'}\n",
            "0.991828 (0.000790) with: {'C': 0.01, 'penalty': 'none', 'solver': 'lbfgs'}\n",
            "0.000000 (0.000000) with: {'C': 0.01, 'penalty': 'none', 'solver': 'liblinear'}\n"
          ]
        },
        {
          "name": "stderr",
          "output_type": "stream",
          "text": [
            "/usr/local/lib/python3.7/dist-packages/sklearn/linear_model/_logistic.py:818: ConvergenceWarning: lbfgs failed to converge (status=1):\n",
            "STOP: TOTAL NO. of ITERATIONS REACHED LIMIT.\n",
            "\n",
            "Increase the number of iterations (max_iter) or scale the data as shown in:\n",
            "    https://scikit-learn.org/stable/modules/preprocessing.html\n",
            "Please also refer to the documentation for alternative solver options:\n",
            "    https://scikit-learn.org/stable/modules/linear_model.html#logistic-regression\n",
            "  extra_warning_msg=_LOGISTIC_SOLVER_CONVERGENCE_MSG,\n"
          ]
        }
      ],
      "source": [
        "from sklearn.linear_model import LogisticRegression\n",
        "from sklearn.svm import LinearSVC\n",
        "from sklearn.metrics import classification_report \n",
        "from sklearn.naive_bayes import MultinomialNB\n",
        "from sklearn.ensemble import RandomForestClassifier\n",
        "from sklearn.model_selection import RepeatedStratifiedKFold\n",
        "from sklearn.model_selection import GridSearchCV\n",
        "\n",
        "\n",
        "# define models and parameters\n",
        "model = LogisticRegression()\n",
        "solvers = ['newton-cg', 'lbfgs', 'liblinear']\n",
        "penalty = ['none']\n",
        "c_values = [100, 10, 1.0, 0.1, 0.01]\n",
        "# define grid search\n",
        "grid = dict(solver=solvers,penalty=penalty,C=c_values)\n",
        "cv = RepeatedStratifiedKFold(n_splits=5, n_repeats=3, random_state=1)\n",
        "grid_search = GridSearchCV(estimator=model, param_grid=grid, n_jobs=-1, cv=cv, scoring='accuracy',error_score=0)\n",
        "grid_result = grid_search.fit(X_train, Y_train)\n",
        "# summarize results\n",
        "print(\"Best: %f using %s\" % (grid_result.best_score_, grid_result.best_params_))\n",
        "means = grid_result.cv_results_['mean_test_score']\n",
        "stds = grid_result.cv_results_['std_test_score']\n",
        "params = grid_result.cv_results_['params']\n",
        "for mean, stdev, param in zip(means, stds, params):\n",
        "    print(\"%f (%f) with: %r\" % (mean, stdev, param))"
      ]
    },
    {
      "cell_type": "code",
      "execution_count": null,
      "metadata": {
        "colab": {
          "base_uri": "https://localhost:8080/"
        },
        "id": "avRqoQkZVvKT",
        "outputId": "86517918-f6e9-4444-eaac-5eb662e5951f"
      },
      "outputs": [
        {
          "name": "stderr",
          "output_type": "stream",
          "text": [
            "/usr/local/lib/python3.7/dist-packages/joblib/externals/loky/process_executor.py:705: UserWarning: A worker stopped while some jobs were given to the executor. This can be caused by a too short worker timeout or by a memory leak.\n",
            "  \"timeout or by a memory leak.\", UserWarning\n"
          ]
        }
      ],
      "source": [
        "# define model and parameters\n",
        "from sklearn.linear_model import LogisticRegression\n",
        "from sklearn.svm import LinearSVC\n",
        "from sklearn.metrics import classification_report \n",
        "from sklearn.naive_bayes import MultinomialNB\n",
        "from sklearn.ensemble import RandomForestClassifier\n",
        "from sklearn.model_selection import RepeatedStratifiedKFold\n",
        "from sklearn.model_selection import GridSearchCV\n",
        "from sklearn.svm import SVC\n",
        "model = SVC()\n",
        "kernel = ['poly', 'rbf', 'sigmoid']\n",
        "C = [50, 10, 1.0, 0.1, 0.01]\n",
        "gamma = ['scale']\n",
        "# define grid search\n",
        "grid = dict(kernel=kernel,C=C,gamma=gamma)\n",
        "cv = RepeatedStratifiedKFold(n_splits=5, n_repeats=3, random_state=1)\n",
        "grid_search = GridSearchCV(estimator=model, param_grid=grid, n_jobs=-1, cv=cv, scoring='accuracy',error_score=0)\n",
        "grid_result = grid_search.fit(X_train, Y_train)\n",
        "# summarize results\n",
        "print(\"Best: %f using %s\" % (grid_result.best_score_, grid_result.best_params_))\n",
        "means = grid_result.cv_results_['mean_test_score']\n",
        "stds = grid_result.cv_results_['std_test_score']\n",
        "params = grid_result.cv_results_['params']\n",
        "for mean, stdev, param in zip(means, stds, params):\n",
        "    print(\"%f (%f) with: %r\" % (mean, stdev, param))"
      ]
    },
    {
      "cell_type": "markdown",
      "metadata": {
        "id": "dy8ZdCd1zi_j"
      },
      "source": [
        ""
      ]
    },
    {
      "cell_type": "code",
      "execution_count": null,
      "metadata": {
        "id": "1j0wsK57V63a"
      },
      "outputs": [],
      "source": [
        "# define models and parameters\n",
        "model = RandomForestClassifier()\n",
        "n_estimators = [10, 100, 1000]\n",
        "max_features = ['sqrt', 'log2']\n",
        "# define grid search\n",
        "grid = dict(n_estimators=n_estimators,max_features=max_features)\n",
        "cv = RepeatedStratifiedKFold(n_splits=5, n_repeats=3, random_state=1)\n",
        "grid_search = GridSearchCV(estimator=model, param_grid=grid, n_jobs=-1, cv=cv, scoring='accuracy',error_score=0)\n",
        "grid_result = grid_search.fit(X_train, Y_train)\n",
        "# summarize results\n",
        "print(\"Best: %f using %s\" % (grid_result.best_score_, grid_result.best_params_))\n",
        "means = grid_result.cv_results_['mean_test_score']\n",
        "stds = grid_result.cv_results_['std_test_score']\n",
        "params = grid_result.cv_results_['params']\n",
        "for mean, stdev, param in zip(means, stds, params):\n",
        "    print(\"%f (%f) with: %r\" % (mean, stdev, param))"
      ]
    },
    {
      "cell_type": "markdown",
      "metadata": {
        "id": "-5qJjaP0fiVu"
      },
      "source": [
        "### Using Logistic Regression Algorithm"
      ]
    },
    {
      "cell_type": "code",
      "execution_count": null,
      "metadata": {
        "id": "HvraTazcfiVu"
      },
      "outputs": [],
      "source": [
        "#from sklearn.linear_model import LogisticRegression\n",
        "#logreg = LogisticRegression(C=100, penalty='l2', solver='newton-cg')\n",
        "#logr.fit(X_train, Y_train)\n",
        "import pickle\n",
        "# Load the Model back from file\n",
        "Pkl_Filename = \"logreg.pkl\"\n",
        "with open(Pkl_Filename, 'rb') as file:  \n",
        "    logr = pickle.load(file)\n",
        "\n",
        "pred_logit = logr.predict(X_test)"
      ]
    },
    {
      "cell_type": "code",
      "execution_count": null,
      "metadata": {
        "colab": {
          "base_uri": "https://localhost:8080/"
        },
        "id": "u6UkY28q0fVH",
        "outputId": "9b9bc6ff-3492-44b2-9eb3-c5026fd365b9"
      },
      "outputs": [
        {
          "output_type": "stream",
          "name": "stdout",
          "text": [
            "Collecting eli5\n",
            "  Downloading eli5-0.11.0-py2.py3-none-any.whl (106 kB)\n",
            "\u001b[?25l\r\u001b[K     |███                             | 10 kB 19.3 MB/s eta 0:00:01\r\u001b[K     |██████▏                         | 20 kB 25.5 MB/s eta 0:00:01\r\u001b[K     |█████████▎                      | 30 kB 30.1 MB/s eta 0:00:01\r\u001b[K     |████████████▍                   | 40 kB 32.8 MB/s eta 0:00:01\r\u001b[K     |███████████████▌                | 51 kB 34.3 MB/s eta 0:00:01\r\u001b[K     |██████████████████▌             | 61 kB 31.0 MB/s eta 0:00:01\r\u001b[K     |█████████████████████▋          | 71 kB 29.4 MB/s eta 0:00:01\r\u001b[K     |████████████████████████▊       | 81 kB 30.6 MB/s eta 0:00:01\r\u001b[K     |███████████████████████████▉    | 92 kB 32.2 MB/s eta 0:00:01\r\u001b[K     |███████████████████████████████ | 102 kB 34.2 MB/s eta 0:00:01\r\u001b[K     |████████████████████████████████| 106 kB 34.2 MB/s \n",
            "\u001b[?25hRequirement already satisfied: tabulate>=0.7.7 in /usr/local/lib/python3.7/dist-packages (from eli5) (0.8.9)\n",
            "Requirement already satisfied: six in /usr/local/lib/python3.7/dist-packages (from eli5) (1.15.0)\n",
            "Requirement already satisfied: scikit-learn>=0.20 in /usr/local/lib/python3.7/dist-packages (from eli5) (1.0.1)\n",
            "Requirement already satisfied: jinja2 in /usr/local/lib/python3.7/dist-packages (from eli5) (2.11.3)\n",
            "Requirement already satisfied: numpy>=1.9.0 in /usr/local/lib/python3.7/dist-packages (from eli5) (1.19.5)\n",
            "Requirement already satisfied: graphviz in /usr/local/lib/python3.7/dist-packages (from eli5) (0.10.1)\n",
            "Requirement already satisfied: attrs>16.0.0 in /usr/local/lib/python3.7/dist-packages (from eli5) (21.2.0)\n",
            "Requirement already satisfied: scipy in /usr/local/lib/python3.7/dist-packages (from eli5) (1.4.1)\n",
            "Requirement already satisfied: joblib>=0.11 in /usr/local/lib/python3.7/dist-packages (from scikit-learn>=0.20->eli5) (1.1.0)\n",
            "Requirement already satisfied: threadpoolctl>=2.0.0 in /usr/local/lib/python3.7/dist-packages (from scikit-learn>=0.20->eli5) (3.0.0)\n",
            "Requirement already satisfied: MarkupSafe>=0.23 in /usr/local/lib/python3.7/dist-packages (from jinja2->eli5) (2.0.1)\n",
            "Installing collected packages: eli5\n",
            "Successfully installed eli5-0.11.0\n"
          ]
        }
      ],
      "source": [
        "pip install eli5"
      ]
    },
    {
      "cell_type": "code",
      "execution_count": null,
      "metadata": {
        "colab": {
          "base_uri": "https://localhost:8080/",
          "height": 527
        },
        "id": "I2n3yvYofiVv",
        "outputId": "eacd0926-544c-4920-e46f-a5f6a1dab02c"
      },
      "outputs": [
        {
          "output_type": "stream",
          "name": "stderr",
          "text": [
            "/usr/local/lib/python3.7/dist-packages/sklearn/utils/deprecation.py:87: FutureWarning: Function get_feature_names is deprecated; get_feature_names is deprecated in 1.0 and will be removed in 1.2. Please use get_feature_names_out instead.\n",
            "  warnings.warn(msg, category=FutureWarning)\n"
          ]
        },
        {
          "output_type": "execute_result",
          "data": {
            "text/html": [
              "\n",
              "    <style>\n",
              "    table.eli5-weights tr:hover {\n",
              "        filter: brightness(85%);\n",
              "    }\n",
              "</style>\n",
              "\n",
              "\n",
              "\n",
              "    \n",
              "\n",
              "    \n",
              "\n",
              "    \n",
              "\n",
              "    \n",
              "\n",
              "    \n",
              "\n",
              "    \n",
              "\n",
              "\n",
              "    \n",
              "\n",
              "    \n",
              "\n",
              "    \n",
              "\n",
              "    \n",
              "        \n",
              "\n",
              "    \n",
              "\n",
              "        \n",
              "            \n",
              "                \n",
              "                \n",
              "    \n",
              "        <p style=\"margin-bottom: 0.5em; margin-top: 0em\">\n",
              "            <b>\n",
              "    \n",
              "        y=True\n",
              "    \n",
              "</b>\n",
              "\n",
              "top features\n",
              "        </p>\n",
              "    \n",
              "    <table class=\"eli5-weights\"\n",
              "           style=\"border-collapse: collapse; border: none; margin-top: 0em; table-layout: auto; margin-bottom: 2em;\">\n",
              "        <thead>\n",
              "        <tr style=\"border: none;\">\n",
              "            \n",
              "                <th style=\"padding: 0 1em 0 0.5em; text-align: right; border: none;\" title=\"Feature weights. Note that weights do not account for feature value scales, so if feature values have different scales, features with highest weights might not be the most important.\">\n",
              "                    Weight<sup>?</sup>\n",
              "                </th>\n",
              "            \n",
              "            <th style=\"padding: 0 0.5em 0 0.5em; text-align: left; border: none;\">Feature</th>\n",
              "            \n",
              "        </tr>\n",
              "        </thead>\n",
              "        <tbody>\n",
              "        \n",
              "            <tr style=\"background-color: hsl(120, 100.00%, 80.00%); border: none;\">\n",
              "    <td style=\"padding: 0 1em 0 0.5em; text-align: right; border: none;\">\n",
              "        +17.122\n",
              "    </td>\n",
              "    <td style=\"padding: 0 0.5em 0 0.5em; text-align: left; border: none;\">\n",
              "        )\n",
              "    </td>\n",
              "    \n",
              "</tr>\n",
              "        \n",
              "            <tr style=\"background-color: hsl(120, 100.00%, 83.17%); border: none;\">\n",
              "    <td style=\"padding: 0 1em 0 0.5em; text-align: right; border: none;\">\n",
              "        +13.377\n",
              "    </td>\n",
              "    <td style=\"padding: 0 0.5em 0 0.5em; text-align: left; border: none;\">\n",
              "        ()\n",
              "    </td>\n",
              "    \n",
              "</tr>\n",
              "        \n",
              "            <tr style=\"background-color: hsl(120, 100.00%, 83.41%); border: none;\">\n",
              "    <td style=\"padding: 0 1em 0 0.5em; text-align: right; border: none;\">\n",
              "        +13.114\n",
              "    </td>\n",
              "    <td style=\"padding: 0 0.5em 0 0.5em; text-align: left; border: none;\">\n",
              "        \\r\n",
              "    </td>\n",
              "    \n",
              "</tr>\n",
              "        \n",
              "            <tr style=\"background-color: hsl(120, 100.00%, 84.10%); border: none;\">\n",
              "    <td style=\"padding: 0 1em 0 0.5em; text-align: right; border: none;\">\n",
              "        +12.342\n",
              "    </td>\n",
              "    <td style=\"padding: 0 0.5em 0 0.5em; text-align: left; border: none;\">\n",
              "        *\n",
              "    </td>\n",
              "    \n",
              "</tr>\n",
              "        \n",
              "            <tr style=\"background-color: hsl(120, 100.00%, 84.18%); border: none;\">\n",
              "    <td style=\"padding: 0 1em 0 0.5em; text-align: right; border: none;\">\n",
              "        +12.250\n",
              "    </td>\n",
              "    <td style=\"padding: 0 0.5em 0 0.5em; text-align: left; border: none;\">\n",
              "        =\n",
              "    </td>\n",
              "    \n",
              "</tr>\n",
              "        \n",
              "            <tr style=\"background-color: hsl(120, 100.00%, 84.51%); border: none;\">\n",
              "    <td style=\"padding: 0 1em 0 0.5em; text-align: right; border: none;\">\n",
              "        +11.889\n",
              "    </td>\n",
              "    <td style=\"padding: 0 0.5em 0 0.5em; text-align: left; border: none;\">\n",
              "        <span style=\"background-color: hsl(120, 80%, 70%); margin: 0 0.1em 0 0\" title=\"A space symbol\">&emsp;</span>\\r\n",
              "    </td>\n",
              "    \n",
              "</tr>\n",
              "        \n",
              "            <tr style=\"background-color: hsl(120, 100.00%, 84.70%); border: none;\">\n",
              "    <td style=\"padding: 0 1em 0 0.5em; text-align: right; border: none;\">\n",
              "        +11.683\n",
              "    </td>\n",
              "    <td style=\"padding: 0 0.5em 0 0.5em; text-align: left; border: none;\">\n",
              "        \\t\n",
              "    </td>\n",
              "    \n",
              "</tr>\n",
              "        \n",
              "            <tr style=\"background-color: hsl(120, 100.00%, 84.71%); border: none;\">\n",
              "    <td style=\"padding: 0 1em 0 0.5em; text-align: right; border: none;\">\n",
              "        +11.672\n",
              "    </td>\n",
              "    <td style=\"padding: 0 0.5em 0 0.5em; text-align: left; border: none;\">\n",
              "        =%\n",
              "    </td>\n",
              "    \n",
              "</tr>\n",
              "        \n",
              "            <tr style=\"background-color: hsl(120, 100.00%, 85.19%); border: none;\">\n",
              "    <td style=\"padding: 0 1em 0 0.5em; text-align: right; border: none;\">\n",
              "        +11.151\n",
              "    </td>\n",
              "    <td style=\"padding: 0 0.5em 0 0.5em; text-align: left; border: none;\">\n",
              "        ;%\n",
              "    </td>\n",
              "    \n",
              "</tr>\n",
              "        \n",
              "            <tr style=\"background-color: hsl(120, 100.00%, 85.63%); border: none;\">\n",
              "    <td style=\"padding: 0 1em 0 0.5em; text-align: right; border: none;\">\n",
              "        +10.682\n",
              "    </td>\n",
              "    <td style=\"padding: 0 0.5em 0 0.5em; text-align: left; border: none;\">\n",
              "        &quot;\n",
              "    </td>\n",
              "    \n",
              "</tr>\n",
              "        \n",
              "            <tr style=\"background-color: hsl(120, 100.00%, 85.83%); border: none;\">\n",
              "    <td style=\"padding: 0 1em 0 0.5em; text-align: right; border: none;\">\n",
              "        +10.463\n",
              "    </td>\n",
              "    <td style=\"padding: 0 0.5em 0 0.5em; text-align: left; border: none;\">\n",
              "        */\n",
              "    </td>\n",
              "    \n",
              "</tr>\n",
              "        \n",
              "            <tr style=\"background-color: hsl(120, 100.00%, 85.95%); border: none;\">\n",
              "    <td style=\"padding: 0 1em 0 0.5em; text-align: right; border: none;\">\n",
              "        +10.337\n",
              "    </td>\n",
              "    <td style=\"padding: 0 0.5em 0 0.5em; text-align: left; border: none;\">\n",
              "        &#x27;=&#x27;\n",
              "    </td>\n",
              "    \n",
              "</tr>\n",
              "        \n",
              "            <tr style=\"background-color: hsl(120, 100.00%, 86.28%); border: none;\">\n",
              "    <td style=\"padding: 0 1em 0 0.5em; text-align: right; border: none;\">\n",
              "        +9.997\n",
              "    </td>\n",
              "    <td style=\"padding: 0 0.5em 0 0.5em; text-align: left; border: none;\">\n",
              "        b&quot;\n",
              "    </td>\n",
              "    \n",
              "</tr>\n",
              "        \n",
              "            <tr style=\"background-color: hsl(120, 100.00%, 86.41%); border: none;\">\n",
              "    <td style=\"padding: 0 1em 0 0.5em; text-align: right; border: none;\">\n",
              "        +9.862\n",
              "    </td>\n",
              "    <td style=\"padding: 0 0.5em 0 0.5em; text-align: left; border: none;\">\n",
              "        &#x27;%\n",
              "    </td>\n",
              "    \n",
              "</tr>\n",
              "        \n",
              "            <tr style=\"background-color: hsl(120, 100.00%, 86.69%); border: none;\">\n",
              "    <td style=\"padding: 0 1em 0 0.5em; text-align: right; border: none;\">\n",
              "        +9.571\n",
              "    </td>\n",
              "    <td style=\"padding: 0 0.5em 0 0.5em; text-align: left; border: none;\">\n",
              "        /*\n",
              "    </td>\n",
              "    \n",
              "</tr>\n",
              "        \n",
              "            <tr style=\"background-color: hsl(120, 100.00%, 87.15%); border: none;\">\n",
              "    <td style=\"padding: 0 1em 0 0.5em; text-align: right; border: none;\">\n",
              "        +9.104\n",
              "    </td>\n",
              "    <td style=\"padding: 0 0.5em 0 0.5em; text-align: left; border: none;\">\n",
              "        ()&#x27;\n",
              "    </td>\n",
              "    \n",
              "</tr>\n",
              "        \n",
              "            <tr style=\"background-color: hsl(120, 100.00%, 87.17%); border: none;\">\n",
              "    <td style=\"padding: 0 1em 0 0.5em; text-align: right; border: none;\">\n",
              "        +9.083\n",
              "    </td>\n",
              "    <td style=\"padding: 0 0.5em 0 0.5em; text-align: left; border: none;\">\n",
              "        <span style=\"background-color: hsl(120, 80%, 70%); margin: 0 0.1em 0 0\" title=\"A space symbol\">&emsp;</span>and\n",
              "    </td>\n",
              "    \n",
              "</tr>\n",
              "        \n",
              "        \n",
              "            <tr style=\"background-color: hsl(120, 100.00%, 87.17%); border: none;\">\n",
              "                <td colspan=\"2\" style=\"padding: 0 0.5em 0 0.5em; text-align: center; border: none; white-space: nowrap;\">\n",
              "                    <i>&hellip; 49645 more positive &hellip;</i>\n",
              "                </td>\n",
              "            </tr>\n",
              "        \n",
              "\n",
              "        \n",
              "            <tr style=\"background-color: hsl(0, 100.00%, 87.32%); border: none;\">\n",
              "                <td colspan=\"2\" style=\"padding: 0 0.5em 0 0.5em; text-align: center; border: none; white-space: nowrap;\">\n",
              "                    <i>&hellip; 50329 more negative &hellip;</i>\n",
              "                </td>\n",
              "            </tr>\n",
              "        \n",
              "        \n",
              "            <tr style=\"background-color: hsl(0, 100.00%, 87.32%); border: none;\">\n",
              "    <td style=\"padding: 0 1em 0 0.5em; text-align: right; border: none;\">\n",
              "        -8.928\n",
              "    </td>\n",
              "    <td style=\"padding: 0 0.5em 0 0.5em; text-align: left; border: none;\">\n",
              "        f%\n",
              "    </td>\n",
              "    \n",
              "</tr>\n",
              "        \n",
              "            <tr style=\"background-color: hsl(0, 100.00%, 86.82%); border: none;\">\n",
              "    <td style=\"padding: 0 1em 0 0.5em; text-align: right; border: none;\">\n",
              "        -9.438\n",
              "    </td>\n",
              "    <td style=\"padding: 0 0.5em 0 0.5em; text-align: left; border: none;\">\n",
              "        \\x\n",
              "    </td>\n",
              "    \n",
              "</tr>\n",
              "        \n",
              "            <tr style=\"background-color: hsl(0, 100.00%, 84.84%); border: none;\">\n",
              "    <td style=\"padding: 0 1em 0 0.5em; text-align: right; border: none;\">\n",
              "        -11.520\n",
              "    </td>\n",
              "    <td style=\"padding: 0 0.5em 0 0.5em; text-align: left; border: none;\">\n",
              "        \\n\n",
              "    </td>\n",
              "    \n",
              "</tr>\n",
              "        \n",
              "\n",
              "        </tbody>\n",
              "    </table>\n",
              "\n",
              "            \n",
              "        \n",
              "\n",
              "        \n",
              "\n",
              "\n",
              "\n",
              "    \n",
              "\n",
              "    \n",
              "\n",
              "    \n",
              "\n",
              "    \n",
              "\n",
              "\n",
              "    \n",
              "\n",
              "    \n",
              "\n",
              "    \n",
              "\n",
              "    \n",
              "\n",
              "    \n",
              "\n",
              "    \n",
              "\n",
              "\n",
              "    \n",
              "\n",
              "    \n",
              "\n",
              "    \n",
              "\n",
              "    \n",
              "\n",
              "    \n",
              "\n",
              "    \n",
              "\n",
              "\n",
              "\n"
            ],
            "text/plain": [
              "<IPython.core.display.HTML object>"
            ]
          },
          "metadata": {},
          "execution_count": 49
        }
      ],
      "source": [
        "import eli5\n",
        "eli5.show_weights(logr, vec=vectorizer,  targets=[0, 1])"
      ]
    },
    {
      "cell_type": "markdown",
      "metadata": {
        "id": "lXA1ad2ifiVv"
      },
      "source": [
        "### Using SVM Algorithm"
      ]
    },
    {
      "cell_type": "code",
      "execution_count": null,
      "metadata": {
        "id": "tO-0yk56fiVw"
      },
      "outputs": [],
      "source": [
        "#from sklearn.svm import LinearSVC\n",
        "#from sklearn.metrics import classification_report \n",
        "#svm = LinearSVC(C=1.0)\n",
        "#svm1 = LinearSVC(C=10.0)\n",
        "#svm.fit(X_train,Y_train)\n",
        "#svm1.fit(X_train,Y_train)\n",
        "Pkl_Filename = \"svm1.pkl\"\n",
        "with open(Pkl_Filename, 'rb') as file:  \n",
        "    svm = pickle.load(file)\n",
        "\n",
        "Pkl_Filename1 = \"svm2.pkl\"\n",
        "with open(Pkl_Filename1, 'rb') as file:  \n",
        "    svm1 = pickle.load(file)\n",
        "\n",
        "pred_svm = svm.predict(X_test)\n",
        "pred_svm1 = svm1.predict(X_test)"
      ]
    },
    {
      "cell_type": "code",
      "execution_count": null,
      "metadata": {
        "id": "uewDUw_ZtwR2"
      },
      "outputs": [],
      "source": [
        ""
      ]
    },
    {
      "cell_type": "code",
      "execution_count": null,
      "metadata": {
        "colab": {
          "base_uri": "https://localhost:8080/",
          "height": 527
        },
        "id": "CZvv6vsSfiVw",
        "outputId": "8ff49edd-fad8-4344-ae90-cb847b4ff633"
      },
      "outputs": [
        {
          "output_type": "stream",
          "name": "stderr",
          "text": [
            "/usr/local/lib/python3.7/dist-packages/sklearn/utils/deprecation.py:87: FutureWarning: Function get_feature_names is deprecated; get_feature_names is deprecated in 1.0 and will be removed in 1.2. Please use get_feature_names_out instead.\n",
            "  warnings.warn(msg, category=FutureWarning)\n"
          ]
        },
        {
          "output_type": "execute_result",
          "data": {
            "text/html": [
              "\n",
              "    <style>\n",
              "    table.eli5-weights tr:hover {\n",
              "        filter: brightness(85%);\n",
              "    }\n",
              "</style>\n",
              "\n",
              "\n",
              "\n",
              "    \n",
              "\n",
              "    \n",
              "\n",
              "    \n",
              "\n",
              "    \n",
              "\n",
              "    \n",
              "\n",
              "    \n",
              "\n",
              "\n",
              "    \n",
              "\n",
              "    \n",
              "\n",
              "    \n",
              "\n",
              "    \n",
              "        \n",
              "\n",
              "    \n",
              "\n",
              "        \n",
              "            \n",
              "                \n",
              "                \n",
              "    \n",
              "        <p style=\"margin-bottom: 0.5em; margin-top: 0em\">\n",
              "            <b>\n",
              "    \n",
              "        y=True\n",
              "    \n",
              "</b>\n",
              "\n",
              "top features\n",
              "        </p>\n",
              "    \n",
              "    <table class=\"eli5-weights\"\n",
              "           style=\"border-collapse: collapse; border: none; margin-top: 0em; table-layout: auto; margin-bottom: 2em;\">\n",
              "        <thead>\n",
              "        <tr style=\"border: none;\">\n",
              "            \n",
              "                <th style=\"padding: 0 1em 0 0.5em; text-align: right; border: none;\" title=\"Feature weights. Note that weights do not account for feature value scales, so if feature values have different scales, features with highest weights might not be the most important.\">\n",
              "                    Weight<sup>?</sup>\n",
              "                </th>\n",
              "            \n",
              "            <th style=\"padding: 0 0.5em 0 0.5em; text-align: left; border: none;\">Feature</th>\n",
              "            \n",
              "        </tr>\n",
              "        </thead>\n",
              "        <tbody>\n",
              "        \n",
              "            <tr style=\"background-color: hsl(120, 100.00%, 80.00%); border: none;\">\n",
              "    <td style=\"padding: 0 1em 0 0.5em; text-align: right; border: none;\">\n",
              "        +3.436\n",
              "    </td>\n",
              "    <td style=\"padding: 0 0.5em 0 0.5em; text-align: left; border: none;\">\n",
              "        )\n",
              "    </td>\n",
              "    \n",
              "</tr>\n",
              "        \n",
              "            <tr style=\"background-color: hsl(120, 100.00%, 81.26%); border: none;\">\n",
              "    <td style=\"padding: 0 1em 0 0.5em; text-align: right; border: none;\">\n",
              "        +3.131\n",
              "    </td>\n",
              "    <td style=\"padding: 0 0.5em 0 0.5em; text-align: left; border: none;\">\n",
              "        =\n",
              "    </td>\n",
              "    \n",
              "</tr>\n",
              "        \n",
              "            <tr style=\"background-color: hsl(120, 100.00%, 82.71%); border: none;\">\n",
              "    <td style=\"padding: 0 1em 0 0.5em; text-align: right; border: none;\">\n",
              "        +2.791\n",
              "    </td>\n",
              "    <td style=\"padding: 0 0.5em 0 0.5em; text-align: left; border: none;\">\n",
              "        \\r\n",
              "    </td>\n",
              "    \n",
              "</tr>\n",
              "        \n",
              "            <tr style=\"background-color: hsl(120, 100.00%, 83.01%); border: none;\">\n",
              "    <td style=\"padding: 0 1em 0 0.5em; text-align: right; border: none;\">\n",
              "        +2.723\n",
              "    </td>\n",
              "    <td style=\"padding: 0 0.5em 0 0.5em; text-align: left; border: none;\">\n",
              "        <span style=\"background-color: hsl(120, 80%, 70%); margin: 0 0.1em 0 0\" title=\"A space symbol\">&emsp;</span>\\r\n",
              "    </td>\n",
              "    \n",
              "</tr>\n",
              "        \n",
              "            <tr style=\"background-color: hsl(120, 100.00%, 83.25%); border: none;\">\n",
              "    <td style=\"padding: 0 1em 0 0.5em; text-align: right; border: none;\">\n",
              "        +2.667\n",
              "    </td>\n",
              "    <td style=\"padding: 0 0.5em 0 0.5em; text-align: left; border: none;\">\n",
              "        ;%\n",
              "    </td>\n",
              "    \n",
              "</tr>\n",
              "        \n",
              "            <tr style=\"background-color: hsl(120, 100.00%, 83.93%); border: none;\">\n",
              "    <td style=\"padding: 0 1em 0 0.5em; text-align: right; border: none;\">\n",
              "        +2.514\n",
              "    </td>\n",
              "    <td style=\"padding: 0 0.5em 0 0.5em; text-align: left; border: none;\">\n",
              "        &quot;8&#x27;<span style=\"background-color: hsl(120, 80%, 70%); margin: 0 0 0 0.1em\" title=\"A space symbol\">&emsp;</span>\n",
              "    </td>\n",
              "    \n",
              "</tr>\n",
              "        \n",
              "            <tr style=\"background-color: hsl(120, 100.00%, 84.16%); border: none;\">\n",
              "    <td style=\"padding: 0 1em 0 0.5em; text-align: right; border: none;\">\n",
              "        +2.463\n",
              "    </td>\n",
              "    <td style=\"padding: 0 0.5em 0 0.5em; text-align: left; border: none;\">\n",
              "        ()\n",
              "    </td>\n",
              "    \n",
              "</tr>\n",
              "        \n",
              "            <tr style=\"background-color: hsl(120, 100.00%, 84.41%); border: none;\">\n",
              "    <td style=\"padding: 0 1em 0 0.5em; text-align: right; border: none;\">\n",
              "        +2.406\n",
              "    </td>\n",
              "    <td style=\"padding: 0 0.5em 0 0.5em; text-align: left; border: none;\">\n",
              "        &#x27;=&#x27;\n",
              "    </td>\n",
              "    \n",
              "</tr>\n",
              "        \n",
              "            <tr style=\"background-color: hsl(120, 100.00%, 84.56%); border: none;\">\n",
              "    <td style=\"padding: 0 1em 0 0.5em; text-align: right; border: none;\">\n",
              "        +2.374\n",
              "    </td>\n",
              "    <td style=\"padding: 0 0.5em 0 0.5em; text-align: left; border: none;\">\n",
              "        &quot;4&#x27;<span style=\"background-color: hsl(120, 80%, 70%); margin: 0 0 0 0.1em\" title=\"A space symbol\">&emsp;</span>\n",
              "    </td>\n",
              "    \n",
              "</tr>\n",
              "        \n",
              "            <tr style=\"background-color: hsl(120, 100.00%, 84.60%); border: none;\">\n",
              "    <td style=\"padding: 0 1em 0 0.5em; text-align: right; border: none;\">\n",
              "        +2.366\n",
              "    </td>\n",
              "    <td style=\"padding: 0 0.5em 0 0.5em; text-align: left; border: none;\">\n",
              "        -\\xd\n",
              "    </td>\n",
              "    \n",
              "</tr>\n",
              "        \n",
              "            <tr style=\"background-color: hsl(120, 100.00%, 84.86%); border: none;\">\n",
              "    <td style=\"padding: 0 1em 0 0.5em; text-align: right; border: none;\">\n",
              "        +2.309\n",
              "    </td>\n",
              "    <td style=\"padding: 0 0.5em 0 0.5em; text-align: left; border: none;\">\n",
              "        &#x27;%\n",
              "    </td>\n",
              "    \n",
              "</tr>\n",
              "        \n",
              "        \n",
              "            <tr style=\"background-color: hsl(120, 100.00%, 84.86%); border: none;\">\n",
              "                <td colspan=\"2\" style=\"padding: 0 0.5em 0 0.5em; text-align: center; border: none; white-space: nowrap;\">\n",
              "                    <i>&hellip; 47570 more positive &hellip;</i>\n",
              "                </td>\n",
              "            </tr>\n",
              "        \n",
              "\n",
              "        \n",
              "            <tr style=\"background-color: hsl(0, 100.00%, 84.39%); border: none;\">\n",
              "                <td colspan=\"2\" style=\"padding: 0 0.5em 0 0.5em; text-align: center; border: none; white-space: nowrap;\">\n",
              "                    <i>&hellip; 46347 more negative &hellip;</i>\n",
              "                </td>\n",
              "            </tr>\n",
              "        \n",
              "        \n",
              "            <tr style=\"background-color: hsl(0, 100.00%, 84.39%); border: none;\">\n",
              "    <td style=\"padding: 0 1em 0 0.5em; text-align: right; border: none;\">\n",
              "        -2.410\n",
              "    </td>\n",
              "    <td style=\"padding: 0 0.5em 0 0.5em; text-align: left; border: none;\">\n",
              "        \\n\n",
              "    </td>\n",
              "    \n",
              "</tr>\n",
              "        \n",
              "            <tr style=\"background-color: hsl(0, 100.00%, 84.30%); border: none;\">\n",
              "    <td style=\"padding: 0 1em 0 0.5em; text-align: right; border: none;\">\n",
              "        -2.431\n",
              "    </td>\n",
              "    <td style=\"padding: 0 0.5em 0 0.5em; text-align: left; border: none;\">\n",
              "        lima\n",
              "    </td>\n",
              "    \n",
              "</tr>\n",
              "        \n",
              "            <tr style=\"background-color: hsl(0, 100.00%, 84.24%); border: none;\">\n",
              "    <td style=\"padding: 0 1em 0 0.5em; text-align: right; border: none;\">\n",
              "        -2.444\n",
              "    </td>\n",
              "    <td style=\"padding: 0 0.5em 0 0.5em; text-align: left; border: none;\">\n",
              "        &#x27;op\n",
              "    </td>\n",
              "    \n",
              "</tr>\n",
              "        \n",
              "            <tr style=\"background-color: hsl(0, 100.00%, 84.17%); border: none;\">\n",
              "    <td style=\"padding: 0 1em 0 0.5em; text-align: right; border: none;\">\n",
              "        -2.460\n",
              "    </td>\n",
              "    <td style=\"padding: 0 0.5em 0 0.5em; text-align: left; border: none;\">\n",
              "        &quot;op\n",
              "    </td>\n",
              "    \n",
              "</tr>\n",
              "        \n",
              "            <tr style=\"background-color: hsl(0, 100.00%, 84.10%); border: none;\">\n",
              "    <td style=\"padding: 0 1em 0 0.5em; text-align: right; border: none;\">\n",
              "        -2.475\n",
              "    </td>\n",
              "    <td style=\"padding: 0 0.5em 0 0.5em; text-align: left; border: none;\">\n",
              "        &#x27;8&quot;\n",
              "    </td>\n",
              "    \n",
              "</tr>\n",
              "        \n",
              "            <tr style=\"background-color: hsl(0, 100.00%, 82.81%); border: none;\">\n",
              "    <td style=\"padding: 0 1em 0 0.5em; text-align: right; border: none;\">\n",
              "        -2.768\n",
              "    </td>\n",
              "    <td style=\"padding: 0 0.5em 0 0.5em; text-align: left; border: none;\">\n",
              "        &quot;69\n",
              "    </td>\n",
              "    \n",
              "</tr>\n",
              "        \n",
              "            <tr style=\"background-color: hsl(0, 100.00%, 82.64%); border: none;\">\n",
              "    <td style=\"padding: 0 1em 0 0.5em; text-align: right; border: none;\">\n",
              "        -2.806\n",
              "    </td>\n",
              "    <td style=\"padding: 0 0.5em 0 0.5em; text-align: left; border: none;\">\n",
              "        b&#x27;op\n",
              "    </td>\n",
              "    \n",
              "</tr>\n",
              "        \n",
              "            <tr style=\"background-color: hsl(0, 100.00%, 82.51%); border: none;\">\n",
              "    <td style=\"padding: 0 1em 0 0.5em; text-align: right; border: none;\">\n",
              "        -2.836\n",
              "    </td>\n",
              "    <td style=\"padding: 0 0.5em 0 0.5em; text-align: left; border: none;\">\n",
              "        l--<span style=\"background-color: hsl(0, 80%, 70%); margin: 0 0 0 0.1em\" title=\"A space symbol\">&emsp;</span>\n",
              "    </td>\n",
              "    \n",
              "</tr>\n",
              "        \n",
              "            <tr style=\"background-color: hsl(0, 100.00%, 81.96%); border: none;\">\n",
              "    <td style=\"padding: 0 1em 0 0.5em; text-align: right; border: none;\">\n",
              "        -2.966\n",
              "    </td>\n",
              "    <td style=\"padding: 0 0.5em 0 0.5em; text-align: left; border: none;\">\n",
              "        ops\n",
              "    </td>\n",
              "    \n",
              "</tr>\n",
              "        \n",
              "\n",
              "        </tbody>\n",
              "    </table>\n",
              "\n",
              "            \n",
              "        \n",
              "\n",
              "        \n",
              "\n",
              "\n",
              "\n",
              "    \n",
              "\n",
              "    \n",
              "\n",
              "    \n",
              "\n",
              "    \n",
              "\n",
              "\n",
              "    \n",
              "\n",
              "    \n",
              "\n",
              "    \n",
              "\n",
              "    \n",
              "\n",
              "    \n",
              "\n",
              "    \n",
              "\n",
              "\n",
              "    \n",
              "\n",
              "    \n",
              "\n",
              "    \n",
              "\n",
              "    \n",
              "\n",
              "    \n",
              "\n",
              "    \n",
              "\n",
              "\n",
              "\n"
            ],
            "text/plain": [
              "<IPython.core.display.HTML object>"
            ]
          },
          "metadata": {},
          "execution_count": 54
        }
      ],
      "source": [
        "eli5.show_weights(svm1, vec=vectorizer,  targets=[0, 1])"
      ]
    },
    {
      "cell_type": "code",
      "execution_count": null,
      "metadata": {
        "colab": {
          "base_uri": "https://localhost:8080/",
          "height": 1000
        },
        "id": "4WmmJYonfiVw",
        "outputId": "2d2ce678-a71d-45e9-eb90-409c28a0edb0"
      },
      "outputs": [
        {
          "output_type": "stream",
          "name": "stderr",
          "text": [
            "/usr/local/lib/python3.7/dist-packages/sklearn/utils/deprecation.py:87: FutureWarning: Function get_feature_names is deprecated; get_feature_names is deprecated in 1.0 and will be removed in 1.2. Please use get_feature_names_out instead.\n",
            "  warnings.warn(msg, category=FutureWarning)\n"
          ]
        },
        {
          "output_type": "execute_result",
          "data": {
            "text/html": [
              "\n",
              "    <style>\n",
              "    table.eli5-weights tr:hover {\n",
              "        filter: brightness(85%);\n",
              "    }\n",
              "</style>\n",
              "\n",
              "\n",
              "\n",
              "    \n",
              "\n",
              "    \n",
              "\n",
              "    \n",
              "\n",
              "    \n",
              "\n",
              "    \n",
              "\n",
              "    \n",
              "\n",
              "\n",
              "    \n",
              "\n",
              "    \n",
              "\n",
              "    \n",
              "\n",
              "    \n",
              "        \n",
              "\n",
              "    \n",
              "\n",
              "        \n",
              "            \n",
              "                \n",
              "                \n",
              "    \n",
              "        <p style=\"margin-bottom: 0.5em; margin-top: 0em\">\n",
              "            <b>\n",
              "    \n",
              "        y=True\n",
              "    \n",
              "</b>\n",
              "\n",
              "top features\n",
              "        </p>\n",
              "    \n",
              "    <table class=\"eli5-weights\"\n",
              "           style=\"border-collapse: collapse; border: none; margin-top: 0em; table-layout: auto; margin-bottom: 2em;\">\n",
              "        <thead>\n",
              "        <tr style=\"border: none;\">\n",
              "            \n",
              "                <th style=\"padding: 0 1em 0 0.5em; text-align: right; border: none;\" title=\"Feature weights. Note that weights do not account for feature value scales, so if feature values have different scales, features with highest weights might not be the most important.\">\n",
              "                    Weight<sup>?</sup>\n",
              "                </th>\n",
              "            \n",
              "            <th style=\"padding: 0 0.5em 0 0.5em; text-align: left; border: none;\">Feature</th>\n",
              "            \n",
              "        </tr>\n",
              "        </thead>\n",
              "        <tbody>\n",
              "        \n",
              "            <tr style=\"background-color: hsl(120, 100.00%, 80.00%); border: none;\">\n",
              "    <td style=\"padding: 0 1em 0 0.5em; text-align: right; border: none;\">\n",
              "        +3.436\n",
              "    </td>\n",
              "    <td style=\"padding: 0 0.5em 0 0.5em; text-align: left; border: none;\">\n",
              "        )\n",
              "    </td>\n",
              "    \n",
              "</tr>\n",
              "        \n",
              "            <tr style=\"background-color: hsl(120, 100.00%, 81.26%); border: none;\">\n",
              "    <td style=\"padding: 0 1em 0 0.5em; text-align: right; border: none;\">\n",
              "        +3.131\n",
              "    </td>\n",
              "    <td style=\"padding: 0 0.5em 0 0.5em; text-align: left; border: none;\">\n",
              "        =\n",
              "    </td>\n",
              "    \n",
              "</tr>\n",
              "        \n",
              "            <tr style=\"background-color: hsl(120, 100.00%, 82.71%); border: none;\">\n",
              "    <td style=\"padding: 0 1em 0 0.5em; text-align: right; border: none;\">\n",
              "        +2.791\n",
              "    </td>\n",
              "    <td style=\"padding: 0 0.5em 0 0.5em; text-align: left; border: none;\">\n",
              "        \\r\n",
              "    </td>\n",
              "    \n",
              "</tr>\n",
              "        \n",
              "            <tr style=\"background-color: hsl(120, 100.00%, 83.01%); border: none;\">\n",
              "    <td style=\"padding: 0 1em 0 0.5em; text-align: right; border: none;\">\n",
              "        +2.723\n",
              "    </td>\n",
              "    <td style=\"padding: 0 0.5em 0 0.5em; text-align: left; border: none;\">\n",
              "        <span style=\"background-color: hsl(120, 80%, 70%); margin: 0 0.1em 0 0\" title=\"A space symbol\">&emsp;</span>\\r\n",
              "    </td>\n",
              "    \n",
              "</tr>\n",
              "        \n",
              "            <tr style=\"background-color: hsl(120, 100.00%, 83.25%); border: none;\">\n",
              "    <td style=\"padding: 0 1em 0 0.5em; text-align: right; border: none;\">\n",
              "        +2.667\n",
              "    </td>\n",
              "    <td style=\"padding: 0 0.5em 0 0.5em; text-align: left; border: none;\">\n",
              "        ;%\n",
              "    </td>\n",
              "    \n",
              "</tr>\n",
              "        \n",
              "            <tr style=\"background-color: hsl(120, 100.00%, 83.93%); border: none;\">\n",
              "    <td style=\"padding: 0 1em 0 0.5em; text-align: right; border: none;\">\n",
              "        +2.514\n",
              "    </td>\n",
              "    <td style=\"padding: 0 0.5em 0 0.5em; text-align: left; border: none;\">\n",
              "        &quot;8&#x27;<span style=\"background-color: hsl(120, 80%, 70%); margin: 0 0 0 0.1em\" title=\"A space symbol\">&emsp;</span>\n",
              "    </td>\n",
              "    \n",
              "</tr>\n",
              "        \n",
              "            <tr style=\"background-color: hsl(120, 100.00%, 84.16%); border: none;\">\n",
              "    <td style=\"padding: 0 1em 0 0.5em; text-align: right; border: none;\">\n",
              "        +2.463\n",
              "    </td>\n",
              "    <td style=\"padding: 0 0.5em 0 0.5em; text-align: left; border: none;\">\n",
              "        ()\n",
              "    </td>\n",
              "    \n",
              "</tr>\n",
              "        \n",
              "            <tr style=\"background-color: hsl(120, 100.00%, 84.41%); border: none;\">\n",
              "    <td style=\"padding: 0 1em 0 0.5em; text-align: right; border: none;\">\n",
              "        +2.406\n",
              "    </td>\n",
              "    <td style=\"padding: 0 0.5em 0 0.5em; text-align: left; border: none;\">\n",
              "        &#x27;=&#x27;\n",
              "    </td>\n",
              "    \n",
              "</tr>\n",
              "        \n",
              "            <tr style=\"background-color: hsl(120, 100.00%, 84.56%); border: none;\">\n",
              "    <td style=\"padding: 0 1em 0 0.5em; text-align: right; border: none;\">\n",
              "        +2.374\n",
              "    </td>\n",
              "    <td style=\"padding: 0 0.5em 0 0.5em; text-align: left; border: none;\">\n",
              "        &quot;4&#x27;<span style=\"background-color: hsl(120, 80%, 70%); margin: 0 0 0 0.1em\" title=\"A space symbol\">&emsp;</span>\n",
              "    </td>\n",
              "    \n",
              "</tr>\n",
              "        \n",
              "            <tr style=\"background-color: hsl(120, 100.00%, 84.60%); border: none;\">\n",
              "    <td style=\"padding: 0 1em 0 0.5em; text-align: right; border: none;\">\n",
              "        +2.366\n",
              "    </td>\n",
              "    <td style=\"padding: 0 0.5em 0 0.5em; text-align: left; border: none;\">\n",
              "        -\\xd\n",
              "    </td>\n",
              "    \n",
              "</tr>\n",
              "        \n",
              "            <tr style=\"background-color: hsl(120, 100.00%, 84.86%); border: none;\">\n",
              "    <td style=\"padding: 0 1em 0 0.5em; text-align: right; border: none;\">\n",
              "        +2.309\n",
              "    </td>\n",
              "    <td style=\"padding: 0 0.5em 0 0.5em; text-align: left; border: none;\">\n",
              "        &#x27;%\n",
              "    </td>\n",
              "    \n",
              "</tr>\n",
              "        \n",
              "            <tr style=\"background-color: hsl(120, 100.00%, 84.95%); border: none;\">\n",
              "    <td style=\"padding: 0 1em 0 0.5em; text-align: right; border: none;\">\n",
              "        +2.290\n",
              "    </td>\n",
              "    <td style=\"padding: 0 0.5em 0 0.5em; text-align: left; border: none;\">\n",
              "        *\n",
              "    </td>\n",
              "    \n",
              "</tr>\n",
              "        \n",
              "            <tr style=\"background-color: hsl(120, 100.00%, 85.12%); border: none;\">\n",
              "    <td style=\"padding: 0 1em 0 0.5em; text-align: right; border: none;\">\n",
              "        +2.251\n",
              "    </td>\n",
              "    <td style=\"padding: 0 0.5em 0 0.5em; text-align: left; border: none;\">\n",
              "        <span style=\"background-color: hsl(120, 80%, 70%); margin: 0 0.1em 0 0\" title=\"A space symbol\">&emsp;</span>&#x27;6\n",
              "    </td>\n",
              "    \n",
              "</tr>\n",
              "        \n",
              "            <tr style=\"background-color: hsl(120, 100.00%, 85.21%); border: none;\">\n",
              "    <td style=\"padding: 0 1em 0 0.5em; text-align: right; border: none;\">\n",
              "        +2.232\n",
              "    </td>\n",
              "    <td style=\"padding: 0 0.5em 0 0.5em; text-align: left; border: none;\">\n",
              "        ect+\n",
              "    </td>\n",
              "    \n",
              "</tr>\n",
              "        \n",
              "            <tr style=\"background-color: hsl(120, 100.00%, 85.23%); border: none;\">\n",
              "    <td style=\"padding: 0 1em 0 0.5em; text-align: right; border: none;\">\n",
              "        +2.228\n",
              "    </td>\n",
              "    <td style=\"padding: 0 0.5em 0 0.5em; text-align: left; border: none;\">\n",
              "        nd<span style=\"background-color: hsl(120, 80%, 70%); margin: 0 0.1em 0 0.1em\" title=\"A space symbol\">&emsp;</span>(\n",
              "    </td>\n",
              "    \n",
              "</tr>\n",
              "        \n",
              "            <tr style=\"background-color: hsl(120, 100.00%, 85.31%); border: none;\">\n",
              "    <td style=\"padding: 0 1em 0 0.5em; text-align: right; border: none;\">\n",
              "        +2.211\n",
              "    </td>\n",
              "    <td style=\"padding: 0 0.5em 0 0.5em; text-align: left; border: none;\">\n",
              "        p(3)\n",
              "    </td>\n",
              "    \n",
              "</tr>\n",
              "        \n",
              "            <tr style=\"background-color: hsl(120, 100.00%, 85.49%); border: none;\">\n",
              "    <td style=\"padding: 0 1em 0 0.5em; text-align: right; border: none;\">\n",
              "        +2.173\n",
              "    </td>\n",
              "    <td style=\"padding: 0 0.5em 0 0.5em; text-align: left; border: none;\">\n",
              "        /pl/\n",
              "    </td>\n",
              "    \n",
              "</tr>\n",
              "        \n",
              "            <tr style=\"background-color: hsl(120, 100.00%, 85.66%); border: none;\">\n",
              "    <td style=\"padding: 0 1em 0 0.5em; text-align: right; border: none;\">\n",
              "        +2.136\n",
              "    </td>\n",
              "    <td style=\"padding: 0 0.5em 0 0.5em; text-align: left; border: none;\">\n",
              "        e/pl\n",
              "    </td>\n",
              "    \n",
              "</tr>\n",
              "        \n",
              "            <tr style=\"background-color: hsl(120, 100.00%, 85.73%); border: none;\">\n",
              "    <td style=\"padding: 0 1em 0 0.5em; text-align: right; border: none;\">\n",
              "        +2.122\n",
              "    </td>\n",
              "    <td style=\"padding: 0 0.5em 0 0.5em; text-align: left; border: none;\">\n",
              "        3<span style=\"background-color: hsl(120, 80%, 70%); margin: 0 0.1em 0 0.1em\" title=\"A space symbol\">&emsp;</span>w\n",
              "    </td>\n",
              "    \n",
              "</tr>\n",
              "        \n",
              "            <tr style=\"background-color: hsl(120, 100.00%, 85.79%); border: none;\">\n",
              "    <td style=\"padding: 0 1em 0 0.5em; text-align: right; border: none;\">\n",
              "        +2.108\n",
              "    </td>\n",
              "    <td style=\"padding: 0 0.5em 0 0.5em; text-align: left; border: none;\">\n",
              "        ()&#x27;\n",
              "    </td>\n",
              "    \n",
              "</tr>\n",
              "        \n",
              "            <tr style=\"background-color: hsl(120, 100.00%, 85.80%); border: none;\">\n",
              "    <td style=\"padding: 0 1em 0 0.5em; text-align: right; border: none;\">\n",
              "        +2.106\n",
              "    </td>\n",
              "    <td style=\"padding: 0 0.5em 0 0.5em; text-align: left; border: none;\">\n",
              "        */\n",
              "    </td>\n",
              "    \n",
              "</tr>\n",
              "        \n",
              "            <tr style=\"background-color: hsl(120, 100.00%, 85.83%); border: none;\">\n",
              "    <td style=\"padding: 0 1em 0 0.5em; text-align: right; border: none;\">\n",
              "        +2.101\n",
              "    </td>\n",
              "    <td style=\"padding: 0 0.5em 0 0.5em; text-align: left; border: none;\">\n",
              "        ct+\n",
              "    </td>\n",
              "    \n",
              "</tr>\n",
              "        \n",
              "            <tr style=\"background-color: hsl(120, 100.00%, 85.84%); border: none;\">\n",
              "    <td style=\"padding: 0 1em 0 0.5em; text-align: right; border: none;\">\n",
              "        +2.098\n",
              "    </td>\n",
              "    <td style=\"padding: 0 0.5em 0 0.5em; text-align: left; border: none;\">\n",
              "        \\t\n",
              "    </td>\n",
              "    \n",
              "</tr>\n",
              "        \n",
              "            <tr style=\"background-color: hsl(120, 100.00%, 85.92%); border: none;\">\n",
              "    <td style=\"padding: 0 1em 0 0.5em; text-align: right; border: none;\">\n",
              "        +2.080\n",
              "    </td>\n",
              "    <td style=\"padding: 0 0.5em 0 0.5em; text-align: left; border: none;\">\n",
              "        &quot;6&#x27;<span style=\"background-color: hsl(120, 80%, 70%); margin: 0 0 0 0.1em\" title=\"A space symbol\">&emsp;</span>\n",
              "    </td>\n",
              "    \n",
              "</tr>\n",
              "        \n",
              "            <tr style=\"background-color: hsl(120, 100.00%, 85.99%); border: none;\">\n",
              "    <td style=\"padding: 0 1em 0 0.5em; text-align: right; border: none;\">\n",
              "        +2.066\n",
              "    </td>\n",
              "    <td style=\"padding: 0 0.5em 0 0.5em; text-align: left; border: none;\">\n",
              "        =%\n",
              "    </td>\n",
              "    \n",
              "</tr>\n",
              "        \n",
              "            <tr style=\"background-color: hsl(120, 100.00%, 86.17%); border: none;\">\n",
              "    <td style=\"padding: 0 1em 0 0.5em; text-align: right; border: none;\">\n",
              "        +2.028\n",
              "    </td>\n",
              "    <td style=\"padding: 0 0.5em 0 0.5em; text-align: left; border: none;\">\n",
              "        &quot;\n",
              "    </td>\n",
              "    \n",
              "</tr>\n",
              "        \n",
              "            <tr style=\"background-color: hsl(120, 100.00%, 86.32%); border: none;\">\n",
              "    <td style=\"padding: 0 1em 0 0.5em; text-align: right; border: none;\">\n",
              "        +1.997\n",
              "    </td>\n",
              "    <td style=\"padding: 0 0.5em 0 0.5em; text-align: left; border: none;\">\n",
              "        b&#x27;or\n",
              "    </td>\n",
              "    \n",
              "</tr>\n",
              "        \n",
              "            <tr style=\"background-color: hsl(120, 100.00%, 86.57%); border: none;\">\n",
              "    <td style=\"padding: 0 1em 0 0.5em; text-align: right; border: none;\">\n",
              "        +1.945\n",
              "    </td>\n",
              "    <td style=\"padding: 0 0.5em 0 0.5em; text-align: left; border: none;\">\n",
              "        <span style=\"background-color: hsl(120, 80%, 70%); margin: 0 0.1em 0 0\" title=\"A space symbol\">&emsp;</span>and\n",
              "    </td>\n",
              "    \n",
              "</tr>\n",
              "        \n",
              "            <tr style=\"background-color: hsl(120, 100.00%, 86.66%); border: none;\">\n",
              "    <td style=\"padding: 0 1em 0 0.5em; text-align: right; border: none;\">\n",
              "        +1.927\n",
              "    </td>\n",
              "    <td style=\"padding: 0 0.5em 0 0.5em; text-align: left; border: none;\">\n",
              "        )=\n",
              "    </td>\n",
              "    \n",
              "</tr>\n",
              "        \n",
              "        \n",
              "            <tr style=\"background-color: hsl(120, 100.00%, 86.66%); border: none;\">\n",
              "                <td colspan=\"2\" style=\"padding: 0 0.5em 0 0.5em; text-align: center; border: none; white-space: nowrap;\">\n",
              "                    <i>&hellip; 47552 more positive &hellip;</i>\n",
              "                </td>\n",
              "            </tr>\n",
              "        \n",
              "\n",
              "        \n",
              "            <tr style=\"background-color: hsl(0, 100.00%, 86.71%); border: none;\">\n",
              "                <td colspan=\"2\" style=\"padding: 0 0.5em 0 0.5em; text-align: center; border: none; white-space: nowrap;\">\n",
              "                    <i>&hellip; 46335 more negative &hellip;</i>\n",
              "                </td>\n",
              "            </tr>\n",
              "        \n",
              "        \n",
              "            <tr style=\"background-color: hsl(0, 100.00%, 86.71%); border: none;\">\n",
              "    <td style=\"padding: 0 1em 0 0.5em; text-align: right; border: none;\">\n",
              "        -1.917\n",
              "    </td>\n",
              "    <td style=\"padding: 0 0.5em 0 0.5em; text-align: left; border: none;\">\n",
              "        &gt;&lt;\n",
              "    </td>\n",
              "    \n",
              "</tr>\n",
              "        \n",
              "            <tr style=\"background-color: hsl(0, 100.00%, 86.42%); border: none;\">\n",
              "    <td style=\"padding: 0 1em 0 0.5em; text-align: right; border: none;\">\n",
              "        -1.976\n",
              "    </td>\n",
              "    <td style=\"padding: 0 0.5em 0 0.5em; text-align: left; border: none;\">\n",
              "        c%\n",
              "    </td>\n",
              "    \n",
              "</tr>\n",
              "        \n",
              "            <tr style=\"background-color: hsl(0, 100.00%, 86.39%); border: none;\">\n",
              "    <td style=\"padding: 0 1em 0 0.5em; text-align: right; border: none;\">\n",
              "        -1.982\n",
              "    </td>\n",
              "    <td style=\"padding: 0 0.5em 0 0.5em; text-align: left; border: none;\">\n",
              "        t&gt;\n",
              "    </td>\n",
              "    \n",
              "</tr>\n",
              "        \n",
              "            <tr style=\"background-color: hsl(0, 100.00%, 86.32%); border: none;\">\n",
              "    <td style=\"padding: 0 1em 0 0.5em; text-align: right; border: none;\">\n",
              "        -1.996\n",
              "    </td>\n",
              "    <td style=\"padding: 0 0.5em 0 0.5em; text-align: left; border: none;\">\n",
              "        imat\n",
              "    </td>\n",
              "    \n",
              "</tr>\n",
              "        \n",
              "            <tr style=\"background-color: hsl(0, 100.00%, 86.09%); border: none;\">\n",
              "    <td style=\"padding: 0 1em 0 0.5em; text-align: right; border: none;\">\n",
              "        -2.046\n",
              "    </td>\n",
              "    <td style=\"padding: 0 0.5em 0 0.5em; text-align: left; border: none;\">\n",
              "        ps\n",
              "    </td>\n",
              "    \n",
              "</tr>\n",
              "        \n",
              "            <tr style=\"background-color: hsl(0, 100.00%, 86.01%); border: none;\">\n",
              "    <td style=\"padding: 0 1em 0 0.5em; text-align: right; border: none;\">\n",
              "        -2.061\n",
              "    </td>\n",
              "    <td style=\"padding: 0 0.5em 0 0.5em; text-align: left; border: none;\">\n",
              "        8)<span style=\"background-color: hsl(0, 80%, 70%); margin: 0 0.1em 0 0.1em\" title=\"A space symbol\">&emsp;</span>a\n",
              "    </td>\n",
              "    \n",
              "</tr>\n",
              "        \n",
              "            <tr style=\"background-color: hsl(0, 100.00%, 85.71%); border: none;\">\n",
              "    <td style=\"padding: 0 1em 0 0.5em; text-align: right; border: none;\">\n",
              "        -2.126\n",
              "    </td>\n",
              "    <td style=\"padding: 0 0.5em 0 0.5em; text-align: left; border: none;\">\n",
              "        atme\n",
              "    </td>\n",
              "    \n",
              "</tr>\n",
              "        \n",
              "            <tr style=\"background-color: hsl(0, 100.00%, 85.30%); border: none;\">\n",
              "    <td style=\"padding: 0 1em 0 0.5em; text-align: right; border: none;\">\n",
              "        -2.212\n",
              "    </td>\n",
              "    <td style=\"padding: 0 0.5em 0 0.5em; text-align: left; border: none;\">\n",
              "        1:9\n",
              "    </td>\n",
              "    \n",
              "</tr>\n",
              "        \n",
              "            <tr style=\"background-color: hsl(0, 100.00%, 85.26%); border: none;\">\n",
              "    <td style=\"padding: 0 1em 0 0.5em; text-align: right; border: none;\">\n",
              "        -2.221\n",
              "    </td>\n",
              "    <td style=\"padding: 0 0.5em 0 0.5em; text-align: left; border: none;\">\n",
              "        &#x27;9&quot;\n",
              "    </td>\n",
              "    \n",
              "</tr>\n",
              "        \n",
              "            <tr style=\"background-color: hsl(0, 100.00%, 85.14%); border: none;\">\n",
              "    <td style=\"padding: 0 1em 0 0.5em; text-align: right; border: none;\">\n",
              "        -2.249\n",
              "    </td>\n",
              "    <td style=\"padding: 0 0.5em 0 0.5em; text-align: left; border: none;\">\n",
              "        clim\n",
              "    </td>\n",
              "    \n",
              "</tr>\n",
              "        \n",
              "            <tr style=\"background-color: hsl(0, 100.00%, 85.10%); border: none;\">\n",
              "    <td style=\"padding: 0 1em 0 0.5em; text-align: right; border: none;\">\n",
              "        -2.255\n",
              "    </td>\n",
              "    <td style=\"padding: 0 0.5em 0 0.5em; text-align: left; border: none;\">\n",
              "        ia)\n",
              "    </td>\n",
              "    \n",
              "</tr>\n",
              "        \n",
              "            <tr style=\"background-color: hsl(0, 100.00%, 84.95%); border: none;\">\n",
              "    <td style=\"padding: 0 1em 0 0.5em; text-align: right; border: none;\">\n",
              "        -2.289\n",
              "    </td>\n",
              "    <td style=\"padding: 0 0.5em 0 0.5em; text-align: left; border: none;\">\n",
              "        &#x27;cli\n",
              "    </td>\n",
              "    \n",
              "</tr>\n",
              "        \n",
              "            <tr style=\"background-color: hsl(0, 100.00%, 84.39%); border: none;\">\n",
              "    <td style=\"padding: 0 1em 0 0.5em; text-align: right; border: none;\">\n",
              "        -2.410\n",
              "    </td>\n",
              "    <td style=\"padding: 0 0.5em 0 0.5em; text-align: left; border: none;\">\n",
              "        \\n\n",
              "    </td>\n",
              "    \n",
              "</tr>\n",
              "        \n",
              "            <tr style=\"background-color: hsl(0, 100.00%, 84.30%); border: none;\">\n",
              "    <td style=\"padding: 0 1em 0 0.5em; text-align: right; border: none;\">\n",
              "        -2.431\n",
              "    </td>\n",
              "    <td style=\"padding: 0 0.5em 0 0.5em; text-align: left; border: none;\">\n",
              "        lima\n",
              "    </td>\n",
              "    \n",
              "</tr>\n",
              "        \n",
              "            <tr style=\"background-color: hsl(0, 100.00%, 84.24%); border: none;\">\n",
              "    <td style=\"padding: 0 1em 0 0.5em; text-align: right; border: none;\">\n",
              "        -2.444\n",
              "    </td>\n",
              "    <td style=\"padding: 0 0.5em 0 0.5em; text-align: left; border: none;\">\n",
              "        &#x27;op\n",
              "    </td>\n",
              "    \n",
              "</tr>\n",
              "        \n",
              "            <tr style=\"background-color: hsl(0, 100.00%, 84.17%); border: none;\">\n",
              "    <td style=\"padding: 0 1em 0 0.5em; text-align: right; border: none;\">\n",
              "        -2.460\n",
              "    </td>\n",
              "    <td style=\"padding: 0 0.5em 0 0.5em; text-align: left; border: none;\">\n",
              "        &quot;op\n",
              "    </td>\n",
              "    \n",
              "</tr>\n",
              "        \n",
              "            <tr style=\"background-color: hsl(0, 100.00%, 84.10%); border: none;\">\n",
              "    <td style=\"padding: 0 1em 0 0.5em; text-align: right; border: none;\">\n",
              "        -2.475\n",
              "    </td>\n",
              "    <td style=\"padding: 0 0.5em 0 0.5em; text-align: left; border: none;\">\n",
              "        &#x27;8&quot;\n",
              "    </td>\n",
              "    \n",
              "</tr>\n",
              "        \n",
              "            <tr style=\"background-color: hsl(0, 100.00%, 82.81%); border: none;\">\n",
              "    <td style=\"padding: 0 1em 0 0.5em; text-align: right; border: none;\">\n",
              "        -2.768\n",
              "    </td>\n",
              "    <td style=\"padding: 0 0.5em 0 0.5em; text-align: left; border: none;\">\n",
              "        &quot;69\n",
              "    </td>\n",
              "    \n",
              "</tr>\n",
              "        \n",
              "            <tr style=\"background-color: hsl(0, 100.00%, 82.64%); border: none;\">\n",
              "    <td style=\"padding: 0 1em 0 0.5em; text-align: right; border: none;\">\n",
              "        -2.806\n",
              "    </td>\n",
              "    <td style=\"padding: 0 0.5em 0 0.5em; text-align: left; border: none;\">\n",
              "        b&#x27;op\n",
              "    </td>\n",
              "    \n",
              "</tr>\n",
              "        \n",
              "            <tr style=\"background-color: hsl(0, 100.00%, 82.51%); border: none;\">\n",
              "    <td style=\"padding: 0 1em 0 0.5em; text-align: right; border: none;\">\n",
              "        -2.836\n",
              "    </td>\n",
              "    <td style=\"padding: 0 0.5em 0 0.5em; text-align: left; border: none;\">\n",
              "        l--<span style=\"background-color: hsl(0, 80%, 70%); margin: 0 0 0 0.1em\" title=\"A space symbol\">&emsp;</span>\n",
              "    </td>\n",
              "    \n",
              "</tr>\n",
              "        \n",
              "            <tr style=\"background-color: hsl(0, 100.00%, 81.96%); border: none;\">\n",
              "    <td style=\"padding: 0 1em 0 0.5em; text-align: right; border: none;\">\n",
              "        -2.966\n",
              "    </td>\n",
              "    <td style=\"padding: 0 0.5em 0 0.5em; text-align: left; border: none;\">\n",
              "        ops\n",
              "    </td>\n",
              "    \n",
              "</tr>\n",
              "        \n",
              "\n",
              "        </tbody>\n",
              "    </table>\n",
              "\n",
              "            \n",
              "        \n",
              "\n",
              "        \n",
              "\n",
              "\n",
              "\n",
              "    \n",
              "\n",
              "    \n",
              "\n",
              "    \n",
              "\n",
              "    \n",
              "\n",
              "\n",
              "    \n",
              "\n",
              "    \n",
              "\n",
              "    \n",
              "\n",
              "    \n",
              "\n",
              "    \n",
              "\n",
              "    \n",
              "\n",
              "\n",
              "    \n",
              "\n",
              "    \n",
              "\n",
              "    \n",
              "\n",
              "    \n",
              "\n",
              "    \n",
              "\n",
              "    \n",
              "\n",
              "\n",
              "\n"
            ],
            "text/plain": [
              "<IPython.core.display.HTML object>"
            ]
          },
          "metadata": {},
          "execution_count": 55
        }
      ],
      "source": [
        "eli5.show_weights(estimator=svm1, \n",
        "                  feature_names= vectorizer.get_feature_names(),top=(50))"
      ]
    },
    {
      "cell_type": "code",
      "execution_count": null,
      "metadata": {
        "id": "PS7qJEN8fiVx"
      },
      "outputs": [],
      "source": [
        "features = vectorizer.get_feature_names()\n",
        "first_n = 500\n",
        "first_feat = [features[i] for i in range(first_n)]\n",
        "print(first_feat)"
      ]
    },
    {
      "cell_type": "markdown",
      "metadata": {
        "id": "QVYE5ckwfiVy"
      },
      "source": [
        "### Using Naive Bayes Algorithm"
      ]
    },
    {
      "cell_type": "code",
      "execution_count": null,
      "metadata": {
        "id": "IjOpgLdmfiVy"
      },
      "outputs": [],
      "source": [
        "#from sklearn.naive_bayes import MultinomialNB\n",
        "#clf = MultinomialNB()\n",
        "#clf.fit(X_train,Y_train)\n",
        "\n",
        "Pkl_Filename = \"clf.pkl\"\n",
        "with open(Pkl_Filename, 'rb') as file:  \n",
        "    clf = pickle.load(file)\n",
        "\n",
        "pred_clf = clf.predict(X_test)"
      ]
    },
    {
      "cell_type": "markdown",
      "metadata": {
        "id": "Tj_WSljtfiVz"
      },
      "source": [
        "### Using RandomForest Algorithm"
      ]
    },
    {
      "cell_type": "code",
      "execution_count": null,
      "metadata": {
        "id": "pcgZLjYjfiVz"
      },
      "outputs": [],
      "source": [
        "#from sklearn.ensemble import RandomForestClassifier\n",
        "#rfc = RandomForestClassifier(random_state=40,n_estimators=20)\n",
        "#rfc1 = RandomForestClassifier(random_state=40,n_estimators=100)\n",
        "#rfc2 = RandomForestClassifier(random_state=40,n_estimators=1000)\n",
        "#rfc.fit(X_train,Y_train)\n",
        "#rfc1.fit(X_train,Y_train)\n",
        "#rfc2.fit(X_train,Y_train)\n",
        "Pkl_Filename = \"rfc.pkl\"\n",
        "with open(Pkl_Filename, 'rb') as file:  \n",
        "    rfc = pickle.load(file)\n",
        "\n",
        "Pkl_Filename1 = \"rfc1.pkl\"\n",
        "with open(Pkl_Filename1, 'rb') as file:  \n",
        "    rfc1 = pickle.load(file)\n",
        "\n",
        "#Pkl_Filename2 = \"rfc2.pkl\"\n",
        "#with open(Pkl_Filename2, 'rb') as file:  \n",
        "#    rfc2 = pickle.load(file)\n",
        "\n",
        "pred_rfc = rfc.predict(X_test)\n",
        "pred_rfc1 = rfc1.predict(X_test)\n",
        "#pred_rfc2 = rfc2.predict(X_test)\n"
      ]
    },
    {
      "cell_type": "code",
      "execution_count": null,
      "metadata": {
        "colab": {
          "base_uri": "https://localhost:8080/",
          "height": 974
        },
        "id": "XVZ8lM_EfiVz",
        "outputId": "c2700c5e-0003-4c68-dad7-3966d5abc5b0"
      },
      "outputs": [
        {
          "output_type": "stream",
          "name": "stderr",
          "text": [
            "/usr/local/lib/python3.7/dist-packages/sklearn/utils/deprecation.py:87: FutureWarning: Function get_feature_names is deprecated; get_feature_names is deprecated in 1.0 and will be removed in 1.2. Please use get_feature_names_out instead.\n",
            "  warnings.warn(msg, category=FutureWarning)\n"
          ]
        },
        {
          "output_type": "execute_result",
          "data": {
            "text/html": [
              "\n",
              "    <style>\n",
              "    table.eli5-weights tr:hover {\n",
              "        filter: brightness(85%);\n",
              "    }\n",
              "</style>\n",
              "\n",
              "\n",
              "\n",
              "    \n",
              "\n",
              "    \n",
              "\n",
              "    \n",
              "\n",
              "    \n",
              "\n",
              "    \n",
              "\n",
              "    \n",
              "\n",
              "\n",
              "    \n",
              "\n",
              "    \n",
              "\n",
              "    \n",
              "\n",
              "    \n",
              "\n",
              "    \n",
              "\n",
              "    \n",
              "\n",
              "\n",
              "    \n",
              "\n",
              "    \n",
              "\n",
              "    \n",
              "\n",
              "    \n",
              "\n",
              "    \n",
              "        <table class=\"eli5-weights eli5-feature-importances\" style=\"border-collapse: collapse; border: none; margin-top: 0em; table-layout: auto;\">\n",
              "    <thead>\n",
              "    <tr style=\"border: none;\">\n",
              "        <th style=\"padding: 0 1em 0 0.5em; text-align: right; border: none;\">Weight</th>\n",
              "        <th style=\"padding: 0 0.5em 0 0.5em; text-align: left; border: none;\">Feature</th>\n",
              "    </tr>\n",
              "    </thead>\n",
              "    <tbody>\n",
              "    \n",
              "        <tr style=\"background-color: hsl(120, 100.00%, 80.00%); border: none;\">\n",
              "            <td style=\"padding: 0 1em 0 0.5em; text-align: right; border: none;\">\n",
              "                0.0091\n",
              "                \n",
              "                    &plusmn; 0.0647\n",
              "                \n",
              "            </td>\n",
              "            <td style=\"padding: 0 0.5em 0 0.5em; text-align: left; border: none;\">\n",
              "                )\n",
              "            </td>\n",
              "        </tr>\n",
              "    \n",
              "        <tr style=\"background-color: hsl(120, 100.00%, 81.16%); border: none;\">\n",
              "            <td style=\"padding: 0 1em 0 0.5em; text-align: right; border: none;\">\n",
              "                0.0084\n",
              "                \n",
              "                    &plusmn; 0.0581\n",
              "                \n",
              "            </td>\n",
              "            <td style=\"padding: 0 0.5em 0 0.5em; text-align: left; border: none;\">\n",
              "                (\n",
              "            </td>\n",
              "        </tr>\n",
              "    \n",
              "        <tr style=\"background-color: hsl(120, 100.00%, 81.71%); border: none;\">\n",
              "            <td style=\"padding: 0 1em 0 0.5em; text-align: right; border: none;\">\n",
              "                0.0080\n",
              "                \n",
              "                    &plusmn; 0.0572\n",
              "                \n",
              "            </td>\n",
              "            <td style=\"padding: 0 0.5em 0 0.5em; text-align: left; border: none;\">\n",
              "                /*\n",
              "            </td>\n",
              "        </tr>\n",
              "    \n",
              "        <tr style=\"background-color: hsl(120, 100.00%, 82.09%); border: none;\">\n",
              "            <td style=\"padding: 0 1em 0 0.5em; text-align: right; border: none;\">\n",
              "                0.0078\n",
              "                \n",
              "                    &plusmn; 0.0571\n",
              "                \n",
              "            </td>\n",
              "            <td style=\"padding: 0 0.5em 0 0.5em; text-align: left; border: none;\">\n",
              "                */\n",
              "            </td>\n",
              "        </tr>\n",
              "    \n",
              "        <tr style=\"background-color: hsl(120, 100.00%, 82.78%); border: none;\">\n",
              "            <td style=\"padding: 0 1em 0 0.5em; text-align: right; border: none;\">\n",
              "                0.0074\n",
              "                \n",
              "                    &plusmn; 0.0563\n",
              "                \n",
              "            </td>\n",
              "            <td style=\"padding: 0 0.5em 0 0.5em; text-align: left; border: none;\">\n",
              "                nion\n",
              "            </td>\n",
              "        </tr>\n",
              "    \n",
              "        <tr style=\"background-color: hsl(120, 100.00%, 83.39%); border: none;\">\n",
              "            <td style=\"padding: 0 1em 0 0.5em; text-align: right; border: none;\">\n",
              "                0.0070\n",
              "                \n",
              "                    &plusmn; 0.0457\n",
              "                \n",
              "            </td>\n",
              "            <td style=\"padding: 0 0.5em 0 0.5em; text-align: left; border: none;\">\n",
              "                *\n",
              "            </td>\n",
              "        </tr>\n",
              "    \n",
              "        <tr style=\"background-color: hsl(120, 100.00%, 84.39%); border: none;\">\n",
              "            <td style=\"padding: 0 1em 0 0.5em; text-align: right; border: none;\">\n",
              "                0.0064\n",
              "                \n",
              "                    &plusmn; 0.0509\n",
              "                \n",
              "            </td>\n",
              "            <td style=\"padding: 0 0.5em 0 0.5em; text-align: left; border: none;\">\n",
              "                nio\n",
              "            </td>\n",
              "        </tr>\n",
              "    \n",
              "        <tr style=\"background-color: hsl(120, 100.00%, 85.12%); border: none;\">\n",
              "            <td style=\"padding: 0 1em 0 0.5em; text-align: right; border: none;\">\n",
              "                0.0060\n",
              "                \n",
              "                    &plusmn; 0.0383\n",
              "                \n",
              "            </td>\n",
              "            <td style=\"padding: 0 0.5em 0 0.5em; text-align: left; border: none;\">\n",
              "                ()\n",
              "            </td>\n",
              "        </tr>\n",
              "    \n",
              "        <tr style=\"background-color: hsl(120, 100.00%, 85.89%); border: none;\">\n",
              "            <td style=\"padding: 0 1em 0 0.5em; text-align: right; border: none;\">\n",
              "                0.0055\n",
              "                \n",
              "                    &plusmn; 0.0312\n",
              "                \n",
              "            </td>\n",
              "            <td style=\"padding: 0 0.5em 0 0.5em; text-align: left; border: none;\">\n",
              "                b&quot;\n",
              "            </td>\n",
              "        </tr>\n",
              "    \n",
              "        <tr style=\"background-color: hsl(120, 100.00%, 85.94%); border: none;\">\n",
              "            <td style=\"padding: 0 1em 0 0.5em; text-align: right; border: none;\">\n",
              "                0.0055\n",
              "                \n",
              "                    &plusmn; 0.0445\n",
              "                \n",
              "            </td>\n",
              "            <td style=\"padding: 0 0.5em 0 0.5em; text-align: left; border: none;\">\n",
              "                lect\n",
              "            </td>\n",
              "        </tr>\n",
              "    \n",
              "        <tr style=\"background-color: hsl(120, 100.00%, 86.07%); border: none;\">\n",
              "            <td style=\"padding: 0 1em 0 0.5em; text-align: right; border: none;\">\n",
              "                0.0054\n",
              "                \n",
              "                    &plusmn; 0.0387\n",
              "                \n",
              "            </td>\n",
              "            <td style=\"padding: 0 0.5em 0 0.5em; text-align: left; border: none;\">\n",
              "                \\t\n",
              "            </td>\n",
              "        </tr>\n",
              "    \n",
              "        <tr style=\"background-color: hsl(120, 100.00%, 87.19%); border: none;\">\n",
              "            <td style=\"padding: 0 1em 0 0.5em; text-align: right; border: none;\">\n",
              "                0.0048\n",
              "                \n",
              "                    &plusmn; 0.0243\n",
              "                \n",
              "            </td>\n",
              "            <td style=\"padding: 0 0.5em 0 0.5em; text-align: left; border: none;\">\n",
              "                b&#x27;\n",
              "            </td>\n",
              "        </tr>\n",
              "    \n",
              "        <tr style=\"background-color: hsl(120, 100.00%, 87.26%); border: none;\">\n",
              "            <td style=\"padding: 0 1em 0 0.5em; text-align: right; border: none;\">\n",
              "                0.0048\n",
              "                \n",
              "                    &plusmn; 0.0390\n",
              "                \n",
              "            </td>\n",
              "            <td style=\"padding: 0 0.5em 0 0.5em; text-align: left; border: none;\">\n",
              "                sel\n",
              "            </td>\n",
              "        </tr>\n",
              "    \n",
              "        <tr style=\"background-color: hsl(120, 100.00%, 87.30%); border: none;\">\n",
              "            <td style=\"padding: 0 1em 0 0.5em; text-align: right; border: none;\">\n",
              "                0.0048\n",
              "                \n",
              "                    &plusmn; 0.0394\n",
              "                \n",
              "            </td>\n",
              "            <td style=\"padding: 0 0.5em 0 0.5em; text-align: left; border: none;\">\n",
              "                uni\n",
              "            </td>\n",
              "        </tr>\n",
              "    \n",
              "        <tr style=\"background-color: hsl(120, 100.00%, 87.41%); border: none;\">\n",
              "            <td style=\"padding: 0 1em 0 0.5em; text-align: right; border: none;\">\n",
              "                0.0047\n",
              "                \n",
              "                    &plusmn; 0.0283\n",
              "                \n",
              "            </td>\n",
              "            <td style=\"padding: 0 0.5em 0 0.5em; text-align: left; border: none;\">\n",
              "                &quot;\n",
              "            </td>\n",
              "        </tr>\n",
              "    \n",
              "        <tr style=\"background-color: hsl(120, 100.00%, 87.72%); border: none;\">\n",
              "            <td style=\"padding: 0 1em 0 0.5em; text-align: right; border: none;\">\n",
              "                0.0045\n",
              "                \n",
              "                    &plusmn; 0.0376\n",
              "                \n",
              "            </td>\n",
              "            <td style=\"padding: 0 0.5em 0 0.5em; text-align: left; border: none;\">\n",
              "                unio\n",
              "            </td>\n",
              "        </tr>\n",
              "    \n",
              "        <tr style=\"background-color: hsl(120, 100.00%, 87.75%); border: none;\">\n",
              "            <td style=\"padding: 0 1em 0 0.5em; text-align: right; border: none;\">\n",
              "                0.0045\n",
              "                \n",
              "                    &plusmn; 0.0374\n",
              "                \n",
              "            </td>\n",
              "            <td style=\"padding: 0 0.5em 0 0.5em; text-align: left; border: none;\">\n",
              "                elec\n",
              "            </td>\n",
              "        </tr>\n",
              "    \n",
              "        <tr style=\"background-color: hsl(120, 100.00%, 88.11%); border: none;\">\n",
              "            <td style=\"padding: 0 1em 0 0.5em; text-align: right; border: none;\">\n",
              "                0.0043\n",
              "                \n",
              "                    &plusmn; 0.0297\n",
              "                \n",
              "            </td>\n",
              "            <td style=\"padding: 0 0.5em 0 0.5em; text-align: left; border: none;\">\n",
              "                !\n",
              "            </td>\n",
              "        </tr>\n",
              "    \n",
              "        <tr style=\"background-color: hsl(120, 100.00%, 88.14%); border: none;\">\n",
              "            <td style=\"padding: 0 1em 0 0.5em; text-align: right; border: none;\">\n",
              "                0.0043\n",
              "                \n",
              "                    &plusmn; 0.0380\n",
              "                \n",
              "            </td>\n",
              "            <td style=\"padding: 0 0.5em 0 0.5em; text-align: left; border: none;\">\n",
              "                ele\n",
              "            </td>\n",
              "        </tr>\n",
              "    \n",
              "        <tr style=\"background-color: hsl(120, 100.00%, 88.40%); border: none;\">\n",
              "            <td style=\"padding: 0 1em 0 0.5em; text-align: right; border: none;\">\n",
              "                0.0042\n",
              "                \n",
              "                    &plusmn; 0.0373\n",
              "                \n",
              "            </td>\n",
              "            <td style=\"padding: 0 0.5em 0 0.5em; text-align: left; border: none;\">\n",
              "                sele\n",
              "            </td>\n",
              "        </tr>\n",
              "    \n",
              "        <tr style=\"background-color: hsl(120, 100.00%, 88.54%); border: none;\">\n",
              "            <td style=\"padding: 0 1em 0 0.5em; text-align: right; border: none;\">\n",
              "                0.0041\n",
              "                \n",
              "                    &plusmn; 0.0375\n",
              "                \n",
              "            </td>\n",
              "            <td style=\"padding: 0 0.5em 0 0.5em; text-align: left; border: none;\">\n",
              "                lec\n",
              "            </td>\n",
              "        </tr>\n",
              "    \n",
              "        <tr style=\"background-color: hsl(120, 100.00%, 88.59%); border: none;\">\n",
              "            <td style=\"padding: 0 1em 0 0.5em; text-align: right; border: none;\">\n",
              "                0.0041\n",
              "                \n",
              "                    &plusmn; 0.0329\n",
              "                \n",
              "            </td>\n",
              "            <td style=\"padding: 0 0.5em 0 0.5em; text-align: left; border: none;\">\n",
              "                t(\n",
              "            </td>\n",
              "        </tr>\n",
              "    \n",
              "        <tr style=\"background-color: hsl(120, 100.00%, 88.79%); border: none;\">\n",
              "            <td style=\"padding: 0 1em 0 0.5em; text-align: right; border: none;\">\n",
              "                0.0040\n",
              "                \n",
              "                    &plusmn; 0.0367\n",
              "                \n",
              "            </td>\n",
              "            <td style=\"padding: 0 0.5em 0 0.5em; text-align: left; border: none;\">\n",
              "                <span style=\"background-color: hsl(120, 80%, 70%); margin: 0 0.1em 0 0\" title=\"A space symbol\">&emsp;</span>uni\n",
              "            </td>\n",
              "        </tr>\n",
              "    \n",
              "        <tr style=\"background-color: hsl(120, 100.00%, 89.18%); border: none;\">\n",
              "            <td style=\"padding: 0 1em 0 0.5em; text-align: right; border: none;\">\n",
              "                0.0038\n",
              "                \n",
              "                    &plusmn; 0.0331\n",
              "                \n",
              "            </td>\n",
              "            <td style=\"padding: 0 0.5em 0 0.5em; text-align: left; border: none;\">\n",
              "                %\n",
              "            </td>\n",
              "        </tr>\n",
              "    \n",
              "        <tr style=\"background-color: hsl(120, 100.00%, 90.02%); border: none;\">\n",
              "            <td style=\"padding: 0 1em 0 0.5em; text-align: right; border: none;\">\n",
              "                0.0034\n",
              "                \n",
              "                    &plusmn; 0.0278\n",
              "                \n",
              "            </td>\n",
              "            <td style=\"padding: 0 0.5em 0 0.5em; text-align: left; border: none;\">\n",
              "                ion\n",
              "            </td>\n",
              "        </tr>\n",
              "    \n",
              "        <tr style=\"background-color: hsl(120, 100.00%, 90.02%); border: none;\">\n",
              "            <td style=\"padding: 0 1em 0 0.5em; text-align: right; border: none;\">\n",
              "                0.0034\n",
              "                \n",
              "                    &plusmn; 0.0308\n",
              "                \n",
              "            </td>\n",
              "            <td style=\"padding: 0 0.5em 0 0.5em; text-align: left; border: none;\">\n",
              "                e%\n",
              "            </td>\n",
              "        </tr>\n",
              "    \n",
              "        <tr style=\"background-color: hsl(120, 100.00%, 90.28%); border: none;\">\n",
              "            <td style=\"padding: 0 1em 0 0.5em; text-align: right; border: none;\">\n",
              "                0.0032\n",
              "                \n",
              "                    &plusmn; 0.0274\n",
              "                \n",
              "            </td>\n",
              "            <td style=\"padding: 0 0.5em 0 0.5em; text-align: left; border: none;\">\n",
              "                6\n",
              "            </td>\n",
              "        </tr>\n",
              "    \n",
              "        <tr style=\"background-color: hsl(120, 100.00%, 90.53%); border: none;\">\n",
              "            <td style=\"padding: 0 1em 0 0.5em; text-align: right; border: none;\">\n",
              "                0.0031\n",
              "                \n",
              "                    &plusmn; 0.0287\n",
              "                \n",
              "            </td>\n",
              "            <td style=\"padding: 0 0.5em 0 0.5em; text-align: left; border: none;\">\n",
              "                ect\n",
              "            </td>\n",
              "        </tr>\n",
              "    \n",
              "        <tr style=\"background-color: hsl(120, 100.00%, 90.55%); border: none;\">\n",
              "            <td style=\"padding: 0 1em 0 0.5em; text-align: right; border: none;\">\n",
              "                0.0031\n",
              "                \n",
              "                    &plusmn; 0.0315\n",
              "                \n",
              "            </td>\n",
              "            <td style=\"padding: 0 0.5em 0 0.5em; text-align: left; border: none;\">\n",
              "                x\n",
              "            </td>\n",
              "        </tr>\n",
              "    \n",
              "        <tr style=\"background-color: hsl(120, 100.00%, 90.70%); border: none;\">\n",
              "            <td style=\"padding: 0 1em 0 0.5em; text-align: right; border: none;\">\n",
              "                0.0030\n",
              "                \n",
              "                    &plusmn; 0.0233\n",
              "                \n",
              "            </td>\n",
              "            <td style=\"padding: 0 0.5em 0 0.5em; text-align: left; border: none;\">\n",
              "                ))\n",
              "            </td>\n",
              "        </tr>\n",
              "    \n",
              "        <tr style=\"background-color: hsl(120, 100.00%, 91.01%); border: none;\">\n",
              "            <td style=\"padding: 0 1em 0 0.5em; text-align: right; border: none;\">\n",
              "                0.0029\n",
              "                \n",
              "                    &plusmn; 0.0257\n",
              "                \n",
              "            </td>\n",
              "            <td style=\"padding: 0 0.5em 0 0.5em; text-align: left; border: none;\">\n",
              "                <span style=\"background-color: hsl(120, 80%, 70%); margin: 0 0.1em 0 0\" title=\"A space symbol\">&emsp;</span>un\n",
              "            </td>\n",
              "        </tr>\n",
              "    \n",
              "        <tr style=\"background-color: hsl(120, 100.00%, 91.18%); border: none;\">\n",
              "            <td style=\"padding: 0 1em 0 0.5em; text-align: right; border: none;\">\n",
              "                0.0028\n",
              "                \n",
              "                    &plusmn; 0.0253\n",
              "                \n",
              "            </td>\n",
              "            <td style=\"padding: 0 0.5em 0 0.5em; text-align: left; border: none;\">\n",
              "                <span style=\"background-color: hsl(120, 80%, 70%); margin: 0 0.1em 0 0\" title=\"A space symbol\">&emsp;</span>u\n",
              "            </td>\n",
              "        </tr>\n",
              "    \n",
              "        <tr style=\"background-color: hsl(120, 100.00%, 91.21%); border: none;\">\n",
              "            <td style=\"padding: 0 1em 0 0.5em; text-align: right; border: none;\">\n",
              "                0.0028\n",
              "                \n",
              "                    &plusmn; 0.0281\n",
              "                \n",
              "            </td>\n",
              "            <td style=\"padding: 0 0.5em 0 0.5em; text-align: left; border: none;\">\n",
              "                z\n",
              "            </td>\n",
              "        </tr>\n",
              "    \n",
              "        <tr style=\"background-color: hsl(120, 100.00%, 91.28%); border: none;\">\n",
              "            <td style=\"padding: 0 1em 0 0.5em; text-align: right; border: none;\">\n",
              "                0.0028\n",
              "                \n",
              "                    &plusmn; 0.0242\n",
              "                \n",
              "            </td>\n",
              "            <td style=\"padding: 0 0.5em 0 0.5em; text-align: left; border: none;\">\n",
              "                io\n",
              "            </td>\n",
              "        </tr>\n",
              "    \n",
              "        <tr style=\"background-color: hsl(120, 100.00%, 91.30%); border: none;\">\n",
              "            <td style=\"padding: 0 1em 0 0.5em; text-align: right; border: none;\">\n",
              "                0.0028\n",
              "                \n",
              "                    &plusmn; 0.0280\n",
              "                \n",
              "            </td>\n",
              "            <td style=\"padding: 0 0.5em 0 0.5em; text-align: left; border: none;\">\n",
              "                se\n",
              "            </td>\n",
              "        </tr>\n",
              "    \n",
              "        <tr style=\"background-color: hsl(120, 100.00%, 91.35%); border: none;\">\n",
              "            <td style=\"padding: 0 1em 0 0.5em; text-align: right; border: none;\">\n",
              "                0.0028\n",
              "                \n",
              "                    &plusmn; 0.0200\n",
              "                \n",
              "            </td>\n",
              "            <td style=\"padding: 0 0.5em 0 0.5em; text-align: left; border: none;\">\n",
              "                \\\n",
              "            </td>\n",
              "        </tr>\n",
              "    \n",
              "        <tr style=\"background-color: hsl(120, 100.00%, 91.47%); border: none;\">\n",
              "            <td style=\"padding: 0 1em 0 0.5em; text-align: right; border: none;\">\n",
              "                0.0027\n",
              "                \n",
              "                    &plusmn; 0.0194\n",
              "                \n",
              "            </td>\n",
              "            <td style=\"padding: 0 0.5em 0 0.5em; text-align: left; border: none;\">\n",
              "                /\n",
              "            </td>\n",
              "        </tr>\n",
              "    \n",
              "        <tr style=\"background-color: hsl(120, 100.00%, 91.57%); border: none;\">\n",
              "            <td style=\"padding: 0 1em 0 0.5em; text-align: right; border: none;\">\n",
              "                0.0027\n",
              "                \n",
              "                    &plusmn; 0.0219\n",
              "                \n",
              "            </td>\n",
              "            <td style=\"padding: 0 0.5em 0 0.5em; text-align: left; border: none;\">\n",
              "                --\n",
              "            </td>\n",
              "        </tr>\n",
              "    \n",
              "        <tr style=\"background-color: hsl(120, 100.00%, 91.79%); border: none;\">\n",
              "            <td style=\"padding: 0 1em 0 0.5em; text-align: right; border: none;\">\n",
              "                0.0026\n",
              "                \n",
              "                    &plusmn; 0.0218\n",
              "                \n",
              "            </td>\n",
              "            <td style=\"padding: 0 0.5em 0 0.5em; text-align: left; border: none;\">\n",
              "                7\n",
              "            </td>\n",
              "        </tr>\n",
              "    \n",
              "        <tr style=\"background-color: hsl(120, 100.00%, 91.84%); border: none;\">\n",
              "            <td style=\"padding: 0 1em 0 0.5em; text-align: right; border: none;\">\n",
              "                0.0025\n",
              "                \n",
              "                    &plusmn; 0.0240\n",
              "                \n",
              "            </td>\n",
              "            <td style=\"padding: 0 0.5em 0 0.5em; text-align: left; border: none;\">\n",
              "                ),\n",
              "            </td>\n",
              "        </tr>\n",
              "    \n",
              "        <tr style=\"background-color: hsl(120, 100.00%, 91.86%); border: none;\">\n",
              "            <td style=\"padding: 0 1em 0 0.5em; text-align: right; border: none;\">\n",
              "                0.0025\n",
              "                \n",
              "                    &plusmn; 0.0157\n",
              "                \n",
              "            </td>\n",
              "            <td style=\"padding: 0 0.5em 0 0.5em; text-align: left; border: none;\">\n",
              "                &#x27;<span style=\"background-color: hsl(120, 80%, 70%); margin: 0 0 0 0.1em\" title=\"A space symbol\">&emsp;</span>\n",
              "            </td>\n",
              "        </tr>\n",
              "    \n",
              "        <tr style=\"background-color: hsl(120, 100.00%, 92.04%); border: none;\">\n",
              "            <td style=\"padding: 0 1em 0 0.5em; text-align: right; border: none;\">\n",
              "                0.0024\n",
              "                \n",
              "                    &plusmn; 0.0205\n",
              "                \n",
              "            </td>\n",
              "            <td style=\"padding: 0 0.5em 0 0.5em; text-align: left; border: none;\">\n",
              "                un\n",
              "            </td>\n",
              "        </tr>\n",
              "    \n",
              "        <tr style=\"background-color: hsl(120, 100.00%, 92.04%); border: none;\">\n",
              "            <td style=\"padding: 0 1em 0 0.5em; text-align: right; border: none;\">\n",
              "                0.0024\n",
              "                \n",
              "                    &plusmn; 0.0146\n",
              "                \n",
              "            </td>\n",
              "            <td style=\"padding: 0 0.5em 0 0.5em; text-align: left; border: none;\">\n",
              "                <span style=\"background-color: hsl(120, 80%, 70%); margin: 0 0.1em 0 0\" title=\"A space symbol\">&emsp;</span>and\n",
              "            </td>\n",
              "        </tr>\n",
              "    \n",
              "        <tr style=\"background-color: hsl(120, 100.00%, 92.18%); border: none;\">\n",
              "            <td style=\"padding: 0 1em 0 0.5em; text-align: right; border: none;\">\n",
              "                0.0024\n",
              "                \n",
              "                    &plusmn; 0.0231\n",
              "                \n",
              "            </td>\n",
              "            <td style=\"padding: 0 0.5em 0 0.5em; text-align: left; border: none;\">\n",
              "                ())\n",
              "            </td>\n",
              "        </tr>\n",
              "    \n",
              "        <tr style=\"background-color: hsl(120, 100.00%, 92.34%); border: none;\">\n",
              "            <td style=\"padding: 0 1em 0 0.5em; text-align: right; border: none;\">\n",
              "                0.0023\n",
              "                \n",
              "                    &plusmn; 0.0199\n",
              "                \n",
              "            </td>\n",
              "            <td style=\"padding: 0 0.5em 0 0.5em; text-align: left; border: none;\">\n",
              "                \\r\n",
              "            </td>\n",
              "        </tr>\n",
              "    \n",
              "        <tr style=\"background-color: hsl(120, 100.00%, 92.39%); border: none;\">\n",
              "            <td style=\"padding: 0 1em 0 0.5em; text-align: right; border: none;\">\n",
              "                0.0023\n",
              "                \n",
              "                    &plusmn; 0.0198\n",
              "                \n",
              "            </td>\n",
              "            <td style=\"padding: 0 0.5em 0 0.5em; text-align: left; border: none;\">\n",
              "                el\n",
              "            </td>\n",
              "        </tr>\n",
              "    \n",
              "        <tr style=\"background-color: hsl(120, 100.00%, 92.41%); border: none;\">\n",
              "            <td style=\"padding: 0 1em 0 0.5em; text-align: right; border: none;\">\n",
              "                0.0023\n",
              "                \n",
              "                    &plusmn; 0.0218\n",
              "                \n",
              "            </td>\n",
              "            <td style=\"padding: 0 0.5em 0 0.5em; text-align: left; border: none;\">\n",
              "                &#x27;%\n",
              "            </td>\n",
              "        </tr>\n",
              "    \n",
              "        <tr style=\"background-color: hsl(120, 100.00%, 92.42%); border: none;\">\n",
              "            <td style=\"padding: 0 1em 0 0.5em; text-align: right; border: none;\">\n",
              "                0.0023\n",
              "                \n",
              "                    &plusmn; 0.0162\n",
              "                \n",
              "            </td>\n",
              "            <td style=\"padding: 0 0.5em 0 0.5em; text-align: left; border: none;\">\n",
              "                b\n",
              "            </td>\n",
              "        </tr>\n",
              "    \n",
              "        <tr style=\"background-color: hsl(120, 100.00%, 92.48%); border: none;\">\n",
              "            <td style=\"padding: 0 1em 0 0.5em; text-align: right; border: none;\">\n",
              "                0.0023\n",
              "                \n",
              "                    &plusmn; 0.0104\n",
              "                \n",
              "            </td>\n",
              "            <td style=\"padding: 0 0.5em 0 0.5em; text-align: left; border: none;\">\n",
              "                &#x27;\n",
              "            </td>\n",
              "        </tr>\n",
              "    \n",
              "        <tr style=\"background-color: hsl(120, 100.00%, 92.57%); border: none;\">\n",
              "            <td style=\"padding: 0 1em 0 0.5em; text-align: right; border: none;\">\n",
              "                0.0022\n",
              "                \n",
              "                    &plusmn; 0.0129\n",
              "                \n",
              "            </td>\n",
              "            <td style=\"padding: 0 0.5em 0 0.5em; text-align: left; border: none;\">\n",
              "                =\n",
              "            </td>\n",
              "        </tr>\n",
              "    \n",
              "    \n",
              "        \n",
              "            <tr style=\"background-color: hsl(120, 100.00%, 92.57%); border: none;\">\n",
              "                <td colspan=\"2\" style=\"padding: 0 0.5em 0 0.5em; text-align: center; border: none; white-space: nowrap;\">\n",
              "                    <i>&hellip; 99950 more &hellip;</i>\n",
              "                </td>\n",
              "            </tr>\n",
              "        \n",
              "    \n",
              "    </tbody>\n",
              "</table>\n",
              "    \n",
              "\n",
              "    \n",
              "\n",
              "\n",
              "    \n",
              "\n",
              "    \n",
              "\n",
              "    \n",
              "\n",
              "    \n",
              "\n",
              "    \n",
              "\n",
              "    \n",
              "\n",
              "\n",
              "\n"
            ],
            "text/plain": [
              "<IPython.core.display.HTML object>"
            ]
          },
          "metadata": {},
          "execution_count": 60
        }
      ],
      "source": [
        "eli5.show_weights(estimator=rfc2, \n",
        "                  feature_names= vectorizer.get_feature_names(),top=(50))"
      ]
    },
    {
      "cell_type": "code",
      "execution_count": null,
      "metadata": {
        "colab": {
          "base_uri": "https://localhost:8080/",
          "height": 454
        },
        "id": "0beh0pRHfiV0",
        "outputId": "8072c60d-3111-4a29-cc25-1ac4c6e94eb6"
      },
      "outputs": [
        {
          "output_type": "stream",
          "name": "stderr",
          "text": [
            "/usr/local/lib/python3.7/dist-packages/sklearn/utils/deprecation.py:87: FutureWarning: Function get_feature_names is deprecated; get_feature_names is deprecated in 1.0 and will be removed in 1.2. Please use get_feature_names_out instead.\n",
            "  warnings.warn(msg, category=FutureWarning)\n"
          ]
        },
        {
          "output_type": "execute_result",
          "data": {
            "text/html": [
              "\n",
              "    <style>\n",
              "    table.eli5-weights tr:hover {\n",
              "        filter: brightness(85%);\n",
              "    }\n",
              "</style>\n",
              "\n",
              "\n",
              "\n",
              "    \n",
              "\n",
              "    \n",
              "\n",
              "    \n",
              "\n",
              "    \n",
              "\n",
              "    \n",
              "\n",
              "    \n",
              "\n",
              "\n",
              "    \n",
              "\n",
              "    \n",
              "\n",
              "    \n",
              "\n",
              "    \n",
              "\n",
              "    \n",
              "\n",
              "    \n",
              "\n",
              "\n",
              "    \n",
              "\n",
              "    \n",
              "\n",
              "    \n",
              "\n",
              "    \n",
              "\n",
              "    \n",
              "        <table class=\"eli5-weights eli5-feature-importances\" style=\"border-collapse: collapse; border: none; margin-top: 0em; table-layout: auto;\">\n",
              "    <thead>\n",
              "    <tr style=\"border: none;\">\n",
              "        <th style=\"padding: 0 1em 0 0.5em; text-align: right; border: none;\">Weight</th>\n",
              "        <th style=\"padding: 0 0.5em 0 0.5em; text-align: left; border: none;\">Feature</th>\n",
              "    </tr>\n",
              "    </thead>\n",
              "    <tbody>\n",
              "    \n",
              "        <tr style=\"background-color: hsl(120, 100.00%, 80.00%); border: none;\">\n",
              "            <td style=\"padding: 0 1em 0 0.5em; text-align: right; border: none;\">\n",
              "                0.0091\n",
              "                \n",
              "                    &plusmn; 0.0647\n",
              "                \n",
              "            </td>\n",
              "            <td style=\"padding: 0 0.5em 0 0.5em; text-align: left; border: none;\">\n",
              "                )\n",
              "            </td>\n",
              "        </tr>\n",
              "    \n",
              "        <tr style=\"background-color: hsl(120, 100.00%, 81.16%); border: none;\">\n",
              "            <td style=\"padding: 0 1em 0 0.5em; text-align: right; border: none;\">\n",
              "                0.0084\n",
              "                \n",
              "                    &plusmn; 0.0581\n",
              "                \n",
              "            </td>\n",
              "            <td style=\"padding: 0 0.5em 0 0.5em; text-align: left; border: none;\">\n",
              "                (\n",
              "            </td>\n",
              "        </tr>\n",
              "    \n",
              "        <tr style=\"background-color: hsl(120, 100.00%, 81.71%); border: none;\">\n",
              "            <td style=\"padding: 0 1em 0 0.5em; text-align: right; border: none;\">\n",
              "                0.0080\n",
              "                \n",
              "                    &plusmn; 0.0572\n",
              "                \n",
              "            </td>\n",
              "            <td style=\"padding: 0 0.5em 0 0.5em; text-align: left; border: none;\">\n",
              "                /*\n",
              "            </td>\n",
              "        </tr>\n",
              "    \n",
              "        <tr style=\"background-color: hsl(120, 100.00%, 82.09%); border: none;\">\n",
              "            <td style=\"padding: 0 1em 0 0.5em; text-align: right; border: none;\">\n",
              "                0.0078\n",
              "                \n",
              "                    &plusmn; 0.0571\n",
              "                \n",
              "            </td>\n",
              "            <td style=\"padding: 0 0.5em 0 0.5em; text-align: left; border: none;\">\n",
              "                */\n",
              "            </td>\n",
              "        </tr>\n",
              "    \n",
              "        <tr style=\"background-color: hsl(120, 100.00%, 82.78%); border: none;\">\n",
              "            <td style=\"padding: 0 1em 0 0.5em; text-align: right; border: none;\">\n",
              "                0.0074\n",
              "                \n",
              "                    &plusmn; 0.0563\n",
              "                \n",
              "            </td>\n",
              "            <td style=\"padding: 0 0.5em 0 0.5em; text-align: left; border: none;\">\n",
              "                nion\n",
              "            </td>\n",
              "        </tr>\n",
              "    \n",
              "        <tr style=\"background-color: hsl(120, 100.00%, 83.39%); border: none;\">\n",
              "            <td style=\"padding: 0 1em 0 0.5em; text-align: right; border: none;\">\n",
              "                0.0070\n",
              "                \n",
              "                    &plusmn; 0.0457\n",
              "                \n",
              "            </td>\n",
              "            <td style=\"padding: 0 0.5em 0 0.5em; text-align: left; border: none;\">\n",
              "                *\n",
              "            </td>\n",
              "        </tr>\n",
              "    \n",
              "        <tr style=\"background-color: hsl(120, 100.00%, 84.39%); border: none;\">\n",
              "            <td style=\"padding: 0 1em 0 0.5em; text-align: right; border: none;\">\n",
              "                0.0064\n",
              "                \n",
              "                    &plusmn; 0.0509\n",
              "                \n",
              "            </td>\n",
              "            <td style=\"padding: 0 0.5em 0 0.5em; text-align: left; border: none;\">\n",
              "                nio\n",
              "            </td>\n",
              "        </tr>\n",
              "    \n",
              "        <tr style=\"background-color: hsl(120, 100.00%, 85.12%); border: none;\">\n",
              "            <td style=\"padding: 0 1em 0 0.5em; text-align: right; border: none;\">\n",
              "                0.0060\n",
              "                \n",
              "                    &plusmn; 0.0383\n",
              "                \n",
              "            </td>\n",
              "            <td style=\"padding: 0 0.5em 0 0.5em; text-align: left; border: none;\">\n",
              "                ()\n",
              "            </td>\n",
              "        </tr>\n",
              "    \n",
              "        <tr style=\"background-color: hsl(120, 100.00%, 85.89%); border: none;\">\n",
              "            <td style=\"padding: 0 1em 0 0.5em; text-align: right; border: none;\">\n",
              "                0.0055\n",
              "                \n",
              "                    &plusmn; 0.0312\n",
              "                \n",
              "            </td>\n",
              "            <td style=\"padding: 0 0.5em 0 0.5em; text-align: left; border: none;\">\n",
              "                b&quot;\n",
              "            </td>\n",
              "        </tr>\n",
              "    \n",
              "        <tr style=\"background-color: hsl(120, 100.00%, 85.94%); border: none;\">\n",
              "            <td style=\"padding: 0 1em 0 0.5em; text-align: right; border: none;\">\n",
              "                0.0055\n",
              "                \n",
              "                    &plusmn; 0.0445\n",
              "                \n",
              "            </td>\n",
              "            <td style=\"padding: 0 0.5em 0 0.5em; text-align: left; border: none;\">\n",
              "                lect\n",
              "            </td>\n",
              "        </tr>\n",
              "    \n",
              "        <tr style=\"background-color: hsl(120, 100.00%, 86.07%); border: none;\">\n",
              "            <td style=\"padding: 0 1em 0 0.5em; text-align: right; border: none;\">\n",
              "                0.0054\n",
              "                \n",
              "                    &plusmn; 0.0387\n",
              "                \n",
              "            </td>\n",
              "            <td style=\"padding: 0 0.5em 0 0.5em; text-align: left; border: none;\">\n",
              "                \\t\n",
              "            </td>\n",
              "        </tr>\n",
              "    \n",
              "        <tr style=\"background-color: hsl(120, 100.00%, 87.19%); border: none;\">\n",
              "            <td style=\"padding: 0 1em 0 0.5em; text-align: right; border: none;\">\n",
              "                0.0048\n",
              "                \n",
              "                    &plusmn; 0.0243\n",
              "                \n",
              "            </td>\n",
              "            <td style=\"padding: 0 0.5em 0 0.5em; text-align: left; border: none;\">\n",
              "                b&#x27;\n",
              "            </td>\n",
              "        </tr>\n",
              "    \n",
              "        <tr style=\"background-color: hsl(120, 100.00%, 87.26%); border: none;\">\n",
              "            <td style=\"padding: 0 1em 0 0.5em; text-align: right; border: none;\">\n",
              "                0.0048\n",
              "                \n",
              "                    &plusmn; 0.0390\n",
              "                \n",
              "            </td>\n",
              "            <td style=\"padding: 0 0.5em 0 0.5em; text-align: left; border: none;\">\n",
              "                sel\n",
              "            </td>\n",
              "        </tr>\n",
              "    \n",
              "        <tr style=\"background-color: hsl(120, 100.00%, 87.30%); border: none;\">\n",
              "            <td style=\"padding: 0 1em 0 0.5em; text-align: right; border: none;\">\n",
              "                0.0048\n",
              "                \n",
              "                    &plusmn; 0.0394\n",
              "                \n",
              "            </td>\n",
              "            <td style=\"padding: 0 0.5em 0 0.5em; text-align: left; border: none;\">\n",
              "                uni\n",
              "            </td>\n",
              "        </tr>\n",
              "    \n",
              "        <tr style=\"background-color: hsl(120, 100.00%, 87.41%); border: none;\">\n",
              "            <td style=\"padding: 0 1em 0 0.5em; text-align: right; border: none;\">\n",
              "                0.0047\n",
              "                \n",
              "                    &plusmn; 0.0283\n",
              "                \n",
              "            </td>\n",
              "            <td style=\"padding: 0 0.5em 0 0.5em; text-align: left; border: none;\">\n",
              "                &quot;\n",
              "            </td>\n",
              "        </tr>\n",
              "    \n",
              "        <tr style=\"background-color: hsl(120, 100.00%, 87.72%); border: none;\">\n",
              "            <td style=\"padding: 0 1em 0 0.5em; text-align: right; border: none;\">\n",
              "                0.0045\n",
              "                \n",
              "                    &plusmn; 0.0376\n",
              "                \n",
              "            </td>\n",
              "            <td style=\"padding: 0 0.5em 0 0.5em; text-align: left; border: none;\">\n",
              "                unio\n",
              "            </td>\n",
              "        </tr>\n",
              "    \n",
              "        <tr style=\"background-color: hsl(120, 100.00%, 87.75%); border: none;\">\n",
              "            <td style=\"padding: 0 1em 0 0.5em; text-align: right; border: none;\">\n",
              "                0.0045\n",
              "                \n",
              "                    &plusmn; 0.0374\n",
              "                \n",
              "            </td>\n",
              "            <td style=\"padding: 0 0.5em 0 0.5em; text-align: left; border: none;\">\n",
              "                elec\n",
              "            </td>\n",
              "        </tr>\n",
              "    \n",
              "        <tr style=\"background-color: hsl(120, 100.00%, 88.11%); border: none;\">\n",
              "            <td style=\"padding: 0 1em 0 0.5em; text-align: right; border: none;\">\n",
              "                0.0043\n",
              "                \n",
              "                    &plusmn; 0.0297\n",
              "                \n",
              "            </td>\n",
              "            <td style=\"padding: 0 0.5em 0 0.5em; text-align: left; border: none;\">\n",
              "                !\n",
              "            </td>\n",
              "        </tr>\n",
              "    \n",
              "        <tr style=\"background-color: hsl(120, 100.00%, 88.14%); border: none;\">\n",
              "            <td style=\"padding: 0 1em 0 0.5em; text-align: right; border: none;\">\n",
              "                0.0043\n",
              "                \n",
              "                    &plusmn; 0.0380\n",
              "                \n",
              "            </td>\n",
              "            <td style=\"padding: 0 0.5em 0 0.5em; text-align: left; border: none;\">\n",
              "                ele\n",
              "            </td>\n",
              "        </tr>\n",
              "    \n",
              "        <tr style=\"background-color: hsl(120, 100.00%, 88.40%); border: none;\">\n",
              "            <td style=\"padding: 0 1em 0 0.5em; text-align: right; border: none;\">\n",
              "                0.0042\n",
              "                \n",
              "                    &plusmn; 0.0373\n",
              "                \n",
              "            </td>\n",
              "            <td style=\"padding: 0 0.5em 0 0.5em; text-align: left; border: none;\">\n",
              "                sele\n",
              "            </td>\n",
              "        </tr>\n",
              "    \n",
              "    \n",
              "        \n",
              "            <tr style=\"background-color: hsl(120, 100.00%, 88.40%); border: none;\">\n",
              "                <td colspan=\"2\" style=\"padding: 0 0.5em 0 0.5em; text-align: center; border: none; white-space: nowrap;\">\n",
              "                    <i>&hellip; 99980 more &hellip;</i>\n",
              "                </td>\n",
              "            </tr>\n",
              "        \n",
              "    \n",
              "    </tbody>\n",
              "</table>\n",
              "    \n",
              "\n",
              "    \n",
              "\n",
              "\n",
              "    \n",
              "\n",
              "    \n",
              "\n",
              "    \n",
              "\n",
              "    \n",
              "\n",
              "    \n",
              "\n",
              "    \n",
              "\n",
              "\n",
              "\n"
            ],
            "text/plain": [
              "<IPython.core.display.HTML object>"
            ]
          },
          "metadata": {},
          "execution_count": 61
        }
      ],
      "source": [
        "eli5.show_weights(rfc2, vec=vectorizer,  targets=[0, 1])"
      ]
    },
    {
      "cell_type": "markdown",
      "metadata": {
        "id": "DZrZ3bkamHjp"
      },
      "source": [
        "### Using XGBoost Algorithm"
      ]
    },
    {
      "cell_type": "code",
      "execution_count": null,
      "metadata": {
        "id": "lI8AiZN5mF29"
      },
      "outputs": [],
      "source": [
        "#from xgboost import XGBClassifier\n",
        "#xgb = XGBClassifier()\n",
        "#xgb.fit(X_train, Y_train)\n",
        "\n",
        "Pkl_Filename = \"xgb.pkl\"\n",
        "with open(Pkl_Filename, 'rb') as file:  \n",
        "    xgb = pickle.load(file)\n",
        "\n",
        "pred_xgb = xgb.predict(X_test)"
      ]
    },
    {
      "cell_type": "code",
      "execution_count": null,
      "metadata": {
        "id": "gXdISuZ867VN"
      },
      "outputs": [],
      "source": [
        ""
      ]
    },
    {
      "cell_type": "markdown",
      "source": [
        "#### AUC_ROC Scores of Test set"
      ],
      "metadata": {
        "id": "r5mVnciyWnwR"
      }
    },
    {
      "cell_type": "code",
      "source": [
        "from sklearn.metrics import roc_auc_score\n",
        "print(np.mean(roc_auc_score(Y_test, pred_logit)))\n",
        "print(np.mean(roc_auc_score(Y_test, pred_svm)))\n",
        "print(np.mean(roc_auc_score(Y_test, pred_svm1)))\n",
        "print(np.mean(roc_auc_score(Y_test, pred_clf)))\n",
        "print(np.mean(roc_auc_score(Y_test, pred_rfc)))\n",
        "print(np.mean(roc_auc_score(Y_test, pred_rfc1)))\n",
        "print(np.mean(roc_auc_score(Y_test, pred_rfc2)))\n",
        "print(np.mean(roc_auc_score(Y_test, pred_xgb)))"
      ],
      "metadata": {
        "colab": {
          "base_uri": "https://localhost:8080/"
        },
        "id": "wic814QfXY16",
        "outputId": "d54ad6bb-a93a-4e94-8b56-f99f8662e413"
      },
      "execution_count": null,
      "outputs": [
        {
          "output_type": "stream",
          "name": "stdout",
          "text": [
            "0.9930364649452806\n",
            "0.9934891966634294\n",
            "0.9931854074534726\n",
            "0.9791330116101353\n",
            "0.9928520972756483\n",
            "0.9931676948727521\n",
            "0.9936204265909011\n",
            "0.9815351419907815\n"
          ]
        }
      ]
    },
    {
      "cell_type": "code",
      "execution_count": null,
      "metadata": {
        "colab": {
          "base_uri": "https://localhost:8080/"
        },
        "id": "G6zbAJSFmSeQ",
        "outputId": "37c0e283-1db8-4e78-b094-09d7852e0f19"
      },
      "outputs": [
        {
          "name": "stdout",
          "output_type": "stream",
          "text": [
            "0.9996610049247384\n",
            "0.9979429304988727\n",
            "0.9996802645834573\n",
            "0.9805742283463712\n",
            "0.9997914346605259\n",
            "0.9998871844697147\n",
            "0.9998871844697147\n",
            "0.9837443464050952\n"
          ]
        }
      ],
      "source": [
        ""
      ]
    },
    {
      "cell_type": "code",
      "execution_count": null,
      "metadata": {
        "colab": {
          "base_uri": "https://localhost:8080/"
        },
        "id": "PWnK9JxXp0Vw",
        "outputId": "7274b8b4-3147-4280-981d-e1396395470f"
      },
      "outputs": [
        {
          "name": "stdout",
          "output_type": "stream",
          "text": [
            "Cross-validation mean auc 99.94%, std 0.02.\n"
          ]
        }
      ],
      "source": [
        ""
      ]
    },
    {
      "cell_type": "code",
      "execution_count": null,
      "metadata": {
        "colab": {
          "base_uri": "https://localhost:8080/"
        },
        "id": "w7oCwKOLqj58",
        "outputId": "dd177fd0-32d7-4a00-8c86-195d8d82f01e"
      },
      "outputs": [
        {
          "metadata": {
            "tags": null
          },
          "name": "stdout",
          "output_type": "stream",
          "text": [
            "Cross-validation SVM mean auc 99.94%, std 0.02.\n",
            "Cross-validation SVM mean auc 99.93%, std 0.03.\n",
            "Cross-validation SVM1 mean auc 99.90%, std 0.03.\n",
            "Cross-validation CLF mean auc 99.69%, std 0.05.\n",
            "Cross-validation RFC mean auc 99.91%, std 0.02.\n",
            "Cross-validation RFC1 mean auc 99.94%, std 0.02.\n"
          ]
        },
        {
          "metadata": {
            "tags": null
          },
          "name": "stderr",
          "output_type": "stream",
          "text": [
            "/usr/local/lib/python3.7/dist-packages/joblib/externals/loky/process_executor.py:705: UserWarning: A worker stopped while some jobs were given to the executor. This can be caused by a too short worker timeout or by a memory leak.\n",
            "  \"timeout or by a memory leak.\", UserWarning\n"
          ]
        },
        {
          "output_type": "stream",
          "name": "stdout",
          "text": [
            "Cross-validation RFC2 mean auc 99.95%, std 0.01.\n"
          ]
        },
        {
          "output_type": "stream",
          "name": "stderr",
          "text": [
            "/usr/local/lib/python3.7/dist-packages/joblib/externals/loky/process_executor.py:705: UserWarning: A worker stopped while some jobs were given to the executor. This can be caused by a too short worker timeout or by a memory leak.\n",
            "  \"timeout or by a memory leak.\", UserWarning\n"
          ]
        },
        {
          "output_type": "stream",
          "name": "stdout",
          "text": [
            "Cross-validation XGB mean auc 99.80%, std 0.03.\n"
          ]
        }
      ],
      "source": [
        "from sklearn.model_selection import cross_val_score\n",
        "log = LogisticRegression(C=10.0,solver='liblinear')\n",
        "sv = LinearSVC(C=1.0)\n",
        "sv1 = LinearSVC(C=10.0)\n",
        "cl = MultinomialNB()\n",
        "rf = RandomForestClassifier(random_state=40,n_estimators=20)\n",
        "rf1 = RandomForestClassifier(random_state=40,n_estimators=100)\n",
        "rf2 = RandomForestClassifier(random_state=40,n_estimators=1000)\n",
        "xgboost = XGBClassifier()\n",
        "\n",
        "scores = cross_val_score(log, x_train, y_train, scoring='roc_auc', n_jobs=-1, cv=10)\n",
        "print('Cross-validation SVM mean auc {0:.2f}%, std {1:.2f}.'.format(np.mean(scores) * 100, np.std(scores) * 100))\n",
        "scores = cross_val_score(sv, x_train, y_train, scoring='roc_auc', n_jobs=-1, cv=10)\n",
        "print('Cross-validation SVM mean auc {0:.2f}%, std {1:.2f}.'.format(np.mean(scores) * 100, np.std(scores) * 100))\n",
        "scores = cross_val_score(sv1, x_train, y_train, scoring='roc_auc', n_jobs=-1, cv=10)\n",
        "print('Cross-validation SVM1 mean auc {0:.2f}%, std {1:.2f}.'.format(np.mean(scores) * 100, np.std(scores) * 100))\n",
        "scores = cross_val_score(cl, x_train, y_train, scoring='roc_auc', n_jobs=-1, cv=10)\n",
        "print('Cross-validation CLF mean auc {0:.2f}%, std {1:.2f}.'.format(np.mean(scores) * 100, np.std(scores) * 100))\n",
        "scores = cross_val_score(rf, x_train, y_train, scoring='roc_auc', n_jobs=-1, cv=10)\n",
        "print('Cross-validation RFC mean auc {0:.2f}%, std {1:.2f}.'.format(np.mean(scores) * 100, np.std(scores) * 100))\n",
        "scores = cross_val_score(rf1, x_train, y_train, scoring='roc_auc', n_jobs=-1, cv=10)\n",
        "print('Cross-validation RFC1 mean auc {0:.2f}%, std {1:.2f}.'.format(np.mean(scores) * 100, np.std(scores) * 100))\n",
        "scores = cross_val_score(rf2, x_train, y_train, scoring='roc_auc', n_jobs=-1, cv=10)\n",
        "print('Cross-validation RFC2 mean auc {0:.2f}%, std {1:.2f}.'.format(np.mean(scores) * 100, np.std(scores) * 100))\n",
        "scores = cross_val_score(xgboost, x_train, y_train, scoring='roc_auc', n_jobs=-1, cv=10)\n",
        "print('Cross-validation XGB mean auc {0:.2f}%, std {1:.2f}.'.format(np.mean(scores) * 100, np.std(scores) * 100))"
      ]
    },
    {
      "cell_type": "code",
      "source": [
        "from sklearn.metrics import roc_auc_score\n",
        "pr_tr_logit = logreg.predict(X_train)\n",
        "pr_tr_svm = svm.predict(X_train)\n",
        "pr_tr_svm1 = svm1.predict(X_train)\n",
        "pr_tr_clf = clf.predict(X_train)\n",
        "pr_tr_rfc = rfc.predict(X_train)\n",
        "pr_tr_rfc1 = rfc1.predict(X_train)\n",
        "pr_tr_rfc2 = rfc2.predict(X_train)\n",
        "pr_tr_xgb = xgb.predict(X_train)\n",
        "\n",
        "print(np.mean(roc_auc_score(Y_train, pr_tr_logit)))\n",
        "print(np.mean(roc_auc_score(Y_train, pr_tr_svm)))\n",
        "print(np.mean(roc_auc_score(Y_train, pr_tr_svm1)))\n",
        "print(np.mean(roc_auc_score(Y_train, pr_tr_clf)))\n",
        "print(np.mean(roc_auc_score(Y_train, pr_tr_rfc)))\n",
        "print(np.mean(roc_auc_score(Y_train, pr_tr_rfc1)))\n",
        "print(np.mean(roc_auc_score(Y_train, pr_tr_rfc2)))\n",
        "print(np.mean(roc_auc_score(Y_train, pr_tr_xgb)))"
      ],
      "metadata": {
        "id": "U2tp7TDv2VDC"
      },
      "execution_count": null,
      "outputs": []
    },
    {
      "cell_type": "code",
      "execution_count": null,
      "metadata": {
        "id": "_K6jUzwQec_U",
        "colab": {
          "base_uri": "https://localhost:8080/"
        },
        "outputId": "35fdabc9-b20c-4174-e4bc-b3accbbddd2f"
      },
      "outputs": [
        {
          "output_type": "stream",
          "name": "stdout",
          "text": [
            "0.9995143800785865 0.9988377041432587 0.9990358175135541 0.9992521047296927 0.996230818174547 0.9977449209405417\n"
          ]
        }
      ],
      "source": [
        "# predict probabilities\n",
        "pred_prob_logr = logr.predict_proba(X_test)\n",
        "#pred_prob_svm = svm.predict_proba(X_test)\n",
        "#pred_prob_svm1 = svm1.predict_proba(X_test)\n",
        "pred_prob_rfc = rfc.predict_proba(X_test)\n",
        "pred_prob_rfc1 = rfc1.predict_proba(X_test)\n",
        "pred_prob_rfc2 = rfc2.predict_proba(X_test)\n",
        "pred_prob_clf = clf.predict_proba(X_test)\n",
        "pred_prob_xgb = xgb.predict_proba(X_test)\n",
        "\n",
        "\n",
        "from sklearn.metrics import roc_auc_score\n",
        "\n",
        "# auc scores\n",
        "auc_score1 = roc_auc_score(Y_test, pred_prob_logr[:,1])\n",
        "#auc_score2 = roc_auc_score(y_test, pred_prob_svm[:,1])\n",
        "#auc_score3 = roc_auc_score(y_test, pred_prob_svm1[:,1])\n",
        "auc_score4 = roc_auc_score(Y_test, pred_prob_rfc[:,1])\n",
        "auc_score5 = roc_auc_score(Y_test, pred_prob_rfc1[:,1])\n",
        "auc_score6 = roc_auc_score(Y_test, pred_prob_rfc2[:,1])\n",
        "auc_score7 = roc_auc_score(Y_test, pred_prob_clf[:,1])\n",
        "auc_score8 = roc_auc_score(Y_test, pred_prob_xgb[:,1])\n",
        "print(auc_score1,auc_score4,auc_score5,auc_score6,auc_score7,auc_score8)"
      ]
    },
    {
      "cell_type": "code",
      "execution_count": null,
      "metadata": {
        "colab": {
          "base_uri": "https://localhost:8080/",
          "height": 376
        },
        "id": "aBv4JHzFf4t1",
        "outputId": "be25ecc8-6aa0-4fcc-db66-cb0ca201174c"
      },
      "outputs": [
        {
          "output_type": "display_data",
          "data": {
            "image/png": "[encoded data removed]",
            "text/plain": [
              "<Figure size 576x396 with 1 Axes>"
            ]
          },
          "metadata": {}
        }
      ],
      "source": [
        "\n",
        "# matplotlib\n",
        "import matplotlib.pyplot as plt\n",
        "plt.style.use('seaborn')\n",
        "\n",
        "from sklearn.metrics import roc_curve\n",
        "\n",
        "# roc curve for models\n",
        "fpr1, tpr1,thresh1  = roc_curve(Y_test, pred_prob_logr[:,1])\n",
        "fpr2, tpr2,thresh2 = roc_curve(Y_test, pred_prob_logr[:,1])\n",
        "fpr3, tpr3,thresh3 = roc_curve(Y_test, pred_prob_logr[:,1])\n",
        "fpr42, tpr42,thresh42 = roc_curve(Y_test, pred_prob_logr[:,1])\n",
        "fpr5, tpr5,thresh5 = roc_curve(Y_test, pred_prob_logr[:,1])\n",
        "\n",
        "# plot roc curves\n",
        "plt.plot(fpr1, tpr1, linestyle='--',color='blue', label='Logistic Regression')\n",
        "plt.plot(fpr2, tpr2, linestyle='--',color='red', label='SVM')\n",
        "plt.plot(fpr3, tpr3, linestyle='--',color='yellow', label='Naive Bayes')\n",
        "plt.plot(fpr42, tpr42, linestyle='--',color='green', label='Random Forest2')\n",
        "plt.plot(fpr5, tpr5, linestyle='--',color='cyan', label='XGBOOST')\n",
        "#plt.plot(p_fpr, p_tpr, linestyle='--', color='blue')\n",
        "# title\n",
        "plt.title('ROC curve')\n",
        "# x label\n",
        "plt.xlabel('False Positive Rate')\n",
        "# y label\n",
        "plt.ylabel('True Positive rate')\n",
        "\n",
        "plt.legend(loc='best')\n",
        "plt.savefig('ROC',dpi=300)\n",
        "plt.show();"
      ]
    },
    {
      "cell_type": "markdown",
      "metadata": {
        "id": "1LAi-LCzfiV3"
      },
      "source": [
        "### Classification Report for all 4 Algorithms"
      ]
    },
    {
      "cell_type": "code",
      "execution_count": null,
      "metadata": {
        "id": "kV01oispHyu8"
      },
      "outputs": [],
      "source": [
        "from sklearn.metrics import f1_score, classification_report\n",
        "def classification_repo(true,pred,st):\n",
        "  print(st)\n",
        "  print(classification_report(true,pred))\n"
      ]
    },
    {
      "cell_type": "code",
      "execution_count": null,
      "metadata": {
        "colab": {
          "base_uri": "https://localhost:8080/"
        },
        "id": "-ZNHgKxKfiV3",
        "outputId": "4452e44f-2c1f-4f5c-9784-22f87a455774"
      },
      "outputs": [
        {
          "output_type": "stream",
          "name": "stdout",
          "text": [
            "Logistic Regression\n",
            "              precision    recall  f1-score   support\n",
            "\n",
            "       False       0.99      0.99      0.99      3357\n",
            "        True       0.99      0.99      0.99      3229\n",
            "\n",
            "    accuracy                           0.99      6586\n",
            "   macro avg       0.99      0.99      0.99      6586\n",
            "weighted avg       0.99      0.99      0.99      6586\n",
            "\n",
            "\n",
            "\n",
            "SVM\n",
            "              precision    recall  f1-score   support\n",
            "\n",
            "       False       0.99      0.99      0.99      3357\n",
            "        True       0.99      0.99      0.99      3229\n",
            "\n",
            "    accuracy                           0.99      6586\n",
            "   macro avg       0.99      0.99      0.99      6586\n",
            "weighted avg       0.99      0.99      0.99      6586\n",
            "\n",
            "\n",
            "\n",
            "SVM1\n",
            "              precision    recall  f1-score   support\n",
            "\n",
            "       False       0.99      0.99      0.99      3357\n",
            "        True       0.99      0.99      0.99      3229\n",
            "\n",
            "    accuracy                           0.99      6586\n",
            "   macro avg       0.99      0.99      0.99      6586\n",
            "weighted avg       0.99      0.99      0.99      6586\n",
            "\n",
            "\n",
            "\n",
            "Naive Bayes\n",
            "              precision    recall  f1-score   support\n",
            "\n",
            "       False       0.98      0.97      0.98      3357\n",
            "        True       0.97      0.98      0.98      3229\n",
            "\n",
            "    accuracy                           0.98      6586\n",
            "   macro avg       0.98      0.98      0.98      6586\n",
            "weighted avg       0.98      0.98      0.98      6586\n",
            "\n",
            "\n",
            "\n",
            "RandomForest\n",
            "              precision    recall  f1-score   support\n",
            "\n",
            "       False       0.99      0.99      0.99      3357\n",
            "        True       0.99      0.99      0.99      3229\n",
            "\n",
            "    accuracy                           0.99      6586\n",
            "   macro avg       0.99      0.99      0.99      6586\n",
            "weighted avg       0.99      0.99      0.99      6586\n",
            "\n",
            "\n",
            "\n",
            "RandomForest1\n",
            "              precision    recall  f1-score   support\n",
            "\n",
            "       False       0.99      0.99      0.99      3357\n",
            "        True       0.99      0.99      0.99      3229\n",
            "\n",
            "    accuracy                           0.99      6586\n",
            "   macro avg       0.99      0.99      0.99      6586\n",
            "weighted avg       0.99      0.99      0.99      6586\n",
            "\n",
            "\n",
            "\n",
            "RandomForest2\n",
            "              precision    recall  f1-score   support\n",
            "\n",
            "       False       0.99      0.99      0.99      3357\n",
            "        True       0.99      0.99      0.99      3229\n",
            "\n",
            "    accuracy                           0.99      6586\n",
            "   macro avg       0.99      0.99      0.99      6586\n",
            "weighted avg       0.99      0.99      0.99      6586\n",
            "\n",
            "\n",
            "\n",
            "XGBoost\n",
            "              precision    recall  f1-score   support\n",
            "\n",
            "       False       0.98      0.99      0.98      3357\n",
            "        True       0.99      0.98      0.98      3229\n",
            "\n",
            "    accuracy                           0.98      6586\n",
            "   macro avg       0.98      0.98      0.98      6586\n",
            "weighted avg       0.98      0.98      0.98      6586\n",
            "\n"
          ]
        }
      ],
      "source": [
        "classification_repo(Y_test,pred_logit,\"Logistic Regression\")\n",
        "print(\"\\n\")\n",
        "classification_repo(Y_test,pred_svm,\"SVM\")\n",
        "print(\"\\n\")\n",
        "classification_repo(Y_test,pred_svm1,\"SVM1\")\n",
        "print(\"\\n\")\n",
        "classification_repo(Y_test,pred_clf,\"Naive Bayes\")\n",
        "print(\"\\n\")\n",
        "classification_repo(Y_test,pred_rfc,\"RandomForest\")\n",
        "print(\"\\n\")\n",
        "classification_repo(Y_test,pred_rfc1,\"RandomForest1\")\n",
        "print(\"\\n\")\n",
        "classification_repo(Y_test,pred_rfc2,\"RandomForest2\")\n",
        "print(\"\\n\")\n",
        "classification_repo(Y_test,pred_xgb,\"XGBoost\")\n",
        "#print(classification_report(y_test,pred_logit))"
      ]
    },
    {
      "cell_type": "markdown",
      "metadata": {
        "id": "odtNBRAQfiV4"
      },
      "source": [
        "### Precision, Recall, F1 Score Metrics of all 5 Algorithms"
      ]
    },
    {
      "cell_type": "code",
      "execution_count": null,
      "metadata": {
        "id": "nBIt01fNfiV4"
      },
      "outputs": [],
      "source": [
        "from sklearn.metrics import accuracy_score, confusion_matrix, roc_curve, roc_auc_score, recall_score, precision_score\n",
        "from sklearn.metrics import f1_score, classification_report\n",
        "\n",
        "def Prf1(true,pred,st):\n",
        "  print(st)\n",
        "  print(\"\\n\")\n",
        "  print(\"Precision Score : \",precision_score(true,pred))\n",
        "  print(\"Recall Score    : \",recall_score(true,pred))\n",
        "  print(\"F1 Score        : \",f1_score(true,pred))\n"
      ]
    },
    {
      "cell_type": "code",
      "execution_count": null,
      "metadata": {
        "colab": {
          "base_uri": "https://localhost:8080/"
        },
        "id": "WcATvcIXl5vU",
        "outputId": "5fc144b8-3ebe-473a-8586-730d95f63f08"
      },
      "outputs": [
        {
          "output_type": "stream",
          "name": "stdout",
          "text": [
            "Logistic Regression\n",
            "\n",
            "\n",
            "Precision Score :  0.9978348283328178\n",
            "Recall Score    :  0.9993804213135068\n",
            "F1 Score        :  0.9986070267760407\n",
            "\n",
            "\n",
            "SVM\n",
            "\n",
            "\n",
            "Precision Score :  0.9969059405940595\n",
            "Recall Score    :  0.9981412639405205\n",
            "F1 Score        :  0.9975232198142415\n",
            "\n",
            "\n",
            "SVM1\n",
            "\n",
            "\n",
            "Precision Score :  0.9984520123839009\n",
            "Recall Score    :  0.9990706319702602\n",
            "F1 Score        :  0.998761226385878\n",
            "\n",
            "\n",
            "Naive Bayes\n",
            "\n",
            "\n",
            "Precision Score :  0.9783683559950557\n",
            "Recall Score    :  0.9807930607187113\n",
            "F1 Score        :  0.9795792079207921\n",
            "\n",
            "\n",
            "RandomForest\n",
            "\n",
            "\n",
            "Precision Score :  0.9975239863819251\n",
            "Recall Score    :  0.998451053283767\n",
            "F1 Score        :  0.9979873045363059\n",
            "\n",
            "\n",
            "RandomForest1\n",
            "\n",
            "\n",
            "Precision Score :  0.9981435643564357\n",
            "Recall Score    :  0.9993804213135068\n",
            "F1 Score        :  0.9987616099071207\n",
            "\n",
            "\n",
            "XGB\n",
            "\n",
            "\n",
            "Precision Score :  0.9905778894472361\n",
            "Recall Score    :  0.9770755885997522\n",
            "F1 Score        :  0.98378041172801\n",
            "\n",
            "\n"
          ]
        }
      ],
      "source": [
        "Prf1(Y_test,pred_logit,\"Logistic Regression\")\n",
        "print(\"\\n\")\n",
        "Prf1(Y_test,pred_svm,\"SVM\")\n",
        "print(\"\\n\")\n",
        "Prf1(Y_test,pred_svm1,\"SVM1\")\n",
        "print(\"\\n\")\n",
        "Prf1(Y_test,pred_clf,\"Naive Bayes\")\n",
        "print(\"\\n\")\n",
        "Prf1(Y_test,pred_rfc,\"RandomForest\")\n",
        "print(\"\\n\")\n",
        "Prf1(Y_test,pred_rfc1,\"RandomForest1\")\n",
        "print(\"\\n\")\n",
        "#Prf1(Y_test,pred_rfc2,\"RandomForest2\")\n",
        "#print(\"\\n\")\n",
        "Prf1(Y_test,pred_xgb,\"XGB\")\n",
        "print(\"\\n\")"
      ]
    },
    {
      "cell_type": "markdown",
      "metadata": {
        "id": "VTDjWhVam_rO"
      },
      "source": [
        "#### Confusion Matrix"
      ]
    },
    {
      "cell_type": "code",
      "execution_count": null,
      "metadata": {
        "id": "UV-4nX1InE4W"
      },
      "outputs": [],
      "source": [
        "from sklearn.metrics import confusion_matrix\n",
        "\n",
        "def cf_matrix(true,pred,st):\n",
        "  print(st)\n",
        "  conf_matrix = confusion_matrix(true,pred)\n",
        "  #print(conf_matrix)\n",
        "  f, ax=plt.subplots(figsize=(6,5))\n",
        "  sns.heatmap(conf_matrix,annot=True,linewidths=0.5,fmt=\".0f\",ax=ax)\n",
        "  plt.xlabel(\"Predicted\")\n",
        "  plt.ylabel(\"True\")\n",
        "  plt.show()"
      ]
    },
    {
      "cell_type": "code",
      "execution_count": null,
      "metadata": {
        "colab": {
          "base_uri": "https://localhost:8080/",
          "height": 1000
        },
        "id": "z5UymW3FnNTz",
        "outputId": "22fdac0d-e590-407a-f591-9cbc039e0e54"
      },
      "outputs": [
        {
          "output_type": "stream",
          "name": "stdout",
          "text": [
            "Logistic Regression\n"
          ]
        },
        {
          "output_type": "display_data",
          "data": {
            "image/png": "[encoded data removed]",
            "text/plain": [
              "<Figure size 432x360 with 2 Axes>"
            ]
          },
          "metadata": {}
        },
        {
          "output_type": "stream",
          "name": "stdout",
          "text": [
            "\n",
            "\n",
            "SVM\n"
          ]
        },
        {
          "output_type": "display_data",
          "data": {
            "image/png": "[encoded data removed]",
            "text/plain": [
              "<Figure size 432x360 with 2 Axes>"
            ]
          },
          "metadata": {}
        },
        {
          "output_type": "stream",
          "name": "stdout",
          "text": [
            "\n",
            "\n",
            "SVM1\n"
          ]
        },
        {
          "output_type": "display_data",
          "data": {
            "image/png": "[encoded data removed]",
            "text/plain": [
              "<Figure size 432x360 with 2 Axes>"
            ]
          },
          "metadata": {}
        },
        {
          "output_type": "stream",
          "name": "stdout",
          "text": [
            "\n",
            "\n",
            "Naive Bayes\n"
          ]
        },
        {
          "output_type": "display_data",
          "data": {
            "image/png": "[encoded data removed]",
            "text/plain": [
              "<Figure size 432x360 with 2 Axes>"
            ]
          },
          "metadata": {}
        },
        {
          "output_type": "stream",
          "name": "stdout",
          "text": [
            "\n",
            "\n",
            "Random Forest\n"
          ]
        },
        {
          "output_type": "display_data",
          "data": {
            "image/png": "[encoded data removed]",
            "text/plain": [
              "<Figure size 432x360 with 2 Axes>"
            ]
          },
          "metadata": {}
        },
        {
          "output_type": "stream",
          "name": "stdout",
          "text": [
            "\n",
            "\n",
            "Random Forest1\n"
          ]
        },
        {
          "output_type": "display_data",
          "data": {
            "image/png": "[encoded data removed]",
            "text/plain": [
              "<Figure size 432x360 with 2 Axes>"
            ]
          },
          "metadata": {}
        },
        {
          "output_type": "stream",
          "name": "stdout",
          "text": [
            "\n",
            "\n",
            "Random Forest2\n"
          ]
        },
        {
          "output_type": "display_data",
          "data": {
            "image/png": "[encoded data removed]",
            "text/plain": [
              "<Figure size 432x360 with 2 Axes>"
            ]
          },
          "metadata": {}
        },
        {
          "output_type": "stream",
          "name": "stdout",
          "text": [
            "\n",
            "\n",
            "XGBoost\n"
          ]
        },
        {
          "output_type": "display_data",
          "data": {
            "image/png": "[encoded data removed]",
            "text/plain": [
              "<Figure size 432x360 with 2 Axes>"
            ]
          },
          "metadata": {}
        }
      ],
      "source": [
        "cf_matrix(Y_test,pred_logit,\"Logistic Regression\")\n",
        "print(\"\\n\")\n",
        "cf_matrix(Y_test,pred_svm,\"SVM\")\n",
        "print(\"\\n\")\n",
        "cf_matrix(Y_test,pred_svm1,\"SVM1\")\n",
        "print(\"\\n\")\n",
        "cf_matrix(Y_test,pred_clf,\"Naive Bayes\")\n",
        "print(\"\\n\")\n",
        "cf_matrix(Y_test,pred_rfc,\"Random Forest\")\n",
        "print(\"\\n\")\n",
        "cf_matrix(Y_test,pred_rfc1,\"Random Forest1\")\n",
        "print(\"\\n\")\n",
        "cf_matrix(Y_test,pred_rfc2,\"Random Forest2\")\n",
        "print(\"\\n\")\n",
        "cf_matrix(Y_test,pred_xgb,\"XGBoost\")"
      ]
    },
    {
      "cell_type": "code",
      "execution_count": null,
      "metadata": {
        "id": "3r-2sCcjPj7_"
      },
      "outputs": [],
      "source": [
        ""
      ]
    },
    {
      "cell_type": "markdown",
      "metadata": {
        "id": "A4pfRwMltxi8"
      },
      "source": [
        ""
      ]
    },
    {
      "cell_type": "markdown",
      "metadata": {
        "id": "MjOLUASbfiV5"
      },
      "source": [
        "### Predict Function"
      ]
    },
    {
      "cell_type": "code",
      "execution_count": null,
      "metadata": {
        "id": "yOXfa1fZuwi1"
      },
      "outputs": [],
      "source": [
        ""
      ]
    },
    {
      "cell_type": "code",
      "execution_count": null,
      "metadata": {
        "id": "MHTeQHp2fiV5"
      },
      "outputs": [],
      "source": [
        "def Predict(request,label):\n",
        "    t = vectorizer.transform(request)\n",
        "    pred = svm1.predict(t)\n",
        "    pred1 = rfc2.predict(t)\n",
        "    pred2 = logreg.predict(t)\n",
        "    pred3 = xgb.predict(t)\n",
        "    pred4 = clf.predict(t)\n",
        "    \n",
        "    print(\"API Requests Malicious: 1, Normal: 0\\n\")\n",
        "    print(\"Using SVM Prediction: \",pred,\"Original label: \",label)\n",
        "    print(\"Using RandomForest Prediction: \",pred1,\"Original label: \",label)\n",
        "    print(\"Using Logit Prediction: \",pred2,\"Original label: \",label)\n",
        "    print(\"Using XGBoost Prediction: \",pred3,\"Original label: \",label)\n",
        "    print(\"Using NB Prediction: \",pred4,\"Original label: \",label)\n",
        "    \n",
        "    print(\"\\n\")"
      ]
    },
    {
      "cell_type": "markdown",
      "metadata": {
        "id": "7lNaflDSfiV5"
      },
      "source": [
        "### API Requests for Prediction"
      ]
    },
    {
      "cell_type": "code",
      "execution_count": null,
      "metadata": {
        "id": "qTinsCoJfiV6"
      },
      "outputs": [],
      "source": [
        "# API Requests for Prediction\n",
        "q1 = ['b\"\\' and/**/38>( select\\\\t(622)/**/from/*362 emhgpv gpnqdn odpxkn qgnoyb */htipaw)\"']\n",
        "q2 = [\"b'If at least one response to *Race* (*American Indian or Alaskan Native* (RACE_AMERICAN), *Asian* (RACE_ASIAN), *Black or African American* (RACE_BLACK), *Native Hawaiian or Other Pacific Islander* (RACE_HAWAIIAN), *Caucasian* (RACE_WHITE), Hispanic or Latino (RACE_HIS), *Other* (RACE_OTHER)) is not checked, trigger auto-query: Race/Ethnic Origin is missing. Please provide a response.'\"]\n",
        "q3 =  [\"b'kEC+oNOwUkgJOk4bn7Jm9wOWOT6V ... f9g='\"]\n",
        "q4 = ['b\\'nhnqag\" uniondistinct--154 298 plhlre exaloq unyote \\\\r(select (rpfeir#15 256 15 rttlat 66 gsjxjq 44 819 \\\\r()), kuoopt(), (#\\\\rvxhuha), (116), (--kfbvww 193 \\\\r\"mkhkjq\"), 271, (omqjmj), gvdira--\\\\r((--\\\\r325), --mcrgew oqrhwp jhseux 55 xpayss 88 \\\\rfctnjs (), (794), 3, #58 14 114 vdqoyq \\\\r\\\\\\'apxkvx\\\\\\', (\\\\tmhjblm())), #yxnynl \\\\r\"lllpue\"/**/from#\\\\rexample.example)\\'']"
      ]
    },
    {
      "cell_type": "markdown",
      "metadata": {
        "id": "Z6Q0x5qefiV6"
      },
      "source": [
        "### Predictions"
      ]
    },
    {
      "cell_type": "code",
      "execution_count": null,
      "metadata": {
        "id": "aY1si8U6fiV6"
      },
      "outputs": [],
      "source": [
        "Predict(q1,1)\n",
        "Predict(q2,0)\n",
        "Predict(q2,0)\n",
        "Predict(q4,1)"
      ]
    },
    {
      "cell_type": "code",
      "execution_count": null,
      "metadata": {
        "id": "It0NOvakfiV6"
      },
      "outputs": [],
      "source": [
        ""
      ]
    },
    {
      "cell_type": "code",
      "execution_count": null,
      "metadata": {
        "id": "QvWvxKR6fiV7"
      },
      "outputs": [],
      "source": [
        "'b\"\\' and/**/38>( select\\\\t(622)/**/from/*362 emhgpv gpnqdn odpxkn qgnoyb */htipaw)\"'\n",
        "'b\\'ru1527924556435\" UNION SELECT CHAR(78,655,28,88,91,84),CHAR(68,568,67,78,68,22),CHAR(35,976,31,53,58,71),CHAR(18,274,61,55,47,29),CHAR(86,288,54,66,82,56),CHAR(25,283,39,85,96,52),CHAR(54,757,25,79,72,39),CHAR(15,186,86,45,78,73),CHAR(84,572,86,31,89,98) -- /* order by \"as /*\\''\n",
        "'b\\'nhnqag\" uniondistinct--154 298 plhlre exaloq unyote \\\\r(select (rpfeir#15 256 15 rttlat 66 gsjxjq 44 819 \\\\r()), kuoopt(), (#\\\\rvxhuha), (116), (--kfbvww 193 \\\\r\"mkhkjq\"), 271, (omqjmj), gvdira--\\\\r((--\\\\r325), --mcrgew oqrhwp jhseux 55 xpayss 88 \\\\rfctnjs (), (794), 3, #58 14 114 vdqoyq \\\\r\\\\\\'apxkvx\\\\\\', (\\\\tmhjblm())), #yxnynl \\\\r\"lllpue\"/**/from#\\\\rexample.example)\\''\n",
        "\n",
        "\"b'If at least one response to *Race* (*American Indian or Alaskan Native* (RACE_AMERICAN), *Asian* (RACE_ASIAN), *Black or African American* (RACE_BLACK), *Native Hawaiian or Other Pacific Islander* (RACE_HAWAIIAN), *Caucasian* (RACE_WHITE), Hispanic or Latino (RACE_HIS), *Other* (RACE_OTHER)) is not checked, trigger auto-query: Race/Ethnic Origin is missing. Please provide a response.'\"\n",
        "\"b'/handler_sync_example.example?i=j4sR/mhZpekzcpKcC5cUoFHo5e42TQeA6YzVZuR3mhhuaivOgsA/oncCkpo='\"\n",
        "\"b'kEC+oNOwUkgJOk4bn7Jm9wOWOT6V ... f9g='\"\n",
        "\"b'https://example.example.ru/krasota/massage/?seamless=7&tabName=ORDER#'\""
      ]
    }
  ],
  "metadata": {
    "colab": {
      "collapsed_sections": [],
      "name": "Malicious Injections Detection in API Requests.ipynb",
      "provenance": []
    },
    "kernelspec": {
      "display_name": "Python 3",
      "language": "python",
      "name": "python3"
    },
    "language_info": {
      "codemirror_mode": {
        "name": "ipython",
        "version": 3
      },
      "file_extension": ".py",
      "mimetype": "text/x-python",
      "name": "python",
      "nbconvert_exporter": "python",
      "pygments_lexer": "ipython3",
      "version": "3.7.3"
    }
  },
  "nbformat": 4,
  "nbformat_minor": 0
}